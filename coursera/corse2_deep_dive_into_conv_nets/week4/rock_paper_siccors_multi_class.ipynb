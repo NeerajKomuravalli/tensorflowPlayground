{
 "metadata": {
  "language_info": {
   "codemirror_mode": {
    "name": "ipython",
    "version": 3
   },
   "file_extension": ".py",
   "mimetype": "text/x-python",
   "name": "python",
   "nbconvert_exporter": "python",
   "pygments_lexer": "ipython3",
   "version": "3.8.2"
  },
  "orig_nbformat": 2,
  "kernelspec": {
   "name": "python382jvsc74a57bd0c05f7f5b7449b362e25f922c76429131874e0839c45bc04f41f76db7906a2c56",
   "display_name": "Python 3.8.2 64-bit ('coursera_tensorflow_venv': venv)"
  }
 },
 "nbformat": 4,
 "nbformat_minor": 2,
 "cells": [
  {
   "source": [
    "# Get data"
   ],
   "cell_type": "markdown",
   "metadata": {}
  },
  {
   "cell_type": "code",
   "execution_count": 1,
   "metadata": {},
   "outputs": [
    {
     "output_type": "stream",
     "name": "stdout",
     "text": [
      "--2021-05-18 21:46:50--  https://storage.googleapis.com/laurencemoroney-blog.appspot.com/rps.zip\n",
      "Resolving storage.googleapis.com (storage.googleapis.com)... 142.250.195.176, 142.250.195.240, 142.250.71.16, ...\n",
      "Connecting to storage.googleapis.com (storage.googleapis.com)|142.250.195.176|:443... connected.\n",
      "HTTP request sent, awaiting response... 200 OK\n",
      "Length: 200682221 (191M) [application/zip]\n",
      "Saving to: ‘./Data/rps.zip’\n",
      "\n",
      "./Data/rps.zip      100%[===================>] 191.38M  2.26MB/s    in 82s     \n",
      "\n",
      "2021-05-18 21:48:13 (2.33 MB/s) - ‘./Data/rps.zip’ saved [200682221/200682221]\n",
      "\n",
      "--2021-05-18 21:48:13--  https://storage.googleapis.com/laurencemoroney-blog.appspot.com/rps-test-set.zip\n",
      "Resolving storage.googleapis.com (storage.googleapis.com)... 142.250.195.48, 142.250.195.112, 142.250.196.80, ...\n",
      "Connecting to storage.googleapis.com (storage.googleapis.com)|142.250.195.48|:443... connected.\n",
      "HTTP request sent, awaiting response... 200 OK\n",
      "Length: 29516758 (28M) [application/zip]\n",
      "Saving to: ‘./Data/rps-test-set.zip’\n",
      "\n",
      "./Data/rps-test-set 100%[===================>]  28.15M   960KB/s    in 30s     \n",
      "\n",
      "2021-05-18 21:48:44 (961 KB/s) - ‘./Data/rps-test-set.zip’ saved [29516758/29516758]\n",
      "\n"
     ]
    }
   ],
   "source": [
    "!wget --no-check-certificate https://storage.googleapis.com/laurencemoroney-blog.appspot.com/rps.zip -O ./Data/rps.zip\n",
    "  \n",
    "!wget --no-check-certificate https://storage.googleapis.com/laurencemoroney-blog.appspot.com/rps-test-set.zip -O ./Data/rps-test-set.zip"
   ]
  },
  {
   "cell_type": "code",
   "execution_count": 4,
   "metadata": {},
   "outputs": [],
   "source": [
    "import os\n",
    "import zipfile\n",
    "import shutil \n",
    "\n",
    "local_zip = './Data/rps.zip'\n",
    "zip_ref = zipfile.ZipFile(local_zip, 'r')\n",
    "zip_ref.extractall('./Data/')\n",
    "zip_ref.close()\n",
    "os.remove('./Data/rps.zip')\n",
    "\n",
    "local_zip = './Data/rps-test-set.zip'\n",
    "zip_ref = zipfile.ZipFile(local_zip, 'r')\n",
    "zip_ref.extractall('./Data/')\n",
    "zip_ref.close()\n",
    "os.remove('./Data/rps-test-set.zip')"
   ]
  },
  {
   "source": [
    "# Data generator"
   ],
   "cell_type": "markdown",
   "metadata": {}
  },
  {
   "cell_type": "code",
   "execution_count": 5,
   "metadata": {},
   "outputs": [
    {
     "output_type": "stream",
     "name": "stdout",
     "text": [
      "Found 2520 images belonging to 3 classes.\nFound 372 images belonging to 3 classes.\n"
     ]
    }
   ],
   "source": [
    "from tensorflow.keras.preprocessing.image import ImageDataGenerator\n",
    "\n",
    "train_gen = ImageDataGenerator(rescale=1./255)\n",
    "train_datagen = train_gen.flow_from_directory(\n",
    "    \"./Data/rps\",\n",
    "    target_size=(150,150),\n",
    "    batch_size=32,\n",
    "    class_mode='categorical'\n",
    ")\n",
    "\n",
    "val_gen = ImageDataGenerator(rescale=1./255)\n",
    "val_datagen = val_gen.flow_from_directory(\n",
    "    \"./Data/rps-test-set\",\n",
    "    target_size=(150,150),\n",
    "    batch_size=32,\n",
    "    class_mode='categorical'\n",
    ")"
   ]
  },
  {
   "source": [
    "# Model defination"
   ],
   "cell_type": "markdown",
   "metadata": {}
  },
  {
   "cell_type": "code",
   "execution_count": 8,
   "metadata": {},
   "outputs": [
    {
     "output_type": "stream",
     "name": "stdout",
     "text": [
      "Model: \"sequential\"\n_________________________________________________________________\nLayer (type)                 Output Shape              Param #   \n=================================================================\nconv2d (Conv2D)              (None, 148, 148, 16)      448       \n_________________________________________________________________\nmax_pooling2d (MaxPooling2D) (None, 74, 74, 16)        0         \n_________________________________________________________________\nconv2d_1 (Conv2D)            (None, 72, 72, 32)        4640      \n_________________________________________________________________\nmax_pooling2d_1 (MaxPooling2 (None, 36, 36, 32)        0         \n_________________________________________________________________\nconv2d_2 (Conv2D)            (None, 34, 34, 64)        18496     \n_________________________________________________________________\nmax_pooling2d_2 (MaxPooling2 (None, 17, 17, 64)        0         \n_________________________________________________________________\nflatten (Flatten)            (None, 18496)             0         \n_________________________________________________________________\ndense (Dense)                (None, 512)               9470464   \n_________________________________________________________________\ndense_1 (Dense)              (None, 3)                 1539      \n=================================================================\nTotal params: 9,495,587\nTrainable params: 9,495,587\nNon-trainable params: 0\n_________________________________________________________________\n"
     ]
    }
   ],
   "source": [
    "import tensorflow as tf\n",
    "\n",
    "model = tf.keras.models.Sequential([\n",
    "    tf.keras.layers.Conv2D(16, (3,3), activation='relu', input_shape=(150, 150, 3)),\n",
    "    tf.keras.layers.MaxPool2D((2,2)),\n",
    "    tf.keras.layers.Conv2D(32, (3,3), activation='relu'),\n",
    "    tf.keras.layers.MaxPool2D((2,2)),\n",
    "    tf.keras.layers.Conv2D(64, (3,3), activation='relu'),\n",
    "    tf.keras.layers.MaxPool2D((2,2)),\n",
    "    tf.keras.layers.Flatten(),\n",
    "    tf.keras.layers.Dense(512, activation='relu'),\n",
    "    tf.keras.layers.Dense(len(os.listdir('./Data/rps/')), activation='softmax')\n",
    "])\n",
    "\n",
    "model.summary()"
   ]
  },
  {
   "cell_type": "code",
   "execution_count": 9,
   "metadata": {},
   "outputs": [],
   "source": [
    "model.compile(\n",
    "    optimizer='adam',\n",
    "    loss=\"categorical_crossentropy\",\n",
    "    metrics=[\"accuracy\"]\n",
    ")"
   ]
  },
  {
   "cell_type": "code",
   "execution_count": null,
   "metadata": {},
   "outputs": [],
   "source": [
    "history = model.fit_generator(\n",
    "    train_datagen,\n",
    "    validation_data=val_datagen,\n",
    "    epochs=2,\n",
    ")"
   ]
  },
  {
   "cell_type": "code",
   "execution_count": null,
   "metadata": {},
   "outputs": [],
   "source": [
    "import  matplotlib.pyplot as plt\n",
    "\n",
    "no_of_epochs = len(history.history[\"accuracy\"])\n",
    "epochs = range(no_of_epochs)\n",
    "plt.plot(epochs, history.history[\"accuracy\"], label=\"Training\")\n",
    "plt.plot(epochs, history.history[\"val_accuracy\"], label=\"Validation\")\n",
    "plt.title(\"Training and validation accuracy\")\n",
    "plt.legend()\n",
    "\n",
    "plt.figure()\n",
    "plt.plot(epochs, history.history[\"loss\"], label=\"Training\")\n",
    "plt.plot(epochs, history.history[\"val_loss\"], label=\"Validation\")\n",
    "plt.title(\"Training and validation loss\")\n",
    "plt.legend()"
   ]
  }
 ]
}