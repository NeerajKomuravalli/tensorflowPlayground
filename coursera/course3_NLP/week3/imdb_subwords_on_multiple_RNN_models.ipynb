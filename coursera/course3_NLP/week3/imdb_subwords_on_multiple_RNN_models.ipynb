{
 "metadata": {
  "language_info": {
   "codemirror_mode": {
    "name": "ipython",
    "version": 3
   },
   "file_extension": ".py",
   "mimetype": "text/x-python",
   "name": "python",
   "nbconvert_exporter": "python",
   "pygments_lexer": "ipython3",
   "version": "3.8.2"
  },
  "orig_nbformat": 2,
  "kernelspec": {
   "name": "python382jvsc74a57bd0c05f7f5b7449b362e25f922c76429131874e0839c45bc04f41f76db7906a2c56",
   "display_name": "Python 3.8.2 64-bit ('coursera_tensorflow_venv': venv)"
  }
 },
 "nbformat": 4,
 "nbformat_minor": 2,
 "cells": [
  {
   "source": [
    "# Get data"
   ],
   "cell_type": "markdown",
   "metadata": {}
  },
  {
   "cell_type": "code",
   "execution_count": 1,
   "metadata": {
    "tags": [
     "outputPrepend"
    ]
   },
   "outputs": [
    {
     "output_type": "stream",
     "name": "stderr",
     "text": [
      "08/50000 [01:01<00:19, 714.70 examples/s]\u001b[A\n",
      "Generating unsupervised examples...:  73%|███████▎  | 36481/50000 [01:01<00:18, 718.88 examples/s]\u001b[A\n",
      "Generating unsupervised examples...:  73%|███████▎  | 36564/50000 [01:01<00:17, 750.91 examples/s]\u001b[A\n",
      "Generating unsupervised examples...:  73%|███████▎  | 36648/50000 [01:01<00:17, 777.33 examples/s]\u001b[A\n",
      "Generating unsupervised examples...:  73%|███████▎  | 36729/50000 [01:01<00:16, 786.45 examples/s]\u001b[A\n",
      "Generating unsupervised examples...:  74%|███████▎  | 36813/50000 [01:02<00:16, 800.26 examples/s]\u001b[A\n",
      "Generating unsupervised examples...:  74%|███████▍  | 36894/50000 [01:02<00:16, 775.41 examples/s]\u001b[A\n",
      "Generating unsupervised examples...:  74%|███████▍  | 36980/50000 [01:02<00:16, 799.31 examples/s]\u001b[A\n",
      "Generating unsupervised examples...:  74%|███████▍  | 37061/50000 [01:02<00:16, 797.84 examples/s]\u001b[A\n",
      "Generating unsupervised examples...:  74%|███████▍  | 37144/50000 [01:02<00:15, 807.08 examples/s]\u001b[A\n",
      "Generating unsupervised examples...:  74%|███████▍  | 37225/50000 [01:02<00:15, 804.26 examples/s]\u001b[A\n",
      "Generating unsupervised examples...:  75%|███████▍  | 37307/50000 [01:02<00:15, 807.96 examples/s]\u001b[A\n",
      "Generating unsupervised examples...:  75%|███████▍  | 37388/50000 [01:02<00:15, 808.28 examples/s]\u001b[A\n",
      "Generating unsupervised examples...:  75%|███████▍  | 37469/50000 [01:02<00:15, 801.45 examples/s]\u001b[A\n",
      "Generating unsupervised examples...:  75%|███████▌  | 37556/50000 [01:02<00:15, 820.18 examples/s]\u001b[A\n",
      "Generating unsupervised examples...:  75%|███████▌  | 37639/50000 [01:03<00:15, 813.28 examples/s]\u001b[A\n",
      "Generating unsupervised examples...:  75%|███████▌  | 37724/50000 [01:03<00:14, 822.09 examples/s]\u001b[A\n",
      "Generating unsupervised examples...:  76%|███████▌  | 37807/50000 [01:03<00:15, 790.61 examples/s]\u001b[A\n",
      "Generating unsupervised examples...:  76%|███████▌  | 37892/50000 [01:03<00:15, 806.16 examples/s]\u001b[A\n",
      "Generating unsupervised examples...:  76%|███████▌  | 37973/50000 [01:03<00:15, 785.65 examples/s]\u001b[A\n",
      "Generating unsupervised examples...:  76%|███████▌  | 38052/50000 [01:03<00:15, 775.77 examples/s]\u001b[A\n",
      "Generating unsupervised examples...:  76%|███████▋  | 38142/50000 [01:03<00:14, 810.96 examples/s]\u001b[A\n",
      "Generating unsupervised examples...:  76%|███████▋  | 38224/50000 [01:03<00:14, 811.54 examples/s]\u001b[A\n",
      "Generating unsupervised examples...:  77%|███████▋  | 38308/50000 [01:03<00:14, 818.01 examples/s]\u001b[A\n",
      "Generating unsupervised examples...:  77%|███████▋  | 38390/50000 [01:04<00:14, 796.58 examples/s]\u001b[A\n",
      "Generating unsupervised examples...:  77%|███████▋  | 38470/50000 [01:04<00:14, 774.03 examples/s]\u001b[A\n",
      "Generating unsupervised examples...:  77%|███████▋  | 38548/50000 [01:04<00:15, 748.88 examples/s]\u001b[A\n",
      "Generating unsupervised examples...:  77%|███████▋  | 38624/50000 [01:04<00:15, 737.98 examples/s]\u001b[A\n",
      "Generating unsupervised examples...:  77%|███████▋  | 38698/50000 [01:04<00:15, 722.09 examples/s]\u001b[A\n",
      "Generating unsupervised examples...:  78%|███████▊  | 38777/50000 [01:04<00:15, 739.66 examples/s]\u001b[A\n",
      "Generating unsupervised examples...:  78%|███████▊  | 38859/50000 [01:04<00:14, 760.60 examples/s]\u001b[A\n",
      "Generating unsupervised examples...:  78%|███████▊  | 38937/50000 [01:04<00:14, 761.48 examples/s]\u001b[A\n",
      "Generating unsupervised examples...:  78%|███████▊  | 39014/50000 [01:04<00:14, 754.94 examples/s]\u001b[A\n",
      "Generating unsupervised examples...:  78%|███████▊  | 39090/50000 [01:04<00:15, 711.92 examples/s]\u001b[A\n",
      "Generating unsupervised examples...:  78%|███████▊  | 39164/50000 [01:05<00:15, 719.75 examples/s]\u001b[A\n",
      "Generating unsupervised examples...:  78%|███████▊  | 39241/50000 [01:05<00:14, 733.90 examples/s]\u001b[A\n",
      "Generating unsupervised examples...:  79%|███████▊  | 39320/50000 [01:05<00:14, 748.37 examples/s]\u001b[A\n",
      "Generating unsupervised examples...:  79%|███████▉  | 39399/50000 [01:05<00:13, 757.38 examples/s]\u001b[A\n",
      "Generating unsupervised examples...:  79%|███████▉  | 39475/50000 [01:05<00:13, 758.14 examples/s]\u001b[A\n",
      "Generating unsupervised examples...:  79%|███████▉  | 39551/50000 [01:05<00:14, 744.82 examples/s]\u001b[A\n",
      "Generating unsupervised examples...:  79%|███████▉  | 39641/50000 [01:05<00:13, 786.06 examples/s]\u001b[A\n",
      "Generating unsupervised examples...:  79%|███████▉  | 39723/50000 [01:05<00:12, 794.18 examples/s]\u001b[A\n",
      "Generating unsupervised examples...:  80%|███████▉  | 39807/50000 [01:05<00:12, 803.05 examples/s]\u001b[A\n",
      "Generating unsupervised examples...:  80%|███████▉  | 39888/50000 [01:05<00:12, 802.82 examples/s]\u001b[A\n",
      "Generating unsupervised examples...:  80%|███████▉  | 39969/50000 [01:06<00:12, 797.29 examples/s]\u001b[A\n",
      "Generating unsupervised examples...:  80%|████████  | 40053/50000 [01:06<00:12, 809.56 examples/s]\u001b[A\n",
      "Generating unsupervised examples...:  80%|████████  | 40135/50000 [01:06<00:12, 796.72 examples/s]\u001b[A\n",
      "Generating unsupervised examples...:  80%|████████  | 40215/50000 [01:06<00:12, 768.83 examples/s]\u001b[A\n",
      "Generating unsupervised examples...:  81%|████████  | 40293/50000 [01:06<00:12, 748.61 examples/s]\u001b[A\n",
      "Generating unsupervised examples...:  81%|████████  | 40369/50000 [01:06<00:13, 739.19 examples/s]\u001b[A\n",
      "Generating unsupervised examples...:  81%|████████  | 40444/50000 [01:06<00:13, 683.37 examples/s]\u001b[A\n",
      "Generating unsupervised examples...:  81%|████████  | 40514/50000 [01:06<00:14, 660.45 examples/s]\u001b[A\n",
      "Generating unsupervised examples...:  81%|████████  | 40581/50000 [01:06<00:14, 661.09 examples/s]\u001b[A\n",
      "Generating unsupervised examples...:  81%|████████▏ | 40648/50000 [01:07<00:14, 660.27 examples/s]\u001b[A\n",
      "Generating unsupervised examples...:  81%|████████▏ | 40719/50000 [01:07<00:13, 672.89 examples/s]\u001b[A\n",
      "Generating unsupervised examples...:  82%|████████▏ | 40792/50000 [01:07<00:13, 687.84 examples/s]\u001b[A\n",
      "Generating unsupervised examples...:  82%|████████▏ | 40862/50000 [01:07<00:13, 679.08 examples/s]\u001b[A\n",
      "Generating unsupervised examples...:  82%|████████▏ | 40931/50000 [01:07<00:13, 666.01 examples/s]\u001b[A\n",
      "Generating unsupervised examples...:  82%|████████▏ | 41002/50000 [01:07<00:13, 678.50 examples/s]\u001b[A\n",
      "Generating unsupervised examples...:  82%|████████▏ | 41071/50000 [01:07<00:13, 668.88 examples/s]\u001b[A\n",
      "Generating unsupervised examples...:  82%|████████▏ | 41139/50000 [01:07<00:13, 660.29 examples/s]\u001b[A\n",
      "Generating unsupervised examples...:  82%|████████▏ | 41206/50000 [01:07<00:13, 633.16 examples/s]\u001b[A\n",
      "Generating unsupervised examples...:  83%|████████▎ | 41282/50000 [01:08<00:13, 668.28 examples/s]\u001b[A\n",
      "Generating unsupervised examples...:  83%|████████▎ | 41353/50000 [01:08<00:12, 678.43 examples/s]\u001b[A\n",
      "Generating unsupervised examples...:  83%|████████▎ | 41426/50000 [01:08<00:12, 691.27 examples/s]\u001b[A\n",
      "Generating unsupervised examples...:  83%|████████▎ | 41497/50000 [01:08<00:12, 696.29 examples/s]\u001b[A\n",
      "Generating unsupervised examples...:  83%|████████▎ | 41567/50000 [01:08<00:12, 676.96 examples/s]\u001b[A\n",
      "Generating unsupervised examples...:  83%|████████▎ | 41643/50000 [01:08<00:11, 700.85 examples/s]\u001b[A\n",
      "Generating unsupervised examples...:  83%|████████▎ | 41715/50000 [01:08<00:11, 706.34 examples/s]\u001b[A\n",
      "Generating unsupervised examples...:  84%|████████▎ | 41786/50000 [01:08<00:12, 680.20 examples/s]\u001b[A\n",
      "Generating unsupervised examples...:  84%|████████▎ | 41855/50000 [01:08<00:12, 678.60 examples/s]\u001b[A\n",
      "Generating unsupervised examples...:  84%|████████▍ | 41924/50000 [01:08<00:12, 672.04 examples/s]\u001b[A\n",
      "Generating unsupervised examples...:  84%|████████▍ | 41992/50000 [01:09<00:12, 657.07 examples/s]\u001b[A\n",
      "Generating unsupervised examples...:  84%|████████▍ | 42061/50000 [01:09<00:11, 666.15 examples/s]\u001b[A\n",
      "Generating unsupervised examples...:  84%|████████▍ | 42131/50000 [01:09<00:11, 674.52 examples/s]\u001b[A\n",
      "Generating unsupervised examples...:  84%|████████▍ | 42199/50000 [01:09<00:11, 663.13 examples/s]\u001b[A\n",
      "Generating unsupervised examples...:  85%|████████▍ | 42275/50000 [01:09<00:11, 691.05 examples/s]\u001b[A\n",
      "Generating unsupervised examples...:  85%|████████▍ | 42345/50000 [01:09<00:12, 610.99 examples/s]\u001b[A\n",
      "Generating unsupervised examples...:  85%|████████▍ | 42411/50000 [01:09<00:12, 622.22 examples/s]\u001b[A\n",
      "Generating unsupervised examples...:  85%|████████▍ | 42476/50000 [01:09<00:11, 627.01 examples/s]\u001b[A\n",
      "Generating unsupervised examples...:  85%|████████▌ | 42551/50000 [01:09<00:11, 659.50 examples/s]\u001b[A\n",
      "Generating unsupervised examples...:  85%|████████▌ | 42626/50000 [01:10<00:10, 683.16 examples/s]\u001b[A\n",
      "Generating unsupervised examples...:  85%|████████▌ | 42696/50000 [01:10<00:10, 682.76 examples/s]\u001b[A\n",
      "Generating unsupervised examples...:  86%|████████▌ | 42767/50000 [01:10<00:10, 688.32 examples/s]\u001b[A\n",
      "Generating unsupervised examples...:  86%|████████▌ | 42837/50000 [01:10<00:10, 673.23 examples/s]\u001b[A\n",
      "Generating unsupervised examples...:  86%|████████▌ | 42905/50000 [01:10<00:10, 674.07 examples/s]\u001b[A\n",
      "Generating unsupervised examples...:  86%|████████▌ | 42973/50000 [01:10<00:10, 668.00 examples/s]\u001b[A\n",
      "Generating unsupervised examples...:  86%|████████▌ | 43040/50000 [01:10<00:10, 668.00 examples/s]\u001b[A\n",
      "Generating unsupervised examples...:  86%|████████▌ | 43114/50000 [01:10<00:10, 688.01 examples/s]\u001b[A\n",
      "Generating unsupervised examples...:  86%|████████▋ | 43183/50000 [01:10<00:10, 664.29 examples/s]\u001b[A\n",
      "Generating unsupervised examples...:  86%|████████▋ | 43250/50000 [01:10<00:10, 656.84 examples/s]\u001b[A\n",
      "Generating unsupervised examples...:  87%|████████▋ | 43316/50000 [01:11<00:10, 657.14 examples/s]\u001b[A\n",
      "Generating unsupervised examples...:  87%|████████▋ | 43382/50000 [01:11<00:10, 650.25 examples/s]\u001b[A\n",
      "Generating unsupervised examples...:  87%|████████▋ | 43449/50000 [01:11<00:10, 652.61 examples/s]\u001b[A\n",
      "Generating unsupervised examples...:  87%|████████▋ | 43515/50000 [01:11<00:10, 634.73 examples/s]\u001b[A\n",
      "Generating unsupervised examples...:  87%|████████▋ | 43588/50000 [01:11<00:09, 660.91 examples/s]\u001b[A\n",
      "Generating unsupervised examples...:  87%|████████▋ | 43664/50000 [01:11<00:09, 689.40 examples/s]\u001b[A\n",
      "Generating unsupervised examples...:  87%|████████▋ | 43736/50000 [01:11<00:08, 697.90 examples/s]\u001b[A\n",
      "Generating unsupervised examples...:  88%|████████▊ | 43808/50000 [01:11<00:08, 703.16 examples/s]\u001b[A\n",
      "Generating unsupervised examples...:  88%|████████▊ | 43879/50000 [01:11<00:08, 681.45 examples/s]\u001b[A\n",
      "Generating unsupervised examples...:  88%|████████▊ | 43948/50000 [01:12<00:09, 656.87 examples/s]\u001b[A\n",
      "Generating unsupervised examples...:  88%|████████▊ | 44021/50000 [01:12<00:08, 676.86 examples/s]\u001b[A\n",
      "Generating unsupervised examples...:  88%|████████▊ | 44089/50000 [01:12<00:08, 669.79 examples/s]\u001b[A\n",
      "Generating unsupervised examples...:  88%|████████▊ | 44157/50000 [01:12<00:08, 653.74 examples/s]\u001b[A\n",
      "Generating unsupervised examples...:  88%|████████▊ | 44223/50000 [01:12<00:08, 642.22 examples/s]\u001b[A\n",
      "Generating unsupervised examples...:  89%|████████▊ | 44293/50000 [01:12<00:08, 654.91 examples/s]\u001b[A\n",
      "Generating unsupervised examples...:  89%|████████▊ | 44372/50000 [01:12<00:08, 693.87 examples/s]\u001b[A\n",
      "Generating unsupervised examples...:  89%|████████▉ | 44442/50000 [01:12<00:08, 680.32 examples/s]\u001b[A\n",
      "Generating unsupervised examples...:  89%|████████▉ | 44513/50000 [01:12<00:08, 685.33 examples/s]\u001b[A\n",
      "Generating unsupervised examples...:  89%|████████▉ | 44583/50000 [01:12<00:07, 689.55 examples/s]\u001b[A\n",
      "Generating unsupervised examples...:  89%|████████▉ | 44654/50000 [01:13<00:07, 693.82 examples/s]\u001b[A\n",
      "Generating unsupervised examples...:  89%|████████▉ | 44724/50000 [01:13<00:07, 683.97 examples/s]\u001b[A\n",
      "Generating unsupervised examples...:  90%|████████▉ | 44793/50000 [01:13<00:07, 674.97 examples/s]\u001b[A\n",
      "Generating unsupervised examples...:  90%|████████▉ | 44864/50000 [01:13<00:07, 685.17 examples/s]\u001b[A\n",
      "Generating unsupervised examples...:  90%|████████▉ | 44933/50000 [01:13<00:07, 682.29 examples/s]\u001b[A\n",
      "Generating unsupervised examples...:  90%|█████████ | 45002/50000 [01:13<00:07, 660.21 examples/s]\u001b[A\n",
      "Generating unsupervised examples...:  90%|█████████ | 45071/50000 [01:13<00:07, 667.96 examples/s]\u001b[A\n",
      "Generating unsupervised examples...:  90%|█████████ | 45138/50000 [01:13<00:07, 638.79 examples/s]\u001b[A\n",
      "Generating unsupervised examples...:  90%|█████████ | 45210/50000 [01:13<00:07, 660.72 examples/s]\u001b[A\n",
      "Generating unsupervised examples...:  91%|█████████ | 45277/50000 [01:14<00:16, 285.74 examples/s]\u001b[A\n",
      "Generating unsupervised examples...:  91%|█████████ | 45347/50000 [01:14<00:13, 348.17 examples/s]\u001b[A\n",
      "Generating unsupervised examples...:  91%|█████████ | 45411/50000 [01:14<00:11, 399.91 examples/s]\u001b[A\n",
      "Generating unsupervised examples...:  91%|█████████ | 45473/50000 [01:14<00:10, 441.37 examples/s]\u001b[A\n",
      "Generating unsupervised examples...:  91%|█████████ | 45535/50000 [01:14<00:09, 480.73 examples/s]\u001b[A\n",
      "Generating unsupervised examples...:  91%|█████████ | 45611/50000 [01:14<00:08, 546.35 examples/s]\u001b[A\n",
      "Generating unsupervised examples...:  91%|█████████▏| 45676/50000 [01:15<00:07, 572.38 examples/s]\u001b[A\n",
      "Generating unsupervised examples...:  91%|█████████▏| 45743/50000 [01:15<00:07, 594.70 examples/s]\u001b[A\n",
      "Generating unsupervised examples...:  92%|█████████▏| 45817/50000 [01:15<00:06, 633.37 examples/s]\u001b[A\n",
      "Generating unsupervised examples...:  92%|█████████▏| 45885/50000 [01:15<00:06, 635.78 examples/s]\u001b[A\n",
      "Generating unsupervised examples...:  92%|█████████▏| 45960/50000 [01:15<00:06, 667.49 examples/s]\u001b[A\n",
      "Generating unsupervised examples...:  92%|█████████▏| 46029/50000 [01:15<00:06, 656.58 examples/s]\u001b[A\n",
      "Generating unsupervised examples...:  92%|█████████▏| 46097/50000 [01:15<00:06, 636.51 examples/s]\u001b[A\n",
      "Generating unsupervised examples...:  92%|█████████▏| 46163/50000 [01:15<00:05, 642.23 examples/s]\u001b[A\n",
      "Generating unsupervised examples...:  92%|█████████▏| 46229/50000 [01:15<00:05, 646.99 examples/s]\u001b[A\n",
      "Generating unsupervised examples...:  93%|█████████▎| 46298/50000 [01:15<00:05, 656.35 examples/s]\u001b[A\n",
      "Generating unsupervised examples...:  93%|█████████▎| 46365/50000 [01:16<00:05, 612.39 examples/s]\u001b[A\n",
      "Generating unsupervised examples...:  93%|█████████▎| 46436/50000 [01:16<00:05, 637.95 examples/s]\u001b[A\n",
      "Generating unsupervised examples...:  93%|█████████▎| 46503/50000 [01:16<00:05, 646.42 examples/s]\u001b[A\n",
      "Generating unsupervised examples...:  93%|█████████▎| 46570/50000 [01:16<00:05, 652.35 examples/s]\u001b[A\n",
      "Generating unsupervised examples...:  93%|█████████▎| 46636/50000 [01:16<00:05, 645.16 examples/s]\u001b[A\n",
      "Generating unsupervised examples...:  93%|█████████▎| 46701/50000 [01:16<00:05, 645.78 examples/s]\u001b[A\n",
      "Generating unsupervised examples...:  94%|█████████▎| 46769/50000 [01:16<00:04, 653.96 examples/s]\u001b[A\n",
      "Generating unsupervised examples...:  94%|█████████▎| 46835/50000 [01:16<00:04, 653.74 examples/s]\u001b[A\n",
      "Generating unsupervised examples...:  94%|█████████▍| 46901/50000 [01:16<00:04, 654.35 examples/s]\u001b[A\n",
      "Generating unsupervised examples...:  94%|█████████▍| 46967/50000 [01:17<00:04, 626.99 examples/s]\u001b[A\n",
      "Generating unsupervised examples...:  94%|█████████▍| 47030/50000 [01:17<00:04, 624.00 examples/s]\u001b[A\n",
      "Generating unsupervised examples...:  94%|█████████▍| 47095/50000 [01:17<00:04, 629.22 examples/s]\u001b[A\n",
      "Generating unsupervised examples...:  94%|█████████▍| 47169/50000 [01:17<00:04, 658.27 examples/s]\u001b[A\n",
      "Generating unsupervised examples...:  94%|█████████▍| 47235/50000 [01:17<00:04, 639.69 examples/s]\u001b[A\n",
      "Generating unsupervised examples...:  95%|█████████▍| 47304/50000 [01:17<00:04, 652.85 examples/s]\u001b[A\n",
      "Generating unsupervised examples...:  95%|█████████▍| 47370/50000 [01:17<00:04, 649.92 examples/s]\u001b[A\n",
      "Generating unsupervised examples...:  95%|█████████▍| 47436/50000 [01:17<00:03, 647.60 examples/s]\u001b[A\n",
      "Generating unsupervised examples...:  95%|█████████▌| 47507/50000 [01:17<00:03, 664.81 examples/s]\u001b[A\n",
      "Generating unsupervised examples...:  95%|█████████▌| 47574/50000 [01:17<00:03, 661.15 examples/s]\u001b[A\n",
      "Generating unsupervised examples...:  95%|█████████▌| 47641/50000 [01:18<00:03, 653.35 examples/s]\u001b[A\n",
      "Generating unsupervised examples...:  95%|█████████▌| 47713/50000 [01:18<00:03, 671.00 examples/s]\u001b[A\n",
      "Generating unsupervised examples...:  96%|█████████▌| 47786/50000 [01:18<00:03, 685.67 examples/s]\u001b[A\n",
      "Generating unsupervised examples...:  96%|█████████▌| 47855/50000 [01:18<00:03, 668.91 examples/s]\u001b[A\n",
      "Generating unsupervised examples...:  96%|█████████▌| 47923/50000 [01:18<00:03, 657.11 examples/s]\u001b[A\n",
      "Generating unsupervised examples...:  96%|█████████▌| 47989/50000 [01:18<00:03, 617.21 examples/s]\u001b[A\n",
      "Generating unsupervised examples...:  96%|█████████▌| 48056/50000 [01:18<00:03, 626.86 examples/s]\u001b[A\n",
      "Generating unsupervised examples...:  96%|█████████▋| 48128/50000 [01:18<00:02, 652.93 examples/s]\u001b[A\n",
      "Generating unsupervised examples...:  96%|█████████▋| 48196/50000 [01:18<00:02, 659.59 examples/s]\u001b[A\n",
      "Generating unsupervised examples...:  97%|█████████▋| 48263/50000 [01:19<00:02, 655.23 examples/s]\u001b[A\n",
      "Generating unsupervised examples...:  97%|█████████▋| 48338/50000 [01:19<00:02, 679.91 examples/s]\u001b[A\n",
      "Generating unsupervised examples...:  97%|█████████▋| 48418/50000 [01:19<00:02, 711.65 examples/s]\u001b[A\n",
      "Generating unsupervised examples...:  97%|█████████▋| 48493/50000 [01:19<00:02, 721.50 examples/s]\u001b[A\n",
      "Generating unsupervised examples...:  97%|█████████▋| 48568/50000 [01:19<00:01, 728.36 examples/s]\u001b[A\n",
      "Generating unsupervised examples...:  97%|█████████▋| 48641/50000 [01:19<00:01, 719.73 examples/s]\u001b[A\n",
      "Generating unsupervised examples...:  97%|█████████▋| 48714/50000 [01:19<00:01, 676.50 examples/s]\u001b[A\n",
      "Generating unsupervised examples...:  98%|█████████▊| 48789/50000 [01:19<00:01, 695.68 examples/s]\u001b[A\n",
      "Generating unsupervised examples...:  98%|█████████▊| 48860/50000 [01:19<00:01, 681.99 examples/s]\u001b[A\n",
      "Generating unsupervised examples...:  98%|█████████▊| 48932/50000 [01:19<00:01, 691.33 examples/s]\u001b[A\n",
      "Generating unsupervised examples...:  98%|█████████▊| 49002/50000 [01:20<00:01, 645.63 examples/s]\u001b[A\n",
      "Generating unsupervised examples...:  98%|█████████▊| 49077/50000 [01:20<00:01, 670.96 examples/s]\u001b[A\n",
      "Generating unsupervised examples...:  98%|█████████▊| 49155/50000 [01:20<00:01, 701.06 examples/s]\u001b[A\n",
      "Generating unsupervised examples...:  98%|█████████▊| 49226/50000 [01:20<00:01, 695.99 examples/s]\u001b[A\n",
      "Generating unsupervised examples...:  99%|█████████▊| 49297/50000 [01:20<00:01, 692.49 examples/s]\u001b[A\n",
      "Generating unsupervised examples...:  99%|█████████▊| 49367/50000 [01:20<00:00, 681.59 examples/s]\u001b[A\n",
      "Generating unsupervised examples...:  99%|█████████▉| 49436/50000 [01:20<00:00, 674.59 examples/s]\u001b[A\n",
      "Generating unsupervised examples...:  99%|█████████▉| 49504/50000 [01:20<00:00, 663.62 examples/s]\u001b[A\n",
      "Generating unsupervised examples...:  99%|█████████▉| 49577/50000 [01:20<00:00, 681.86 examples/s]\u001b[A\n",
      "Generating unsupervised examples...:  99%|█████████▉| 49652/50000 [01:21<00:00, 700.07 examples/s]\u001b[A\n",
      "Generating unsupervised examples...:  99%|█████████▉| 49723/50000 [01:21<00:00, 694.66 examples/s]\u001b[A\n",
      "Generating unsupervised examples...: 100%|█████████▉| 49793/50000 [01:21<00:00, 687.76 examples/s]\u001b[A\n",
      "Generating unsupervised examples...: 100%|█████████▉| 49862/50000 [01:21<00:00, 663.97 examples/s]\u001b[A\n",
      "Generating unsupervised examples...: 100%|█████████▉| 49929/50000 [01:21<00:00, 659.28 examples/s]\u001b[A\n",
      "Generating unsupervised examples...: 100%|█████████▉| 49996/50000 [01:21<00:00, 637.83 examples/s]\u001b[A\n",
      "                                                                                                  \u001b[A\n",
      "Shuffling imdb_reviews-unsupervised.tfrecord...:   0%|          | 0/50000 [00:00<?, ? examples/s]\u001b[A\n",
      "Shuffling imdb_reviews-unsupervised.tfrecord...:   9%|▉         | 4658/50000 [00:00<00:00, 46554.52 examples/s]\u001b[A\n",
      "Shuffling imdb_reviews-unsupervised.tfrecord...:  42%|████▏     | 21123/50000 [00:00<00:00, 115952.88 examples/s]\u001b[A\n",
      "Shuffling imdb_reviews-unsupervised.tfrecord...:  75%|███████▍  | 37338/50000 [00:00<00:00, 137033.94 examples/s]\u001b[A\n",
      "WARNING:absl:Dataset is using deprecated text encoder API which will be removed soon. Please use the plain_text version of the dataset and migrate to `tensorflow_text`.\n",
      "\u001b[1mDataset imdb_reviews downloaded and prepared to /Users/neeraj/tensorflow_datasets/imdb_reviews/subwords8k/1.0.0. Subsequent calls will reuse this data.\u001b[0m\n"
     ]
    }
   ],
   "source": [
    "import tensorflow_datasets as tfds \n",
    "\n",
    "data, info = tfds.load('imdb_reviews/subwords8k', with_info=True, as_supervised=True)"
   ]
  },
  {
   "cell_type": "code",
   "execution_count": 11,
   "metadata": {},
   "outputs": [],
   "source": [
    "tokenizer = info.features[\"text\"].encoder"
   ]
  },
  {
   "cell_type": "code",
   "execution_count": 12,
   "metadata": {},
   "outputs": [],
   "source": [
    "train, test = data[\"train\"], data[\"test\"]"
   ]
  },
  {
   "cell_type": "code",
   "execution_count": 13,
   "metadata": {},
   "outputs": [
    {
     "output_type": "stream",
     "name": "stdout",
     "text": [
      "25000\n25000\n"
     ]
    }
   ],
   "source": [
    "print(len(train))\n",
    "print(len(test))"
   ]
  },
  {
   "cell_type": "code",
   "execution_count": 47,
   "metadata": {},
   "outputs": [],
   "source": [
    "import tensorflow as tf \n",
    "\n",
    "buffer_size = 5000\n",
    "batch_size = 64\n",
    "\n",
    "train_data = train.shuffle(buffer_size)\n",
    "train_data = train_data.padded_batch(batch_size, tf.compat.v1.data.get_output_shapes(train_data))\n",
    "\n",
    "test_data = test.shuffle(buffer_size)\n",
    "test_data = test_data.padded_batch(batch_size, tf.compat.v1.data.get_output_shapes(test_data))"
   ]
  },
  {
   "source": [
    "# Playing around with tokenizer"
   ],
   "cell_type": "markdown",
   "metadata": {}
  },
  {
   "cell_type": "code",
   "execution_count": 45,
   "metadata": {},
   "outputs": [
    {
     "output_type": "stream",
     "name": "stdout",
     "text": [
      "[298, 29, 2653, 8033, 8047, 8032, 3702, 8035]\n[298, 29, 2653, 8033, 8047, 8032, 3702, 8035, 8045, 8043]\n[298, 29, 2653, 1077, 8044, 8047, 1059, 8047]\n[298, 29, 3863, 8050]\n[298, 762]\n[298]\n[1162]\n"
     ]
    }
   ],
   "source": [
    "string = \"You are crazy hvgkuj\"\n",
    "string1 = \"You are crazy adsvdav\"\n",
    "\n",
    "print(tokenizer.encode(string))\n",
    "print(tokenizer.encode(string+'tr'))\n",
    "print(tokenizer.encode(string1))\n",
    "print(tokenizer.encode('You are crazy'))\n",
    "print(tokenizer.encode('You are'))\n",
    "print(tokenizer.encode('You '))\n",
    "print(tokenizer.encode('You'))"
   ]
  },
  {
   "cell_type": "code",
   "execution_count": 44,
   "metadata": {},
   "outputs": [
    {
     "output_type": "stream",
     "name": "stdout",
     "text": [
      "You are crazy hvgkuj\n\t298 ----> You \n\t29 ----> are \n\t2653 ----> crazy \n\t8033 ----> h\n\t8047 ----> v\n\t8032 ----> g\n\t3702 ----> ku\n\t8035 ----> j\nYou are not crazy hvgkuj\n\t298 ----> You \n\t29 ----> are \n\t33 ----> not \n\t2653 ----> crazy \n\t8033 ----> h\n\t8047 ----> v\n\t8032 ----> g\n\t3702 ----> ku\n\t8035 ----> j\nYou are crazy\n\t298 ----> You \n\t29 ----> are \n\t3863 ----> craz\n\t8050 ----> y\nYou are\n\t298 ----> You \n\t762 ----> are\nYou \n\t298 ----> You \nYou\n\t1162 ----> You\n"
     ]
    }
   ],
   "source": [
    "sample_strings = ['You are crazy hvgkuj', 'You are not crazy hvgkuj', 'You are crazy', 'You are', 'You ', 'You']\n",
    "\n",
    "for string in sample_strings:\n",
    "    print(string)\n",
    "    tokenized_string = tokenizer.encode(string)\n",
    "    for ts in tokenized_string:\n",
    "        print ('\\t{} ----> {}'.format(ts, tokenizer.decode([ts])))"
   ]
  },
  {
   "source": [
    "# Model"
   ],
   "cell_type": "markdown",
   "metadata": {}
  },
  {
   "cell_type": "code",
   "execution_count": 56,
   "metadata": {},
   "outputs": [],
   "source": [
    "vocab_size = 10000\n",
    "embedding_dim = 16\n",
    "epochs = 1 # Because its damn slow"
   ]
  },
  {
   "source": [
    "## Model with single LSTM layer"
   ],
   "cell_type": "markdown",
   "metadata": {}
  },
  {
   "cell_type": "code",
   "execution_count": 52,
   "metadata": {},
   "outputs": [
    {
     "output_type": "stream",
     "name": "stdout",
     "text": [
      "Model: \"sequential_3\"\n_________________________________________________________________\nLayer (type)                 Output Shape              Param #   \n=================================================================\nembedding_2 (Embedding)      (None, None, 16)          160000    \n_________________________________________________________________\nbidirectional_2 (Bidirection (None, 128)               41472     \n_________________________________________________________________\ndense_4 (Dense)              (None, 64)                8256      \n_________________________________________________________________\ndense_5 (Dense)              (None, 1)                 65        \n=================================================================\nTotal params: 209,793\nTrainable params: 209,793\nNon-trainable params: 0\n_________________________________________________________________\n"
     ]
    }
   ],
   "source": [
    "model = tf.keras.Sequential([\n",
    "    tf.keras.layers.Embedding(vocab_size, embedding_dim),\n",
    "    tf.keras.layers.Bidirectional(tf.keras.layers.LSTM(64)),\n",
    "    tf.keras.layers.Dense(64, activation='relu'),\n",
    "    tf.keras.layers.Dense(1, activation='sigmoid')\n",
    "])\n",
    "\n",
    "model.summary()"
   ]
  },
  {
   "source": [
    "## Model with multiple LSTM layer"
   ],
   "cell_type": "markdown",
   "metadata": {}
  },
  {
   "cell_type": "code",
   "execution_count": null,
   "metadata": {},
   "outputs": [],
   "source": [
    "model = tf.keras.Sequential([\n",
    "    tf.keras.layers.Embedding(vocab_size, embedding_dim),\n",
    "    tf.keras.layers.Bidirectional(tf.keras.layers.LSTM(64, return_sequence=True)),\n",
    "    tf.keras.layers.Bidirectional(tf.keras.layers.LSTM(64)),\n",
    "    tf.keras.layers.Dense(64, activation='relu'),\n",
    "    tf.keras.layers.Dense(1, activation='sigmoid')\n",
    "])\n",
    "\n",
    "model.summary()"
   ]
  },
  {
   "source": [
    "## Model with conv1D"
   ],
   "cell_type": "markdown",
   "metadata": {}
  },
  {
   "cell_type": "code",
   "execution_count": null,
   "metadata": {},
   "outputs": [],
   "source": [
    "model = tf.keras.Sequential([\n",
    "    tf.keras.layers.Embedding(vocab_size, embedding_dim),\n",
    "    tf.keras.layers.Conv1D(64, 5, activation='relu'),\n",
    "    tf.keras.layers.Flatten(),\n",
    "    # tf.keras.layers.GlobalAveragePooling1D(),\n",
    "    tf.keras.layers.Dense(64, activation='relu'),\n",
    "    tf.keras.layers.Dense(1, activation='sigmoid')\n",
    "])\n",
    "\n",
    "model.summary()"
   ]
  },
  {
   "cell_type": "code",
   "execution_count": 53,
   "metadata": {},
   "outputs": [],
   "source": [
    "model.compile(\n",
    "    loss='binary_crossentropy',\n",
    "    optimizer='adam',\n",
    "    metrics=[\"accuracy\"]\n",
    ")"
   ]
  },
  {
   "cell_type": "code",
   "execution_count": 55,
   "metadata": {},
   "outputs": [
    {
     "output_type": "stream",
     "name": "stdout",
     "text": [
      "Epoch 1/10\n",
      "184/391 [=============>................] - ETA: 3:56 - loss: 0.6813 - accuracy: 0.5504"
     ]
    },
    {
     "output_type": "error",
     "ename": "KeyboardInterrupt",
     "evalue": "",
     "traceback": [
      "\u001b[0;31m---------------------------------------------------------------------------\u001b[0m",
      "\u001b[0;31mKeyboardInterrupt\u001b[0m                         Traceback (most recent call last)",
      "\u001b[0;32m<ipython-input-55-c285624fd3ae>\u001b[0m in \u001b[0;36m<module>\u001b[0;34m\u001b[0m\n\u001b[0;32m----> 1\u001b[0;31m history = model.fit(\n\u001b[0m\u001b[1;32m      2\u001b[0m     \u001b[0mtrain_data\u001b[0m\u001b[0;34m,\u001b[0m\u001b[0;34m\u001b[0m\u001b[0;34m\u001b[0m\u001b[0m\n\u001b[1;32m      3\u001b[0m     \u001b[0mepochs\u001b[0m\u001b[0;34m=\u001b[0m\u001b[0mepochs\u001b[0m\u001b[0;34m,\u001b[0m\u001b[0;34m\u001b[0m\u001b[0;34m\u001b[0m\u001b[0m\n\u001b[1;32m      4\u001b[0m     \u001b[0mvalidation_data\u001b[0m\u001b[0;34m=\u001b[0m\u001b[0mtest_data\u001b[0m\u001b[0;34m\u001b[0m\u001b[0;34m\u001b[0m\u001b[0m\n\u001b[1;32m      5\u001b[0m )\n",
      "\u001b[0;32m~/virtualenv/python3/coursera_tensorflow_venv/lib/python3.8/site-packages/tensorflow/python/keras/engine/training.py\u001b[0m in \u001b[0;36mfit\u001b[0;34m(self, x, y, batch_size, epochs, verbose, callbacks, validation_split, validation_data, shuffle, class_weight, sample_weight, initial_epoch, steps_per_epoch, validation_steps, validation_batch_size, validation_freq, max_queue_size, workers, use_multiprocessing)\u001b[0m\n\u001b[1;32m   1098\u001b[0m                 _r=1):\n\u001b[1;32m   1099\u001b[0m               \u001b[0mcallbacks\u001b[0m\u001b[0;34m.\u001b[0m\u001b[0mon_train_batch_begin\u001b[0m\u001b[0;34m(\u001b[0m\u001b[0mstep\u001b[0m\u001b[0;34m)\u001b[0m\u001b[0;34m\u001b[0m\u001b[0;34m\u001b[0m\u001b[0m\n\u001b[0;32m-> 1100\u001b[0;31m               \u001b[0mtmp_logs\u001b[0m \u001b[0;34m=\u001b[0m \u001b[0mself\u001b[0m\u001b[0;34m.\u001b[0m\u001b[0mtrain_function\u001b[0m\u001b[0;34m(\u001b[0m\u001b[0miterator\u001b[0m\u001b[0;34m)\u001b[0m\u001b[0;34m\u001b[0m\u001b[0;34m\u001b[0m\u001b[0m\n\u001b[0m\u001b[1;32m   1101\u001b[0m               \u001b[0;32mif\u001b[0m \u001b[0mdata_handler\u001b[0m\u001b[0;34m.\u001b[0m\u001b[0mshould_sync\u001b[0m\u001b[0;34m:\u001b[0m\u001b[0;34m\u001b[0m\u001b[0;34m\u001b[0m\u001b[0m\n\u001b[1;32m   1102\u001b[0m                 \u001b[0mcontext\u001b[0m\u001b[0;34m.\u001b[0m\u001b[0masync_wait\u001b[0m\u001b[0;34m(\u001b[0m\u001b[0;34m)\u001b[0m\u001b[0;34m\u001b[0m\u001b[0;34m\u001b[0m\u001b[0m\n",
      "\u001b[0;32m~/virtualenv/python3/coursera_tensorflow_venv/lib/python3.8/site-packages/tensorflow/python/eager/def_function.py\u001b[0m in \u001b[0;36m__call__\u001b[0;34m(self, *args, **kwds)\u001b[0m\n\u001b[1;32m    826\u001b[0m     \u001b[0mtracing_count\u001b[0m \u001b[0;34m=\u001b[0m \u001b[0mself\u001b[0m\u001b[0;34m.\u001b[0m\u001b[0mexperimental_get_tracing_count\u001b[0m\u001b[0;34m(\u001b[0m\u001b[0;34m)\u001b[0m\u001b[0;34m\u001b[0m\u001b[0;34m\u001b[0m\u001b[0m\n\u001b[1;32m    827\u001b[0m     \u001b[0;32mwith\u001b[0m \u001b[0mtrace\u001b[0m\u001b[0;34m.\u001b[0m\u001b[0mTrace\u001b[0m\u001b[0;34m(\u001b[0m\u001b[0mself\u001b[0m\u001b[0;34m.\u001b[0m\u001b[0m_name\u001b[0m\u001b[0;34m)\u001b[0m \u001b[0;32mas\u001b[0m \u001b[0mtm\u001b[0m\u001b[0;34m:\u001b[0m\u001b[0;34m\u001b[0m\u001b[0;34m\u001b[0m\u001b[0m\n\u001b[0;32m--> 828\u001b[0;31m       \u001b[0mresult\u001b[0m \u001b[0;34m=\u001b[0m \u001b[0mself\u001b[0m\u001b[0;34m.\u001b[0m\u001b[0m_call\u001b[0m\u001b[0;34m(\u001b[0m\u001b[0;34m*\u001b[0m\u001b[0margs\u001b[0m\u001b[0;34m,\u001b[0m \u001b[0;34m**\u001b[0m\u001b[0mkwds\u001b[0m\u001b[0;34m)\u001b[0m\u001b[0;34m\u001b[0m\u001b[0;34m\u001b[0m\u001b[0m\n\u001b[0m\u001b[1;32m    829\u001b[0m       \u001b[0mcompiler\u001b[0m \u001b[0;34m=\u001b[0m \u001b[0;34m\"xla\"\u001b[0m \u001b[0;32mif\u001b[0m \u001b[0mself\u001b[0m\u001b[0;34m.\u001b[0m\u001b[0m_experimental_compile\u001b[0m \u001b[0;32melse\u001b[0m \u001b[0;34m\"nonXla\"\u001b[0m\u001b[0;34m\u001b[0m\u001b[0;34m\u001b[0m\u001b[0m\n\u001b[1;32m    830\u001b[0m       \u001b[0mnew_tracing_count\u001b[0m \u001b[0;34m=\u001b[0m \u001b[0mself\u001b[0m\u001b[0;34m.\u001b[0m\u001b[0mexperimental_get_tracing_count\u001b[0m\u001b[0;34m(\u001b[0m\u001b[0;34m)\u001b[0m\u001b[0;34m\u001b[0m\u001b[0;34m\u001b[0m\u001b[0m\n",
      "\u001b[0;32m~/virtualenv/python3/coursera_tensorflow_venv/lib/python3.8/site-packages/tensorflow/python/eager/def_function.py\u001b[0m in \u001b[0;36m_call\u001b[0;34m(self, *args, **kwds)\u001b[0m\n\u001b[1;32m    853\u001b[0m       \u001b[0;31m# In this case we have created variables on the first call, so we run the\u001b[0m\u001b[0;34m\u001b[0m\u001b[0;34m\u001b[0m\u001b[0;34m\u001b[0m\u001b[0m\n\u001b[1;32m    854\u001b[0m       \u001b[0;31m# defunned version which is guaranteed to never create variables.\u001b[0m\u001b[0;34m\u001b[0m\u001b[0;34m\u001b[0m\u001b[0;34m\u001b[0m\u001b[0m\n\u001b[0;32m--> 855\u001b[0;31m       \u001b[0;32mreturn\u001b[0m \u001b[0mself\u001b[0m\u001b[0;34m.\u001b[0m\u001b[0m_stateless_fn\u001b[0m\u001b[0;34m(\u001b[0m\u001b[0;34m*\u001b[0m\u001b[0margs\u001b[0m\u001b[0;34m,\u001b[0m \u001b[0;34m**\u001b[0m\u001b[0mkwds\u001b[0m\u001b[0;34m)\u001b[0m  \u001b[0;31m# pylint: disable=not-callable\u001b[0m\u001b[0;34m\u001b[0m\u001b[0;34m\u001b[0m\u001b[0m\n\u001b[0m\u001b[1;32m    856\u001b[0m     \u001b[0;32melif\u001b[0m \u001b[0mself\u001b[0m\u001b[0;34m.\u001b[0m\u001b[0m_stateful_fn\u001b[0m \u001b[0;32mis\u001b[0m \u001b[0;32mnot\u001b[0m \u001b[0;32mNone\u001b[0m\u001b[0;34m:\u001b[0m\u001b[0;34m\u001b[0m\u001b[0;34m\u001b[0m\u001b[0m\n\u001b[1;32m    857\u001b[0m       \u001b[0;31m# Release the lock early so that multiple threads can perform the call\u001b[0m\u001b[0;34m\u001b[0m\u001b[0;34m\u001b[0m\u001b[0;34m\u001b[0m\u001b[0m\n",
      "\u001b[0;32m~/virtualenv/python3/coursera_tensorflow_venv/lib/python3.8/site-packages/tensorflow/python/eager/function.py\u001b[0m in \u001b[0;36m__call__\u001b[0;34m(self, *args, **kwargs)\u001b[0m\n\u001b[1;32m   2940\u001b[0m       (graph_function,\n\u001b[1;32m   2941\u001b[0m        filtered_flat_args) = self._maybe_define_function(args, kwargs)\n\u001b[0;32m-> 2942\u001b[0;31m     return graph_function._call_flat(\n\u001b[0m\u001b[1;32m   2943\u001b[0m         filtered_flat_args, captured_inputs=graph_function.captured_inputs)  # pylint: disable=protected-access\n\u001b[1;32m   2944\u001b[0m \u001b[0;34m\u001b[0m\u001b[0m\n",
      "\u001b[0;32m~/virtualenv/python3/coursera_tensorflow_venv/lib/python3.8/site-packages/tensorflow/python/eager/function.py\u001b[0m in \u001b[0;36m_call_flat\u001b[0;34m(self, args, captured_inputs, cancellation_manager)\u001b[0m\n\u001b[1;32m   1916\u001b[0m         and executing_eagerly):\n\u001b[1;32m   1917\u001b[0m       \u001b[0;31m# No tape is watching; skip to running the function.\u001b[0m\u001b[0;34m\u001b[0m\u001b[0;34m\u001b[0m\u001b[0;34m\u001b[0m\u001b[0m\n\u001b[0;32m-> 1918\u001b[0;31m       return self._build_call_outputs(self._inference_function.call(\n\u001b[0m\u001b[1;32m   1919\u001b[0m           ctx, args, cancellation_manager=cancellation_manager))\n\u001b[1;32m   1920\u001b[0m     forward_backward = self._select_forward_and_backward_functions(\n",
      "\u001b[0;32m~/virtualenv/python3/coursera_tensorflow_venv/lib/python3.8/site-packages/tensorflow/python/eager/function.py\u001b[0m in \u001b[0;36mcall\u001b[0;34m(self, ctx, args, cancellation_manager)\u001b[0m\n\u001b[1;32m    553\u001b[0m       \u001b[0;32mwith\u001b[0m \u001b[0m_InterpolateFunctionError\u001b[0m\u001b[0;34m(\u001b[0m\u001b[0mself\u001b[0m\u001b[0;34m)\u001b[0m\u001b[0;34m:\u001b[0m\u001b[0;34m\u001b[0m\u001b[0;34m\u001b[0m\u001b[0m\n\u001b[1;32m    554\u001b[0m         \u001b[0;32mif\u001b[0m \u001b[0mcancellation_manager\u001b[0m \u001b[0;32mis\u001b[0m \u001b[0;32mNone\u001b[0m\u001b[0;34m:\u001b[0m\u001b[0;34m\u001b[0m\u001b[0;34m\u001b[0m\u001b[0m\n\u001b[0;32m--> 555\u001b[0;31m           outputs = execute.execute(\n\u001b[0m\u001b[1;32m    556\u001b[0m               \u001b[0mstr\u001b[0m\u001b[0;34m(\u001b[0m\u001b[0mself\u001b[0m\u001b[0;34m.\u001b[0m\u001b[0msignature\u001b[0m\u001b[0;34m.\u001b[0m\u001b[0mname\u001b[0m\u001b[0;34m)\u001b[0m\u001b[0;34m,\u001b[0m\u001b[0;34m\u001b[0m\u001b[0;34m\u001b[0m\u001b[0m\n\u001b[1;32m    557\u001b[0m               \u001b[0mnum_outputs\u001b[0m\u001b[0;34m=\u001b[0m\u001b[0mself\u001b[0m\u001b[0;34m.\u001b[0m\u001b[0m_num_outputs\u001b[0m\u001b[0;34m,\u001b[0m\u001b[0;34m\u001b[0m\u001b[0;34m\u001b[0m\u001b[0m\n",
      "\u001b[0;32m~/virtualenv/python3/coursera_tensorflow_venv/lib/python3.8/site-packages/tensorflow/python/eager/execute.py\u001b[0m in \u001b[0;36mquick_execute\u001b[0;34m(op_name, num_outputs, inputs, attrs, ctx, name)\u001b[0m\n\u001b[1;32m     57\u001b[0m   \u001b[0;32mtry\u001b[0m\u001b[0;34m:\u001b[0m\u001b[0;34m\u001b[0m\u001b[0;34m\u001b[0m\u001b[0m\n\u001b[1;32m     58\u001b[0m     \u001b[0mctx\u001b[0m\u001b[0;34m.\u001b[0m\u001b[0mensure_initialized\u001b[0m\u001b[0;34m(\u001b[0m\u001b[0;34m)\u001b[0m\u001b[0;34m\u001b[0m\u001b[0;34m\u001b[0m\u001b[0m\n\u001b[0;32m---> 59\u001b[0;31m     tensors = pywrap_tfe.TFE_Py_Execute(ctx._handle, device_name, op_name,\n\u001b[0m\u001b[1;32m     60\u001b[0m                                         inputs, attrs, num_outputs)\n\u001b[1;32m     61\u001b[0m   \u001b[0;32mexcept\u001b[0m \u001b[0mcore\u001b[0m\u001b[0;34m.\u001b[0m\u001b[0m_NotOkStatusException\u001b[0m \u001b[0;32mas\u001b[0m \u001b[0me\u001b[0m\u001b[0;34m:\u001b[0m\u001b[0;34m\u001b[0m\u001b[0;34m\u001b[0m\u001b[0m\n",
      "\u001b[0;31mKeyboardInterrupt\u001b[0m: "
     ]
    }
   ],
   "source": [
    "history = model.fit(\n",
    "    train_data,\n",
    "    epochs=epochs,\n",
    "    validation_data=test_data\n",
    ")"
   ]
  },
  {
   "cell_type": "code",
   "execution_count": null,
   "metadata": {},
   "outputs": [],
   "source": []
  }
 ]
}