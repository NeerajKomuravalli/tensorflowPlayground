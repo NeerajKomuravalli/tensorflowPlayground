{
 "metadata": {
  "language_info": {
   "codemirror_mode": {
    "name": "ipython",
    "version": 3
   },
   "file_extension": ".py",
   "mimetype": "text/x-python",
   "name": "python",
   "nbconvert_exporter": "python",
   "pygments_lexer": "ipython3",
   "version": "3.8.2"
  },
  "orig_nbformat": 2,
  "kernelspec": {
   "name": "python382jvsc74a57bd0c05f7f5b7449b362e25f922c76429131874e0839c45bc04f41f76db7906a2c56",
   "display_name": "Python 3.8.2 64-bit ('coursera_tensorflow_venv': venv)"
  }
 },
 "nbformat": 4,
 "nbformat_minor": 2,
 "cells": [
  {
   "source": [
    "# Get data\n",
    "\n",
    "Us `tfds.load` to get the data and the specify the dataset you want. Find other datasets and their info here => https://github.com/tensorflow/datasets/tree/master/docs/catalog.\n",
    "\n",
    "Parameters:\n",
    "\n",
    "* `with_info` will give you meta data about the data like labels info and enoder used etc\n",
    "* `as_supervised` will let you choose the data based on the type of learning you want. For example => `as_supervised=True` will give you labels as well"
   ],
   "cell_type": "markdown",
   "metadata": {}
  },
  {
   "cell_type": "code",
   "execution_count": 1,
   "metadata": {
    "tags": [
     "outputPrepend"
    ]
   },
   "outputs": [
    {
     "output_type": "stream",
     "name": "stdout",
     "text": [
      "04 examples/s]\u001b[A\n",
      "Generating unsupervised examples...:   7%|▋         | 3549/50000 [00:07<00:21, 2144.65 examples/s]\u001b[A\n",
      "Generating unsupervised examples...:   8%|▊         | 3782/50000 [00:07<00:22, 2089.13 examples/s]\u001b[A\n",
      "Generating unsupervised examples...:   8%|▊         | 4004/50000 [00:07<00:22, 2064.74 examples/s]\u001b[A\n",
      "Generating unsupervised examples...:   8%|▊         | 4220/50000 [00:07<00:21, 2090.64 examples/s]\u001b[A\n",
      "Generating unsupervised examples...:   9%|▉         | 4436/50000 [00:07<00:26, 1694.25 examples/s]\u001b[A\n",
      "Generating unsupervised examples...:   9%|▉         | 4622/50000 [00:07<00:26, 1730.12 examples/s]\u001b[A\n",
      "Generating unsupervised examples...:  10%|▉         | 4807/50000 [00:08<00:26, 1690.18 examples/s]\u001b[A\n",
      "Generating unsupervised examples...:  10%|▉         | 4985/50000 [00:08<00:27, 1659.55 examples/s]\u001b[A\n",
      "Generating unsupervised examples...:  10%|█         | 5198/50000 [00:08<00:25, 1784.41 examples/s]\u001b[A\n",
      "Generating unsupervised examples...:  11%|█         | 5401/50000 [00:08<00:24, 1850.92 examples/s]\u001b[A\n",
      "Generating unsupervised examples...:  11%|█▏        | 5663/50000 [00:08<00:21, 2066.47 examples/s]\u001b[A\n",
      "Generating unsupervised examples...:  12%|█▏        | 5875/50000 [00:08<00:21, 2064.27 examples/s]\u001b[A\n",
      "Generating unsupervised examples...:  12%|█▏        | 6103/50000 [00:08<00:20, 2125.36 examples/s]\u001b[A\n",
      "Generating unsupervised examples...:  13%|█▎        | 6344/50000 [00:08<00:19, 2206.74 examples/s]\u001b[A\n",
      "Generating unsupervised examples...:  13%|█▎        | 6594/50000 [00:08<00:18, 2290.83 examples/s]\u001b[A\n",
      "Generating unsupervised examples...:  14%|█▎        | 6827/50000 [00:08<00:18, 2300.57 examples/s]\u001b[A\n",
      "Generating unsupervised examples...:  14%|█▍        | 7059/50000 [00:09<00:20, 2120.68 examples/s]\u001b[A\n",
      "Generating unsupervised examples...:  15%|█▍        | 7290/50000 [00:09<00:19, 2171.95 examples/s]\u001b[A\n",
      "Generating unsupervised examples...:  15%|█▌        | 7526/50000 [00:09<00:19, 2224.34 examples/s]\u001b[A\n",
      "Generating unsupervised examples...:  16%|█▌        | 7778/50000 [00:09<00:18, 2309.90 examples/s]\u001b[A\n",
      "Generating unsupervised examples...:  16%|█▌        | 8011/50000 [00:09<00:18, 2240.52 examples/s]\u001b[A\n",
      "Generating unsupervised examples...:  16%|█▋        | 8237/50000 [00:09<00:19, 2103.96 examples/s]\u001b[A\n",
      "Generating unsupervised examples...:  17%|█▋        | 8450/50000 [00:09<00:20, 2030.17 examples/s]\u001b[A\n",
      "Generating unsupervised examples...:  17%|█▋        | 8655/50000 [00:09<00:20, 2010.86 examples/s]\u001b[A\n",
      "Generating unsupervised examples...:  18%|█▊        | 8858/50000 [00:09<00:20, 2010.22 examples/s]\u001b[A\n",
      "Generating unsupervised examples...:  18%|█▊        | 9092/50000 [00:10<00:19, 2104.04 examples/s]\u001b[A\n",
      "Generating unsupervised examples...:  19%|█▊        | 9351/50000 [00:10<00:18, 2244.44 examples/s]\u001b[A\n",
      "Generating unsupervised examples...:  19%|█▉        | 9577/50000 [00:10<00:18, 2166.89 examples/s]\u001b[A\n",
      "Generating unsupervised examples...:  20%|█▉        | 9841/50000 [00:10<00:17, 2301.92 examples/s]\u001b[A\n",
      "Generating unsupervised examples...:  20%|██        | 10104/50000 [00:10<00:16, 2395.79 examples/s]\u001b[A\n",
      "Generating unsupervised examples...:  21%|██        | 10361/50000 [00:10<00:16, 2445.97 examples/s]\u001b[A\n",
      "Generating unsupervised examples...:  21%|██▏       | 10625/50000 [00:10<00:15, 2502.30 examples/s]\u001b[A\n",
      "Generating unsupervised examples...:  22%|██▏       | 10883/50000 [00:10<00:15, 2524.48 examples/s]\u001b[A\n",
      "Generating unsupervised examples...:  22%|██▏       | 11160/50000 [00:10<00:14, 2595.36 examples/s]\u001b[A\n",
      "Generating unsupervised examples...:  23%|██▎       | 11420/50000 [00:10<00:15, 2543.39 examples/s]\u001b[A\n",
      "Generating unsupervised examples...:  23%|██▎       | 11675/50000 [00:11<00:15, 2503.64 examples/s]\u001b[A\n",
      "Generating unsupervised examples...:  24%|██▍       | 11934/50000 [00:11<00:15, 2526.12 examples/s]\u001b[A\n",
      "Generating unsupervised examples...:  24%|██▍       | 12187/50000 [00:11<00:15, 2510.54 examples/s]\u001b[A\n",
      "Generating unsupervised examples...:  25%|██▍       | 12439/50000 [00:11<00:14, 2511.29 examples/s]\u001b[A\n",
      "Generating unsupervised examples...:  25%|██▌       | 12693/50000 [00:11<00:14, 2518.62 examples/s]\u001b[A\n",
      "Generating unsupervised examples...:  26%|██▌       | 12945/50000 [00:11<00:15, 2361.32 examples/s]\u001b[A\n",
      "Generating unsupervised examples...:  26%|██▋       | 13184/50000 [00:11<00:15, 2340.85 examples/s]\u001b[A\n",
      "Generating unsupervised examples...:  27%|██▋       | 13425/50000 [00:11<00:15, 2358.63 examples/s]\u001b[A\n",
      "Generating unsupervised examples...:  27%|██▋       | 13662/50000 [00:11<00:15, 2318.12 examples/s]\u001b[A\n",
      "Generating unsupervised examples...:  28%|██▊       | 13911/50000 [00:11<00:15, 2365.88 examples/s]\u001b[A\n",
      "Generating unsupervised examples...:  28%|██▊       | 14161/50000 [00:12<00:14, 2404.07 examples/s]\u001b[A\n",
      "Generating unsupervised examples...:  29%|██▉       | 14402/50000 [00:12<00:14, 2401.49 examples/s]\u001b[A\n",
      "Generating unsupervised examples...:  29%|██▉       | 14649/50000 [00:12<00:14, 2421.59 examples/s]\u001b[A\n",
      "Generating unsupervised examples...:  30%|██▉       | 14892/50000 [00:12<00:15, 2324.38 examples/s]\u001b[A\n",
      "Generating unsupervised examples...:  30%|███       | 15126/50000 [00:12<00:15, 2282.35 examples/s]\u001b[A\n",
      "Generating unsupervised examples...:  31%|███       | 15355/50000 [00:12<00:15, 2282.19 examples/s]\u001b[A\n",
      "Generating unsupervised examples...:  31%|███       | 15590/50000 [00:12<00:14, 2300.93 examples/s]\u001b[A\n",
      "Generating unsupervised examples...:  32%|███▏      | 15827/50000 [00:12<00:14, 2319.66 examples/s]\u001b[A\n",
      "Generating unsupervised examples...:  32%|███▏      | 16061/50000 [00:12<00:14, 2323.98 examples/s]\u001b[A\n",
      "Generating unsupervised examples...:  33%|███▎      | 16314/50000 [00:13<00:14, 2383.50 examples/s]\u001b[A\n",
      "Generating unsupervised examples...:  33%|███▎      | 16566/50000 [00:13<00:13, 2419.72 examples/s]\u001b[A\n",
      "Generating unsupervised examples...:  34%|███▎      | 16809/50000 [00:13<00:14, 2309.16 examples/s]\u001b[A\n",
      "Generating unsupervised examples...:  34%|███▍      | 17042/50000 [00:13<00:14, 2212.74 examples/s]\u001b[A\n",
      "Generating unsupervised examples...:  35%|███▍      | 17278/50000 [00:13<00:14, 2253.77 examples/s]\u001b[A\n",
      "Generating unsupervised examples...:  35%|███▌      | 17505/50000 [00:13<00:14, 2237.18 examples/s]\u001b[A\n",
      "Generating unsupervised examples...:  35%|███▌      | 17730/50000 [00:13<00:14, 2235.26 examples/s]\u001b[A\n",
      "Generating unsupervised examples...:  36%|███▌      | 17956/50000 [00:13<00:14, 2241.87 examples/s]\u001b[A\n",
      "Generating unsupervised examples...:  36%|███▋      | 18181/50000 [00:13<00:14, 2162.28 examples/s]\u001b[A\n",
      "Generating unsupervised examples...:  37%|███▋      | 18399/50000 [00:13<00:14, 2159.61 examples/s]\u001b[A\n",
      "Generating unsupervised examples...:  37%|███▋      | 18616/50000 [00:14<00:14, 2109.24 examples/s]\u001b[A\n",
      "Generating unsupervised examples...:  38%|███▊      | 18855/50000 [00:14<00:14, 2189.04 examples/s]\u001b[A\n",
      "Generating unsupervised examples...:  38%|███▊      | 19103/50000 [00:14<00:13, 2271.68 examples/s]\u001b[A\n",
      "Generating unsupervised examples...:  39%|███▊      | 19348/50000 [00:14<00:13, 2323.14 examples/s]\u001b[A\n",
      "Generating unsupervised examples...:  39%|███▉      | 19596/50000 [00:14<00:12, 2367.49 examples/s]\u001b[A\n",
      "Generating unsupervised examples...:  40%|███▉      | 19834/50000 [00:14<00:12, 2328.99 examples/s]\u001b[A\n",
      "Generating unsupervised examples...:  40%|████      | 20068/50000 [00:14<00:12, 2326.37 examples/s]\u001b[A\n",
      "Generating unsupervised examples...:  41%|████      | 20301/50000 [00:14<00:12, 2304.13 examples/s]\u001b[A\n",
      "Generating unsupervised examples...:  41%|████      | 20541/50000 [00:14<00:12, 2329.86 examples/s]\u001b[A\n",
      "Generating unsupervised examples...:  42%|████▏     | 20829/50000 [00:14<00:11, 2490.48 examples/s]\u001b[A\n",
      "Generating unsupervised examples...:  42%|████▏     | 21079/50000 [00:15<00:11, 2422.92 examples/s]\u001b[A\n",
      "Generating unsupervised examples...:  43%|████▎     | 21380/50000 [00:15<00:11, 2593.50 examples/s]\u001b[A\n",
      "Generating unsupervised examples...:  43%|████▎     | 21641/50000 [00:15<00:11, 2571.86 examples/s]\u001b[A\n",
      "Generating unsupervised examples...:  44%|████▍     | 21899/50000 [00:15<00:11, 2450.34 examples/s]\u001b[A\n",
      "Generating unsupervised examples...:  44%|████▍     | 22146/50000 [00:15<00:12, 2274.12 examples/s]\u001b[A\n",
      "Generating unsupervised examples...:  45%|████▍     | 22400/50000 [00:15<00:11, 2346.25 examples/s]\u001b[A\n",
      "Generating unsupervised examples...:  45%|████▌     | 22644/50000 [00:15<00:11, 2371.02 examples/s]\u001b[A\n",
      "Generating unsupervised examples...:  46%|████▌     | 22891/50000 [00:15<00:11, 2396.96 examples/s]\u001b[A\n",
      "Generating unsupervised examples...:  46%|████▋     | 23133/50000 [00:15<00:11, 2385.00 examples/s]\u001b[A\n",
      "Generating unsupervised examples...:  47%|████▋     | 23420/50000 [00:16<00:10, 2525.37 examples/s]\u001b[A\n",
      "Generating unsupervised examples...:  47%|████▋     | 23680/50000 [00:16<00:10, 2546.00 examples/s]\u001b[A\n",
      "Generating unsupervised examples...:  48%|████▊     | 23960/50000 [00:16<00:09, 2620.71 examples/s]\u001b[A\n",
      "Generating unsupervised examples...:  48%|████▊     | 24235/50000 [00:16<00:09, 2658.15 examples/s]\u001b[A\n",
      "Generating unsupervised examples...:  49%|████▉     | 24520/50000 [00:16<00:09, 2713.85 examples/s]\u001b[A\n",
      "Generating unsupervised examples...:  50%|████▉     | 24810/50000 [00:16<00:09, 2768.18 examples/s]\u001b[A\n",
      "Generating unsupervised examples...:  50%|█████     | 25104/50000 [00:16<00:08, 2819.32 examples/s]\u001b[A\n",
      "Generating unsupervised examples...:  51%|█████     | 25387/50000 [00:16<00:08, 2749.03 examples/s]\u001b[A\n",
      "Generating unsupervised examples...:  51%|█████▏    | 25688/50000 [00:16<00:08, 2824.33 examples/s]\u001b[A\n",
      "Generating unsupervised examples...:  52%|█████▏    | 25987/50000 [00:16<00:08, 2872.52 examples/s]\u001b[A\n",
      "Generating unsupervised examples...:  53%|█████▎    | 26284/50000 [00:17<00:08, 2901.03 examples/s]\u001b[A\n",
      "Generating unsupervised examples...:  53%|█████▎    | 26580/50000 [00:17<00:08, 2918.36 examples/s]\u001b[A\n",
      "Generating unsupervised examples...:  54%|█████▎    | 26873/50000 [00:17<00:07, 2921.33 examples/s]\u001b[A\n",
      "Generating unsupervised examples...:  54%|█████▍    | 27166/50000 [00:17<00:11, 2074.72 examples/s]\u001b[A\n",
      "Generating unsupervised examples...:  55%|█████▍    | 27417/50000 [00:17<00:10, 2175.71 examples/s]\u001b[A\n",
      "Generating unsupervised examples...:  55%|█████▌    | 27680/50000 [00:17<00:09, 2287.71 examples/s]\u001b[A\n",
      "Generating unsupervised examples...:  56%|█████▌    | 27930/50000 [00:17<00:09, 2331.41 examples/s]\u001b[A\n",
      "Generating unsupervised examples...:  56%|█████▋    | 28179/50000 [00:17<00:09, 2369.68 examples/s]\u001b[A\n",
      "Generating unsupervised examples...:  57%|█████▋    | 28428/50000 [00:17<00:08, 2402.33 examples/s]\u001b[A\n",
      "Generating unsupervised examples...:  57%|█████▋    | 28677/50000 [00:18<00:08, 2390.49 examples/s]\u001b[A\n",
      "Generating unsupervised examples...:  58%|█████▊    | 28936/50000 [00:18<00:08, 2446.77 examples/s]\u001b[A\n",
      "Generating unsupervised examples...:  58%|█████▊    | 29185/50000 [00:18<00:08, 2391.30 examples/s]\u001b[A\n",
      "Generating unsupervised examples...:  59%|█████▉    | 29450/50000 [00:18<00:08, 2465.28 examples/s]\u001b[A\n",
      "Generating unsupervised examples...:  59%|█████▉    | 29718/50000 [00:18<00:08, 2527.38 examples/s]\u001b[A\n",
      "Generating unsupervised examples...:  60%|█████▉    | 29985/50000 [00:18<00:07, 2568.50 examples/s]\u001b[A\n",
      "Generating unsupervised examples...:  60%|██████    | 30250/50000 [00:18<00:07, 2592.48 examples/s]\u001b[A\n",
      "Generating unsupervised examples...:  61%|██████    | 30511/50000 [00:18<00:07, 2574.41 examples/s]\u001b[A\n",
      "Generating unsupervised examples...:  62%|██████▏   | 30770/50000 [00:18<00:07, 2571.52 examples/s]\u001b[A\n",
      "Generating unsupervised examples...:  62%|██████▏   | 31033/50000 [00:19<00:07, 2587.70 examples/s]\u001b[A\n",
      "Generating unsupervised examples...:  63%|██████▎   | 31293/50000 [00:19<00:07, 2511.45 examples/s]\u001b[A\n",
      "Generating unsupervised examples...:  63%|██████▎   | 31545/50000 [00:19<00:07, 2449.88 examples/s]\u001b[A\n",
      "Generating unsupervised examples...:  64%|██████▎   | 31791/50000 [00:19<00:07, 2351.99 examples/s]\u001b[A\n",
      "Generating unsupervised examples...:  64%|██████▍   | 32028/50000 [00:19<00:07, 2323.68 examples/s]\u001b[A\n",
      "Generating unsupervised examples...:  65%|██████▍   | 32285/50000 [00:19<00:07, 2392.26 examples/s]\u001b[A\n",
      "Generating unsupervised examples...:  65%|██████▌   | 32549/50000 [00:19<00:07, 2462.01 examples/s]\u001b[A\n",
      "Generating unsupervised examples...:  66%|██████▌   | 32797/50000 [00:19<00:07, 2388.15 examples/s]\u001b[A\n",
      "Generating unsupervised examples...:  66%|██████▌   | 33040/50000 [00:19<00:07, 2398.22 examples/s]\u001b[A\n",
      "Generating unsupervised examples...:  67%|██████▋   | 33295/50000 [00:19<00:06, 2435.51 examples/s]\u001b[A\n",
      "Generating unsupervised examples...:  67%|██████▋   | 33540/50000 [00:20<00:06, 2353.08 examples/s]\u001b[A\n",
      "Generating unsupervised examples...:  68%|██████▊   | 33796/50000 [00:20<00:06, 2410.51 examples/s]\u001b[A\n",
      "Generating unsupervised examples...:  68%|██████▊   | 34071/50000 [00:20<00:06, 2509.05 examples/s]\u001b[A\n",
      "Generating unsupervised examples...:  69%|██████▊   | 34359/50000 [00:20<00:05, 2617.06 examples/s]\u001b[A\n",
      "Generating unsupervised examples...:  69%|██████▉   | 34622/50000 [00:20<00:05, 2613.59 examples/s]\u001b[A\n",
      "Generating unsupervised examples...:  70%|██████▉   | 34901/50000 [00:20<00:05, 2665.28 examples/s]\u001b[A\n",
      "Generating unsupervised examples...:  70%|███████   | 35183/50000 [00:20<00:05, 2709.37 examples/s]\u001b[A\n",
      "Generating unsupervised examples...:  71%|███████   | 35474/50000 [00:20<00:05, 2765.31 examples/s]\u001b[A\n",
      "Generating unsupervised examples...:  72%|███████▏  | 35751/50000 [00:20<00:05, 2765.35 examples/s]\u001b[A\n",
      "Generating unsupervised examples...:  72%|███████▏  | 36033/50000 [00:20<00:05, 2781.49 examples/s]\u001b[A\n",
      "Generating unsupervised examples...:  73%|███████▎  | 36312/50000 [00:21<00:05, 2652.37 examples/s]\u001b[A\n",
      "Generating unsupervised examples...:  73%|███████▎  | 36579/50000 [00:21<00:05, 2504.57 examples/s]\u001b[A\n",
      "Generating unsupervised examples...:  74%|███████▎  | 36832/50000 [00:21<00:05, 2494.74 examples/s]\u001b[A\n",
      "Generating unsupervised examples...:  74%|███████▍  | 37114/50000 [00:21<00:04, 2586.56 examples/s]\u001b[A\n",
      "Generating unsupervised examples...:  75%|███████▍  | 37393/50000 [00:21<00:04, 2644.60 examples/s]\u001b[A\n",
      "Generating unsupervised examples...:  75%|███████▌  | 37696/50000 [00:21<00:04, 2755.47 examples/s]\u001b[A\n",
      "Generating unsupervised examples...:  76%|███████▌  | 37973/50000 [00:21<00:04, 2728.32 examples/s]\u001b[A\n",
      "Generating unsupervised examples...:  76%|███████▋  | 38247/50000 [00:21<00:04, 2715.93 examples/s]\u001b[A\n",
      "Generating unsupervised examples...:  77%|███████▋  | 38543/50000 [00:21<00:04, 2787.20 examples/s]\u001b[A\n",
      "Generating unsupervised examples...:  78%|███████▊  | 38837/50000 [00:22<00:03, 2829.61 examples/s]\u001b[A\n",
      "Generating unsupervised examples...:  78%|███████▊  | 39121/50000 [00:22<00:04, 2689.71 examples/s]\u001b[A\n",
      "Generating unsupervised examples...:  79%|███████▉  | 39392/50000 [00:22<00:04, 2609.50 examples/s]\u001b[A\n",
      "Generating unsupervised examples...:  79%|███████▉  | 39655/50000 [00:22<00:04, 2585.84 examples/s]\u001b[A\n",
      "Generating unsupervised examples...:  80%|███████▉  | 39915/50000 [00:22<00:03, 2522.38 examples/s]\u001b[A\n",
      "Generating unsupervised examples...:  80%|████████  | 40173/50000 [00:22<00:03, 2537.41 examples/s]\u001b[A\n",
      "Generating unsupervised examples...:  81%|████████  | 40428/50000 [00:22<00:03, 2479.37 examples/s]\u001b[A\n",
      "Generating unsupervised examples...:  81%|████████▏ | 40677/50000 [00:22<00:03, 2398.97 examples/s]\u001b[A\n",
      "Generating unsupervised examples...:  82%|████████▏ | 40918/50000 [00:22<00:03, 2362.81 examples/s]\u001b[A\n",
      "Generating unsupervised examples...:  82%|████████▏ | 41155/50000 [00:23<00:03, 2326.42 examples/s]\u001b[A\n",
      "Generating unsupervised examples...:  83%|████████▎ | 41390/50000 [00:23<00:03, 2331.91 examples/s]\u001b[A\n",
      "Generating unsupervised examples...:  83%|████████▎ | 41629/50000 [00:23<00:03, 2346.69 examples/s]\u001b[A\n",
      "Generating unsupervised examples...:  84%|████████▍ | 41876/50000 [00:23<00:03, 2380.93 examples/s]\u001b[A\n",
      "Generating unsupervised examples...:  84%|████████▍ | 42142/50000 [00:23<00:03, 2461.87 examples/s]\u001b[A\n",
      "Generating unsupervised examples...:  85%|████████▍ | 42389/50000 [00:23<00:03, 2419.21 examples/s]\u001b[A\n",
      "Generating unsupervised examples...:  85%|████████▌ | 42653/50000 [00:23<00:02, 2482.37 examples/s]\u001b[A\n",
      "Generating unsupervised examples...:  86%|████████▌ | 42902/50000 [00:23<00:02, 2481.04 examples/s]\u001b[A\n",
      "Generating unsupervised examples...:  86%|████████▋ | 43158/50000 [00:23<00:02, 2502.97 examples/s]\u001b[A\n",
      "Generating unsupervised examples...:  87%|████████▋ | 43409/50000 [00:23<00:02, 2494.63 examples/s]\u001b[A\n",
      "Generating unsupervised examples...:  87%|████████▋ | 43672/50000 [00:24<00:02, 2534.69 examples/s]\u001b[A\n",
      "Generating unsupervised examples...:  88%|████████▊ | 43926/50000 [00:24<00:02, 2449.12 examples/s]\u001b[A\n",
      "Generating unsupervised examples...:  88%|████████▊ | 44172/50000 [00:24<00:02, 2443.36 examples/s]\u001b[A\n",
      "Generating unsupervised examples...:  89%|████████▉ | 44429/50000 [00:24<00:02, 2479.72 examples/s]\u001b[A\n",
      "Generating unsupervised examples...:  89%|████████▉ | 44701/50000 [00:24<00:02, 2548.74 examples/s]\u001b[A\n",
      "Generating unsupervised examples...:  90%|████████▉ | 44969/50000 [00:24<00:01, 2585.77 examples/s]\u001b[A\n",
      "Generating unsupervised examples...:  90%|█████████ | 45232/50000 [00:24<00:01, 2598.64 examples/s]\u001b[A\n",
      "Generating unsupervised examples...:  91%|█████████ | 45495/50000 [00:24<00:01, 2606.28 examples/s]\u001b[A\n",
      "Generating unsupervised examples...:  92%|█████████▏| 45760/50000 [00:24<00:01, 2618.27 examples/s]\u001b[A\n",
      "Generating unsupervised examples...:  92%|█████████▏| 46031/50000 [00:24<00:01, 2643.69 examples/s]\u001b[A\n",
      "Generating unsupervised examples...:  93%|█████████▎| 46296/50000 [00:25<00:01, 2609.76 examples/s]\u001b[A\n",
      "Generating unsupervised examples...:  93%|█████████▎| 46558/50000 [00:25<00:01, 2546.97 examples/s]\u001b[A\n",
      "Generating unsupervised examples...:  94%|█████████▎| 46815/50000 [00:25<00:01, 2551.94 examples/s]\u001b[A\n",
      "Generating unsupervised examples...:  94%|█████████▍| 47071/50000 [00:25<00:01, 2548.31 examples/s]\u001b[A\n",
      "Generating unsupervised examples...:  95%|█████████▍| 47329/50000 [00:25<00:01, 2555.76 examples/s]\u001b[A\n",
      "Generating unsupervised examples...:  95%|█████████▌| 47585/50000 [00:25<00:00, 2436.91 examples/s]\u001b[A\n",
      "Generating unsupervised examples...:  96%|█████████▌| 47844/50000 [00:25<00:00, 2480.07 examples/s]\u001b[A\n",
      "Generating unsupervised examples...:  96%|█████████▌| 48104/50000 [00:25<00:00, 2514.18 examples/s]\u001b[A\n",
      "Generating unsupervised examples...:  97%|█████████▋| 48371/50000 [00:25<00:00, 2558.34 examples/s]\u001b[A\n",
      "Generating unsupervised examples...:  97%|█████████▋| 48643/50000 [00:25<00:00, 2603.81 examples/s]\u001b[A\n",
      "Generating unsupervised examples...:  98%|█████████▊| 48911/50000 [00:26<00:00, 2625.89 examples/s]\u001b[A\n",
      "Generating unsupervised examples...:  98%|█████████▊| 49174/50000 [00:26<00:00, 2618.95 examples/s]\u001b[A\n",
      "Generating unsupervised examples...:  99%|█████████▉| 49437/50000 [00:26<00:00, 2592.02 examples/s]\u001b[A\n",
      "Generating unsupervised examples...:  99%|█████████▉| 49699/50000 [00:26<00:00, 2598.71 examples/s]\u001b[A\n",
      "Generating unsupervised examples...: 100%|█████████▉| 49961/50000 [00:26<00:00, 2602.57 examples/s]\u001b[A\n",
      "                                                                                                   \u001b[A\n",
      "Shuffling imdb_reviews-unsupervised.tfrecord...:   0%|          | 0/50000 [00:00<?, ? examples/s]\u001b[A\n",
      "Shuffling imdb_reviews-unsupervised.tfrecord...:   3%|▎         | 1436/50000 [00:00<00:03, 14357.41 examples/s]\u001b[A\n",
      "Shuffling imdb_reviews-unsupervised.tfrecord...:  20%|██        | 10169/50000 [00:00<00:00, 57277.54 examples/s]\u001b[A\n",
      "Shuffling imdb_reviews-unsupervised.tfrecord...:  37%|███▋      | 18727/50000 [00:00<00:00, 70196.13 examples/s]\u001b[A\n",
      "Shuffling imdb_reviews-unsupervised.tfrecord...:  57%|█████▋    | 28610/50000 [00:00<00:00, 81497.32 examples/s]\u001b[A\n",
      "Shuffling imdb_reviews-unsupervised.tfrecord...:  78%|███████▊  | 38791/50000 [00:00<00:00, 88816.29 examples/s]\u001b[A\n",
      "Shuffling imdb_reviews-unsupervised.tfrecord...:  97%|█████████▋| 48687/50000 [00:00<00:00, 92256.15 examples/s]\u001b[A\n",
      "\u001b[1mDataset imdb_reviews downloaded and prepared to /Users/neeraj/tensorflow_datasets/imdb_reviews/plain_text/1.0.0. Subsequent calls will reuse this data.\u001b[0m\n"
     ]
    }
   ],
   "source": [
    "import tensorflow_datasets as tfds \n",
    "\n",
    "imdb, info = tfds.load(\"imdb_reviews\", with_info=True, as_supervised=True)"
   ]
  },
  {
   "source": [
    "# Playing around with data"
   ],
   "cell_type": "markdown",
   "metadata": {}
  },
  {
   "source": [
    "Type of data in imdb data"
   ],
   "cell_type": "markdown",
   "metadata": {}
  },
  {
   "cell_type": "code",
   "execution_count": 4,
   "metadata": {},
   "outputs": [
    {
     "output_type": "execute_result",
     "data": {
      "text/plain": [
       "dict_keys([Split('train'), Split('test'), Split('unsupervised')])"
      ]
     },
     "metadata": {},
     "execution_count": 4
    }
   ],
   "source": [
    "imdb.keys()"
   ]
  },
  {
   "cell_type": "code",
   "execution_count": 8,
   "metadata": {},
   "outputs": [
    {
     "output_type": "stream",
     "name": "stdout",
     "text": [
      "No of training sentences :  25000\nNo of testing sentences :  25000\n"
     ]
    }
   ],
   "source": [
    "print(\"No of training sentences : \", len(imdb[\"train\"]))\n",
    "print(\"No of testing sentences : \", len(imdb[\"test\"]))"
   ]
  },
  {
   "source": [
    "# Creating train and test data"
   ],
   "cell_type": "markdown",
   "metadata": {}
  },
  {
   "cell_type": "code",
   "execution_count": 9,
   "metadata": {},
   "outputs": [],
   "source": [
    "train_data = imdb[\"train\"]\n",
    "test_data = imdb[\"test\"]"
   ]
  },
  {
   "cell_type": "code",
   "execution_count": 16,
   "metadata": {},
   "outputs": [
    {
     "output_type": "stream",
     "name": "stdout",
     "text": [
      "No of training sentences :  25000\nNo of testing sentences :  25000\n"
     ]
    }
   ],
   "source": [
    "train_sentences = []\n",
    "train_labels = []\n",
    "\n",
    "for sentence, label in train_data:\n",
    "    train_sentences.append(sentence.numpy().decode('utf-8'))\n",
    "    train_labels.append(label.numpy())\n",
    "\n",
    "test_sentences = []\n",
    "test_labels = []\n",
    "for sentence, label in test_data:\n",
    "    test_sentences.append(sentence.numpy().decode('utf-8'))\n",
    "    test_labels.append(label.numpy())\n",
    "\n",
    "print(\"No of training sentences : \", len(train_sentences))\n",
    "print(\"No of testing sentences : \", len(test_sentences))"
   ]
  },
  {
   "source": [
    "# Defining train parameters"
   ],
   "cell_type": "markdown",
   "metadata": {}
  },
  {
   "cell_type": "code",
   "execution_count": 26,
   "metadata": {},
   "outputs": [],
   "source": [
    "vocab_length = 10000\n",
    "embedding_size = 16\n",
    "max_length = 120\n",
    "oov_token = \"<OOV>\"\n",
    "padding_type = \"post\"\n",
    "truncate_type = \"post\""
   ]
  },
  {
   "source": [
    "# Creating tokenizer"
   ],
   "cell_type": "markdown",
   "metadata": {}
  },
  {
   "cell_type": "code",
   "execution_count": null,
   "metadata": {},
   "outputs": [],
   "source": [
    "from tensorflow.keras.preprocessing.text import Tokenizer\n",
    "from tensorflow.keras.preprocessing.sequence import pad_sequences\n",
    "\n",
    "tokenizer = Tokenizer(\n",
    "    num_words=vocab_length,\n",
    "    oov_token=oov_token\n",
    ")\n",
    "tokenizer.fit_on_texts(train_sentences)\n",
    "word_index = tokenizer.word_index\n",
    "# Train\n",
    "train_sequence = tokenizer.texts_to_sequences(train_sentences)\n",
    "train_padded_sequence = pad_sequences(\n",
    "    sequences=train_sequence,\n",
    "    maxlen=max_length,\n",
    "    padding=padding_type,\n",
    "    truncating=truncate_type\n",
    ")\n",
    "# Test\n",
    "test_sequence = tokenizer.texts_to_sequences(test_sentences)\n",
    "test_padded_sequence = pad_sequences(\n",
    "    sequences=test_sequence,\n",
    "    maxlen=max_length,\n",
    "    padding=padding_type,\n",
    "    truncating=truncate_type\n",
    ")"
   ]
  },
  {
   "source": [
    "# Defining the model"
   ],
   "cell_type": "markdown",
   "metadata": {}
  },
  {
   "cell_type": "code",
   "execution_count": 25,
   "metadata": {},
   "outputs": [
    {
     "output_type": "stream",
     "name": "stdout",
     "text": [
      "Model: \"sequential_3\"\n_________________________________________________________________\nLayer (type)                 Output Shape              Param #   \n=================================================================\nembedding_3 (Embedding)      (None, 120, 16)           160000    \n_________________________________________________________________\nflatten_3 (Flatten)          (None, 1920)              0         \n_________________________________________________________________\ndense_6 (Dense)              (None, 6)                 11526     \n_________________________________________________________________\ndense_7 (Dense)              (None, 1)                 7         \n=================================================================\nTotal params: 171,533\nTrainable params: 171,533\nNon-trainable params: 0\n_________________________________________________________________\n"
     ]
    }
   ],
   "source": [
    "import tensorflow as tf \n",
    "\n",
    "model = tf.keras.models.Sequential([\n",
    "    tf.keras.layers.Embedding(vocab_length, embedding_size, input_length=max_length),\n",
    "    tf.keras.layers.Flatten(),\n",
    "    tf.keras.layers.Dense(6, activation='relu'),\n",
    "    tf.keras.layers.Dense(1, activation='sigmoid'),\n",
    "])\n",
    "\n",
    "model.compile(\n",
    "    loss='binary_crossentropy',\n",
    "    metrics=[\"accuracy\"],\n",
    "    optimizer='adam'\n",
    ")\n",
    "model.summary()"
   ]
  },
  {
   "cell_type": "code",
   "execution_count": null,
   "metadata": {},
   "outputs": [],
   "source": []
  }
 ]
}