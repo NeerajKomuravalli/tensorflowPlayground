{
  "nbformat": 4,
  "nbformat_minor": 0,
  "metadata": {
    "colab": {
      "name": "train_on_sunspot_data.ipynb",
      "provenance": [],
      "collapsed_sections": []
    },
    "kernelspec": {
      "name": "python3",
      "display_name": "Python 3"
    },
    "language_info": {
      "name": "python"
    },
    "accelerator": "GPU"
  },
  "cells": [
    {
      "cell_type": "markdown",
      "metadata": {
        "id": "gJyiJaOwUpJF"
      },
      "source": [
        "# Imports"
      ]
    },
    {
      "cell_type": "code",
      "metadata": {
        "id": "Si_HMjwHUamc"
      },
      "source": [
        "import tensorflow as tf \n",
        "import os\n",
        "import pandas as pd\n",
        "import numpy as np\n",
        "import matplotlib.pyplot as plt\n",
        "from matplotlib.pyplot import figure"
      ],
      "execution_count": 1,
      "outputs": []
    },
    {
      "cell_type": "markdown",
      "metadata": {
        "id": "iZkOoFEZU1SU"
      },
      "source": [
        "# Declare global variables and hyperparameters"
      ]
    },
    {
      "cell_type": "code",
      "metadata": {
        "id": "Vp2PySm6Uu4e"
      },
      "source": [
        "window_size = 132 # In months\n",
        "# If you are running this on a google colab or not sure where to put the target data just use \"/tmp/\" (1st command otherwise the second)\n",
        "data_path = \"/tmp/\"\n",
        "# data_path = \"/Users/neeraj/Personal/learn/github/tensorflowPlayground/coursera/course4_time_series/week4/Data/\"\n",
        "csv_file_name = \"Sunspots.csv\"\n",
        "csv_file_path = os.path.join(data_path, csv_file_name)\n",
        "batch_size = 128\n",
        "shuffle_buffer = 1000\n",
        "train_data_size = 3000"
      ],
      "execution_count": 2,
      "outputs": []
    },
    {
      "cell_type": "markdown",
      "metadata": {
        "id": "UTYpgQGEU-g_"
      },
      "source": [
        "# Get data\n"
      ]
    },
    {
      "cell_type": "code",
      "metadata": {
        "colab": {
          "base_uri": "https://localhost:8080/"
        },
        "id": "Y-iNup8jU-JN",
        "outputId": "030a0c45-c36a-4616-a7a2-a0a9df5da7aa"
      },
      "source": [
        "!wget --no-check-certificate \\\n",
        "    https://storage.googleapis.com/laurencemoroney-blog.appspot.com/Sunspots.csv \\\n",
        "    -O $csv_file_path"
      ],
      "execution_count": 3,
      "outputs": [
        {
          "output_type": "stream",
          "text": [
            "--2021-06-05 11:34:13--  https://storage.googleapis.com/laurencemoroney-blog.appspot.com/Sunspots.csv\n",
            "Resolving storage.googleapis.com (storage.googleapis.com)... 142.251.5.128, 74.125.206.128, 64.233.167.128, ...\n",
            "Connecting to storage.googleapis.com (storage.googleapis.com)|142.251.5.128|:443... connected.\n",
            "HTTP request sent, awaiting response... 200 OK\n",
            "Length: 70827 (69K) [application/octet-stream]\n",
            "Saving to: ‘/tmp/Sunspots.csv’\n",
            "\n",
            "/tmp/Sunspots.csv   100%[===================>]  69.17K  --.-KB/s    in 0.001s  \n",
            "\n",
            "2021-06-05 11:34:13 (77.4 MB/s) - ‘/tmp/Sunspots.csv’ saved [70827/70827]\n",
            "\n"
          ],
          "name": "stdout"
        }
      ]
    },
    {
      "cell_type": "markdown",
      "metadata": {
        "id": "kWH-FLQCWh19"
      },
      "source": [
        "## Explore data"
      ]
    },
    {
      "cell_type": "code",
      "metadata": {
        "colab": {
          "base_uri": "https://localhost:8080/"
        },
        "id": "h_NgIbzhXUOv",
        "outputId": "860c563b-6340-4914-a3b9-c0431402d4b0"
      },
      "source": [
        "df = pd.read_csv(csv_file_path, index_col=0)\n",
        "print(\"Shape of the data : \", df.shape)"
      ],
      "execution_count": 4,
      "outputs": [
        {
          "output_type": "stream",
          "text": [
            "Shape of the data :  (3235, 2)\n"
          ],
          "name": "stdout"
        }
      ]
    },
    {
      "cell_type": "code",
      "metadata": {
        "colab": {
          "base_uri": "https://localhost:8080/"
        },
        "id": "cc-D01PkcHdB",
        "outputId": "ce7d89ea-de98-44c0-c5b6-763716578f8d"
      },
      "source": [
        "df.columns"
      ],
      "execution_count": 5,
      "outputs": [
        {
          "output_type": "execute_result",
          "data": {
            "text/plain": [
              "Index(['Date', 'Monthly Mean Total Sunspot Number'], dtype='object')"
            ]
          },
          "metadata": {
            "tags": []
          },
          "execution_count": 5
        }
      ]
    },
    {
      "cell_type": "code",
      "metadata": {
        "colab": {
          "base_uri": "https://localhost:8080/",
          "height": 204
        },
        "id": "_noxzypTaVE3",
        "outputId": "48bd8c0b-54e9-43d1-f866-a0fea58e3f19"
      },
      "source": [
        "df[:5]"
      ],
      "execution_count": 6,
      "outputs": [
        {
          "output_type": "execute_result",
          "data": {
            "text/html": [
              "<div>\n",
              "<style scoped>\n",
              "    .dataframe tbody tr th:only-of-type {\n",
              "        vertical-align: middle;\n",
              "    }\n",
              "\n",
              "    .dataframe tbody tr th {\n",
              "        vertical-align: top;\n",
              "    }\n",
              "\n",
              "    .dataframe thead th {\n",
              "        text-align: right;\n",
              "    }\n",
              "</style>\n",
              "<table border=\"1\" class=\"dataframe\">\n",
              "  <thead>\n",
              "    <tr style=\"text-align: right;\">\n",
              "      <th></th>\n",
              "      <th>Date</th>\n",
              "      <th>Monthly Mean Total Sunspot Number</th>\n",
              "    </tr>\n",
              "  </thead>\n",
              "  <tbody>\n",
              "    <tr>\n",
              "      <th>0</th>\n",
              "      <td>1749-01-31</td>\n",
              "      <td>96.7</td>\n",
              "    </tr>\n",
              "    <tr>\n",
              "      <th>1</th>\n",
              "      <td>1749-02-28</td>\n",
              "      <td>104.3</td>\n",
              "    </tr>\n",
              "    <tr>\n",
              "      <th>2</th>\n",
              "      <td>1749-03-31</td>\n",
              "      <td>116.7</td>\n",
              "    </tr>\n",
              "    <tr>\n",
              "      <th>3</th>\n",
              "      <td>1749-04-30</td>\n",
              "      <td>92.8</td>\n",
              "    </tr>\n",
              "    <tr>\n",
              "      <th>4</th>\n",
              "      <td>1749-05-31</td>\n",
              "      <td>141.7</td>\n",
              "    </tr>\n",
              "  </tbody>\n",
              "</table>\n",
              "</div>"
            ],
            "text/plain": [
              "         Date  Monthly Mean Total Sunspot Number\n",
              "0  1749-01-31                               96.7\n",
              "1  1749-02-28                              104.3\n",
              "2  1749-03-31                              116.7\n",
              "3  1749-04-30                               92.8\n",
              "4  1749-05-31                              141.7"
            ]
          },
          "metadata": {
            "tags": []
          },
          "execution_count": 6
        }
      ]
    },
    {
      "cell_type": "code",
      "metadata": {
        "colab": {
          "base_uri": "https://localhost:8080/",
          "height": 204
        },
        "id": "1AJijQDJZXlD",
        "outputId": "0b124329-ce8a-4cba-b2e5-865477a148ce"
      },
      "source": [
        "df[-5:]"
      ],
      "execution_count": 7,
      "outputs": [
        {
          "output_type": "execute_result",
          "data": {
            "text/html": [
              "<div>\n",
              "<style scoped>\n",
              "    .dataframe tbody tr th:only-of-type {\n",
              "        vertical-align: middle;\n",
              "    }\n",
              "\n",
              "    .dataframe tbody tr th {\n",
              "        vertical-align: top;\n",
              "    }\n",
              "\n",
              "    .dataframe thead th {\n",
              "        text-align: right;\n",
              "    }\n",
              "</style>\n",
              "<table border=\"1\" class=\"dataframe\">\n",
              "  <thead>\n",
              "    <tr style=\"text-align: right;\">\n",
              "      <th></th>\n",
              "      <th>Date</th>\n",
              "      <th>Monthly Mean Total Sunspot Number</th>\n",
              "    </tr>\n",
              "  </thead>\n",
              "  <tbody>\n",
              "    <tr>\n",
              "      <th>3230</th>\n",
              "      <td>2018-03-31</td>\n",
              "      <td>2.5</td>\n",
              "    </tr>\n",
              "    <tr>\n",
              "      <th>3231</th>\n",
              "      <td>2018-04-30</td>\n",
              "      <td>8.9</td>\n",
              "    </tr>\n",
              "    <tr>\n",
              "      <th>3232</th>\n",
              "      <td>2018-05-31</td>\n",
              "      <td>13.2</td>\n",
              "    </tr>\n",
              "    <tr>\n",
              "      <th>3233</th>\n",
              "      <td>2018-06-30</td>\n",
              "      <td>15.9</td>\n",
              "    </tr>\n",
              "    <tr>\n",
              "      <th>3234</th>\n",
              "      <td>2018-07-31</td>\n",
              "      <td>1.6</td>\n",
              "    </tr>\n",
              "  </tbody>\n",
              "</table>\n",
              "</div>"
            ],
            "text/plain": [
              "            Date  Monthly Mean Total Sunspot Number\n",
              "3230  2018-03-31                                2.5\n",
              "3231  2018-04-30                                8.9\n",
              "3232  2018-05-31                               13.2\n",
              "3233  2018-06-30                               15.9\n",
              "3234  2018-07-31                                1.6"
            ]
          },
          "metadata": {
            "tags": []
          },
          "execution_count": 7
        }
      ]
    },
    {
      "cell_type": "markdown",
      "metadata": {
        "id": "AqqduVOvaN_o"
      },
      "source": [
        "Checking for missing data points"
      ]
    },
    {
      "cell_type": "code",
      "metadata": {
        "colab": {
          "base_uri": "https://localhost:8080/"
        },
        "id": "CpuSAqXlZq8c",
        "outputId": "53ca9193-8850-4e16-af3b-e1dd219eea1b"
      },
      "source": [
        "3235 == (2018 - 1749)*12 + 7"
      ],
      "execution_count": 8,
      "outputs": [
        {
          "output_type": "execute_result",
          "data": {
            "text/plain": [
              "True"
            ]
          },
          "metadata": {
            "tags": []
          },
          "execution_count": 8
        }
      ]
    },
    {
      "cell_type": "markdown",
      "metadata": {
        "id": "WSlfrZLIYbJq"
      },
      "source": [
        "From initial inspection what we can see is that we have data of 3235 months with no missing datapoints from `1749-01-31` to `2018-07-31` every month's mean total sunspot "
      ]
    },
    {
      "cell_type": "markdown",
      "metadata": {
        "id": "c7uo3a1_c2nO"
      },
      "source": [
        "# Preprocessing of the data"
      ]
    },
    {
      "cell_type": "code",
      "metadata": {
        "id": "WeCs8WkubxvV"
      },
      "source": [
        "df.columns = [\"Date\", \"Mean_sun_spot\"]"
      ],
      "execution_count": 9,
      "outputs": []
    },
    {
      "cell_type": "code",
      "metadata": {
        "colab": {
          "base_uri": "https://localhost:8080/",
          "height": 204
        },
        "id": "8qJ8ja8idCfV",
        "outputId": "1ec8a4f9-84ea-45b5-ea05-fc33f11b4a68"
      },
      "source": [
        "df[:5]"
      ],
      "execution_count": 10,
      "outputs": [
        {
          "output_type": "execute_result",
          "data": {
            "text/html": [
              "<div>\n",
              "<style scoped>\n",
              "    .dataframe tbody tr th:only-of-type {\n",
              "        vertical-align: middle;\n",
              "    }\n",
              "\n",
              "    .dataframe tbody tr th {\n",
              "        vertical-align: top;\n",
              "    }\n",
              "\n",
              "    .dataframe thead th {\n",
              "        text-align: right;\n",
              "    }\n",
              "</style>\n",
              "<table border=\"1\" class=\"dataframe\">\n",
              "  <thead>\n",
              "    <tr style=\"text-align: right;\">\n",
              "      <th></th>\n",
              "      <th>Date</th>\n",
              "      <th>Mean_sun_spot</th>\n",
              "    </tr>\n",
              "  </thead>\n",
              "  <tbody>\n",
              "    <tr>\n",
              "      <th>0</th>\n",
              "      <td>1749-01-31</td>\n",
              "      <td>96.7</td>\n",
              "    </tr>\n",
              "    <tr>\n",
              "      <th>1</th>\n",
              "      <td>1749-02-28</td>\n",
              "      <td>104.3</td>\n",
              "    </tr>\n",
              "    <tr>\n",
              "      <th>2</th>\n",
              "      <td>1749-03-31</td>\n",
              "      <td>116.7</td>\n",
              "    </tr>\n",
              "    <tr>\n",
              "      <th>3</th>\n",
              "      <td>1749-04-30</td>\n",
              "      <td>92.8</td>\n",
              "    </tr>\n",
              "    <tr>\n",
              "      <th>4</th>\n",
              "      <td>1749-05-31</td>\n",
              "      <td>141.7</td>\n",
              "    </tr>\n",
              "  </tbody>\n",
              "</table>\n",
              "</div>"
            ],
            "text/plain": [
              "         Date  Mean_sun_spot\n",
              "0  1749-01-31           96.7\n",
              "1  1749-02-28          104.3\n",
              "2  1749-03-31          116.7\n",
              "3  1749-04-30           92.8\n",
              "4  1749-05-31          141.7"
            ]
          },
          "metadata": {
            "tags": []
          },
          "execution_count": 10
        }
      ]
    },
    {
      "cell_type": "markdown",
      "metadata": {
        "id": "zMCaXP3Gdi5y"
      },
      "source": [
        "# Visualisation of data"
      ]
    },
    {
      "cell_type": "code",
      "metadata": {
        "id": "dgS2ba5oeS3O"
      },
      "source": [
        "def plot_series(time, series, format=\"-\", start=0, end=None):\n",
        "    plt.plot(time[start:end], series[start:end], format)\n",
        "    plt.xlabel(\"Time (in months)\")\n",
        "    plt.ylabel(\"Value\")\n",
        "    plt.grid(True)"
      ],
      "execution_count": 44,
      "outputs": []
    },
    {
      "cell_type": "code",
      "metadata": {
        "colab": {
          "base_uri": "https://localhost:8080/",
          "height": 427
        },
        "id": "nl_FcZFVdEXC",
        "outputId": "830ece62-55db-458e-b699-cad8f3f55da5"
      },
      "source": [
        "figure(figsize=(16, 6), dpi=80)\n",
        "plot_series(df.index.values, df[\"Mean_sun_spot\"])"
      ],
      "execution_count": 45,
      "outputs": [
        {
          "output_type": "display_data",
          "data": {
            "image/png": "[encoded data removed]",
            "text/plain": [
              "<Figure size 1280x480 with 1 Axes>"
            ]
          },
          "metadata": {
            "tags": [],
            "needs_background": "light"
          }
        }
      ]
    },
    {
      "cell_type": "markdown",
      "metadata": {
        "id": "Jvh_xicKiDwk"
      },
      "source": [
        "# Seasonality in data\n",
        "\n",
        "A very naive approach will tell us that there are `24.5 peaks` over a period of `3235` months\n",
        "\n",
        "So we can say roughly that the seasonality in data is `132 months`"
      ]
    },
    {
      "cell_type": "markdown",
      "metadata": {
        "id": "KgxBFb1ilW1g"
      },
      "source": [
        "# Window data function"
      ]
    },
    {
      "cell_type": "code",
      "metadata": {
        "id": "Qlmtjh5gdpp4"
      },
      "source": [
        "def generate_window_data_for_train(series, window_size, batch_size, shuffle_buffer):\n",
        "    # Below command is required as Conv1D requires a 3D input => batch_shape + (steps, input_dim). Here steps will be the window size and \n",
        "    # we are just using one feature i.e Mean_sun_spot so the input_dim will be just 1\n",
        "    series = tf.expand_dims(series, axis=-1) \n",
        "    dataset = tf.data.Dataset.from_tensor_slices(series) # Converting to tensors\n",
        "    dataset = dataset.window(window_size+1, shift=1, drop_remainder=True)\n",
        "    dataset = dataset.flat_map(lambda x: x.batch(window_size+1))\n",
        "    dataset = dataset.shuffle(shuffle_buffer)\n",
        "    dataset = dataset.map(lambda x: (x[:-1], x[-1]))\n",
        "    return dataset.batch(batch_size).prefetch(1)"
      ],
      "execution_count": 13,
      "outputs": []
    },
    {
      "cell_type": "code",
      "metadata": {
        "id": "IV1zVZEVoyNx"
      },
      "source": [
        "def generate_window_data_for_test(series, window_size, batch_size, shuffle_buffer):\n",
        "    # Below command is required as Conv1D requires a 3D input => batch_shape + (steps, input_dim). Here steps will be the window size and \n",
        "    # we are just using one feature i.e Mean_sun_spot so the input_dim will be just 1\n",
        "    series = tf.expand_dims(series, axis=-1) \n",
        "    dataset = tf.data.Dataset.from_tensor_slices(series) # Converting to tensors\n",
        "    dataset = dataset.window(window_size+1, shift=1, drop_remainder=True)\n",
        "    dataset = dataset.flat_map(lambda x: x.batch(window_size+1))\n",
        "    return dataset.batch(batch_size).prefetch(1)"
      ],
      "execution_count": 14,
      "outputs": []
    },
    {
      "cell_type": "markdown",
      "metadata": {
        "id": "TZdXK0r3o8eW"
      },
      "source": [
        "# Make train and test data"
      ]
    },
    {
      "cell_type": "code",
      "metadata": {
        "id": "ubWr-JvknaiD"
      },
      "source": [
        "train_x = df[\"Mean_sun_spot\"][:train_data_size]\n",
        "train_time = df.index.values[:train_data_size]\n",
        "val_x = df[\"Mean_sun_spot\"][train_data_size:]\n",
        "val_time = df.index.values[train_data_size:]"
      ],
      "execution_count": 42,
      "outputs": []
    },
    {
      "cell_type": "code",
      "metadata": {
        "id": "hb4vOgysqIWH"
      },
      "source": [
        "train_data = generate_window_data_for_train(train_x, window_size, batch_size, shuffle_buffer)"
      ],
      "execution_count": 16,
      "outputs": []
    },
    {
      "cell_type": "markdown",
      "metadata": {
        "id": "iZXxK_I6C7ro"
      },
      "source": [
        "Inspecting each element of the generated data to check if the `X` and `Y` has the right dimensions"
      ]
    },
    {
      "cell_type": "code",
      "metadata": {
        "colab": {
          "base_uri": "https://localhost:8080/"
        },
        "id": "DV6jBifvxFsq",
        "outputId": "7fbae745-3488-4ee9-b450-440ceffff7c6"
      },
      "source": [
        "for i in train_data.as_numpy_iterator():\n",
        "  print(\"Output should be 2 :: \", len(i)) \n",
        "  print(\"Output should be ({}, {}, {}) :: \".format(batch_size, window_size, 1), i[0].shape)\n",
        "  print(\"Output should be ({}, {}) :: \".format(batch_size, 1), i[1].shape)\n",
        "  break"
      ],
      "execution_count": 17,
      "outputs": [
        {
          "output_type": "stream",
          "text": [
            "Output should be 2 ::  2\n",
            "Output should be (128, 132, 1) ::  (128, 132, 1)\n",
            "Output should be (128, 1) ::  (128, 1)\n"
          ],
          "name": "stdout"
        }
      ]
    },
    {
      "cell_type": "markdown",
      "metadata": {
        "id": "u9hZV05vDjea"
      },
      "source": [
        "# Define model"
      ]
    },
    {
      "cell_type": "markdown",
      "metadata": {
        "id": "BzQ-sYJS8vs3"
      },
      "source": [
        "## Hyper parameter tuning (learning rate)"
      ]
    },
    {
      "cell_type": "code",
      "metadata": {
        "colab": {
          "base_uri": "https://localhost:8080/"
        },
        "id": "cpvlUFtzxHys",
        "outputId": "ca5dd184-3388-4612-8db6-8811ed95f022"
      },
      "source": [
        "model = tf.keras.Sequential([\n",
        "                             tf.keras.layers.Conv1D(32, 5, activation=\"relu\", input_shape=[window_size, 1], padding=\"causal\", strides=1),\n",
        "                             tf.keras.layers.LSTM(64, return_sequences=True),\n",
        "                             tf.keras.layers.LSTM(64, return_sequences=True), # There is no need to do `return_sequences=True` you can make that parameter False as well \n",
        "                            #  but this will make sure that each datapoint in the window will have have more influence on the output, i thik (:-p)\n",
        "                             tf.keras.layers.Dense(32, activation=\"relu\"),\n",
        "                             tf.keras.layers.Dense(16, activation=\"relu\"),\n",
        "                             tf.keras.layers.Dense(1),\n",
        "                             tf.keras.layers.Lambda(lambda x: x * 400) # As max sunspot data is 398.2, we can either normalize the data or scale the output like this \n",
        "])\n",
        "\n",
        "model.summary()"
      ],
      "execution_count": 18,
      "outputs": [
        {
          "output_type": "stream",
          "text": [
            "Model: \"sequential\"\n",
            "_________________________________________________________________\n",
            "Layer (type)                 Output Shape              Param #   \n",
            "=================================================================\n",
            "conv1d (Conv1D)              (None, 132, 32)           192       \n",
            "_________________________________________________________________\n",
            "lstm (LSTM)                  (None, 132, 64)           24832     \n",
            "_________________________________________________________________\n",
            "lstm_1 (LSTM)                (None, 132, 64)           33024     \n",
            "_________________________________________________________________\n",
            "dense (Dense)                (None, 132, 32)           2080      \n",
            "_________________________________________________________________\n",
            "dense_1 (Dense)              (None, 132, 16)           528       \n",
            "_________________________________________________________________\n",
            "dense_2 (Dense)              (None, 132, 1)            17        \n",
            "_________________________________________________________________\n",
            "lambda (Lambda)              (None, 132, 1)            0         \n",
            "=================================================================\n",
            "Total params: 60,673\n",
            "Trainable params: 60,673\n",
            "Non-trainable params: 0\n",
            "_________________________________________________________________\n"
          ],
          "name": "stdout"
        }
      ]
    },
    {
      "cell_type": "markdown",
      "metadata": {
        "id": "I471V5RH8i27"
      },
      "source": [
        "### Define lerning rate scheduler"
      ]
    },
    {
      "cell_type": "code",
      "metadata": {
        "id": "ucL4vqHJ8iYO"
      },
      "source": [
        "lr_scheduler_callback = tf.keras.callbacks.LearningRateScheduler(\n",
        "    lambda epoch : 1e-8 * 10 **(epoch/20)\n",
        ")"
      ],
      "execution_count": 19,
      "outputs": []
    },
    {
      "cell_type": "code",
      "metadata": {
        "colab": {
          "base_uri": "https://localhost:8080/"
        },
        "id": "Fay9WacgG90q",
        "outputId": "6efb10b7-d128-477a-b3a9-c0f74dd6052d"
      },
      "source": [
        "model.compile(loss=tf.keras.losses.Huber(), optimizer=tf.keras.optimizers.SGD(learning_rate=1e-8, momentum=0.9), metrics=[\"mae\"])\n",
        "history = model.fit(train_data, epochs=100, callbacks=[lr_scheduler_callback])"
      ],
      "execution_count": 21,
      "outputs": [
        {
          "output_type": "stream",
          "text": [
            "Epoch 1/100\n",
            "23/23 [==============================] - 4s 31ms/step - loss: 47.1771 - mae: 47.6750\n",
            "Epoch 2/100\n",
            "23/23 [==============================] - 1s 34ms/step - loss: 47.1156 - mae: 47.6135\n",
            "Epoch 3/100\n",
            "23/23 [==============================] - 1s 34ms/step - loss: 47.0440 - mae: 47.5419\n",
            "Epoch 4/100\n",
            "23/23 [==============================] - 1s 34ms/step - loss: 46.9614 - mae: 47.4592\n",
            "Epoch 5/100\n",
            "23/23 [==============================] - 1s 33ms/step - loss: 46.8785 - mae: 47.3763\n",
            "Epoch 6/100\n",
            "23/23 [==============================] - 1s 33ms/step - loss: 46.7876 - mae: 47.2854\n",
            "Epoch 7/100\n",
            "23/23 [==============================] - 1s 33ms/step - loss: 46.6935 - mae: 47.1914\n",
            "Epoch 8/100\n",
            "23/23 [==============================] - 1s 33ms/step - loss: 46.5947 - mae: 47.0925\n",
            "Epoch 9/100\n",
            "23/23 [==============================] - 1s 34ms/step - loss: 46.4942 - mae: 46.9919\n",
            "Epoch 10/100\n",
            "23/23 [==============================] - 1s 33ms/step - loss: 46.3912 - mae: 46.8887\n",
            "Epoch 11/100\n",
            "23/23 [==============================] - 1s 34ms/step - loss: 46.2880 - mae: 46.7856\n",
            "Epoch 12/100\n",
            "23/23 [==============================] - 1s 33ms/step - loss: 46.1865 - mae: 46.6842\n",
            "Epoch 13/100\n",
            "23/23 [==============================] - 1s 33ms/step - loss: 46.0850 - mae: 46.5826\n",
            "Epoch 14/100\n",
            "23/23 [==============================] - 1s 32ms/step - loss: 45.9839 - mae: 46.4815\n",
            "Epoch 15/100\n",
            "23/23 [==============================] - 1s 34ms/step - loss: 45.8870 - mae: 46.3846\n",
            "Epoch 16/100\n",
            "23/23 [==============================] - 1s 35ms/step - loss: 45.7947 - mae: 46.2922\n",
            "Epoch 17/100\n",
            "23/23 [==============================] - 1s 33ms/step - loss: 45.7052 - mae: 46.2027\n",
            "Epoch 18/100\n",
            "23/23 [==============================] - 1s 33ms/step - loss: 45.6252 - mae: 46.1227\n",
            "Epoch 19/100\n",
            "23/23 [==============================] - 1s 33ms/step - loss: 45.5469 - mae: 46.0443\n",
            "Epoch 20/100\n",
            "23/23 [==============================] - 1s 33ms/step - loss: 45.4742 - mae: 45.9716\n",
            "Epoch 21/100\n",
            "23/23 [==============================] - 1s 34ms/step - loss: 45.4001 - mae: 45.8975\n",
            "Epoch 22/100\n",
            "23/23 [==============================] - 1s 35ms/step - loss: 45.3223 - mae: 45.8197\n",
            "Epoch 23/100\n",
            "23/23 [==============================] - 1s 34ms/step - loss: 45.2427 - mae: 45.7401\n",
            "Epoch 24/100\n",
            "23/23 [==============================] - 1s 33ms/step - loss: 45.1592 - mae: 45.6566\n",
            "Epoch 25/100\n",
            "23/23 [==============================] - 1s 34ms/step - loss: 45.0748 - mae: 45.5721\n",
            "Epoch 26/100\n",
            "23/23 [==============================] - 1s 34ms/step - loss: 44.9778 - mae: 45.4751\n",
            "Epoch 27/100\n",
            "23/23 [==============================] - 1s 34ms/step - loss: 44.8793 - mae: 45.3766\n",
            "Epoch 28/100\n",
            "23/23 [==============================] - 1s 34ms/step - loss: 44.7755 - mae: 45.2729\n",
            "Epoch 29/100\n",
            "23/23 [==============================] - 1s 33ms/step - loss: 44.6598 - mae: 45.1571\n",
            "Epoch 30/100\n",
            "23/23 [==============================] - 1s 35ms/step - loss: 44.5410 - mae: 45.0383\n",
            "Epoch 31/100\n",
            "23/23 [==============================] - 1s 34ms/step - loss: 44.4129 - mae: 44.9103\n",
            "Epoch 32/100\n",
            "23/23 [==============================] - 1s 34ms/step - loss: 44.2753 - mae: 44.7727\n",
            "Epoch 33/100\n",
            "23/23 [==============================] - 1s 33ms/step - loss: 44.1375 - mae: 44.6349\n",
            "Epoch 34/100\n",
            "23/23 [==============================] - 1s 32ms/step - loss: 43.9952 - mae: 44.4926\n",
            "Epoch 35/100\n",
            "23/23 [==============================] - 1s 33ms/step - loss: 43.8212 - mae: 44.3185\n",
            "Epoch 36/100\n",
            "23/23 [==============================] - 1s 34ms/step - loss: 43.6696 - mae: 44.1670\n",
            "Epoch 37/100\n",
            "23/23 [==============================] - 1s 35ms/step - loss: 43.4765 - mae: 43.9739\n",
            "Epoch 38/100\n",
            "23/23 [==============================] - 1s 35ms/step - loss: 43.2915 - mae: 43.7888\n",
            "Epoch 39/100\n",
            "23/23 [==============================] - 1s 33ms/step - loss: 43.1001 - mae: 43.5973\n",
            "Epoch 40/100\n",
            "23/23 [==============================] - 1s 33ms/step - loss: 42.8888 - mae: 43.3860\n",
            "Epoch 41/100\n",
            "23/23 [==============================] - 1s 33ms/step - loss: 42.7067 - mae: 43.2038\n",
            "Epoch 42/100\n",
            "23/23 [==============================] - 1s 34ms/step - loss: 42.4960 - mae: 42.9932\n",
            "Epoch 43/100\n",
            "23/23 [==============================] - 1s 36ms/step - loss: 42.2653 - mae: 42.7624\n",
            "Epoch 44/100\n",
            "23/23 [==============================] - 1s 35ms/step - loss: 42.1357 - mae: 42.6327\n",
            "Epoch 45/100\n",
            "23/23 [==============================] - 1s 32ms/step - loss: 41.8536 - mae: 42.3507\n",
            "Epoch 46/100\n",
            "23/23 [==============================] - 1s 34ms/step - loss: 41.8071 - mae: 42.3041\n",
            "Epoch 47/100\n",
            "23/23 [==============================] - 1s 33ms/step - loss: 41.5865 - mae: 42.0835\n",
            "Epoch 48/100\n",
            "23/23 [==============================] - 1s 32ms/step - loss: 41.7277 - mae: 42.2248\n",
            "Epoch 49/100\n",
            "23/23 [==============================] - 1s 34ms/step - loss: 41.3381 - mae: 41.8350\n",
            "Epoch 50/100\n",
            "23/23 [==============================] - 1s 34ms/step - loss: 41.0955 - mae: 41.5924\n",
            "Epoch 51/100\n",
            "23/23 [==============================] - 1s 34ms/step - loss: 41.7381 - mae: 42.2350\n",
            "Epoch 52/100\n",
            "23/23 [==============================] - 1s 34ms/step - loss: 40.7332 - mae: 41.2301\n",
            "Epoch 53/100\n",
            "23/23 [==============================] - 1s 35ms/step - loss: 40.7132 - mae: 41.2100\n",
            "Epoch 54/100\n",
            "23/23 [==============================] - 1s 34ms/step - loss: 40.5850 - mae: 41.0819\n",
            "Epoch 55/100\n",
            "23/23 [==============================] - 1s 33ms/step - loss: 41.0092 - mae: 41.5061\n",
            "Epoch 56/100\n",
            "23/23 [==============================] - 1s 34ms/step - loss: 40.3758 - mae: 40.8727\n",
            "Epoch 57/100\n",
            "23/23 [==============================] - 1s 34ms/step - loss: 40.9619 - mae: 41.4589\n",
            "Epoch 58/100\n",
            "23/23 [==============================] - 1s 33ms/step - loss: 40.4267 - mae: 40.9235\n",
            "Epoch 59/100\n",
            "23/23 [==============================] - 1s 33ms/step - loss: 41.8198 - mae: 42.3169\n",
            "Epoch 60/100\n",
            "23/23 [==============================] - 1s 34ms/step - loss: 41.5527 - mae: 42.0497\n",
            "Epoch 61/100\n",
            "23/23 [==============================] - 1s 33ms/step - loss: 40.7186 - mae: 41.2155\n",
            "Epoch 62/100\n",
            "23/23 [==============================] - 1s 32ms/step - loss: 41.5415 - mae: 42.0384\n",
            "Epoch 63/100\n",
            "23/23 [==============================] - 1s 34ms/step - loss: 42.1722 - mae: 42.6692\n",
            "Epoch 64/100\n",
            "23/23 [==============================] - 1s 33ms/step - loss: 42.5775 - mae: 43.0745\n",
            "Epoch 65/100\n",
            "23/23 [==============================] - 1s 33ms/step - loss: 41.6085 - mae: 42.1054\n",
            "Epoch 66/100\n",
            "23/23 [==============================] - 1s 34ms/step - loss: 41.4140 - mae: 41.9110\n",
            "Epoch 67/100\n",
            "23/23 [==============================] - 1s 33ms/step - loss: 44.5297 - mae: 45.0268\n",
            "Epoch 68/100\n",
            "23/23 [==============================] - 1s 34ms/step - loss: 40.4849 - mae: 40.9817\n",
            "Epoch 69/100\n",
            "23/23 [==============================] - 1s 33ms/step - loss: 41.8302 - mae: 42.3273\n",
            "Epoch 70/100\n",
            "23/23 [==============================] - 1s 33ms/step - loss: 40.8794 - mae: 41.3763\n",
            "Epoch 71/100\n",
            "23/23 [==============================] - 1s 34ms/step - loss: 41.8032 - mae: 42.3004\n",
            "Epoch 72/100\n",
            "23/23 [==============================] - 1s 33ms/step - loss: 42.3764 - mae: 42.8735\n",
            "Epoch 73/100\n",
            "23/23 [==============================] - 1s 33ms/step - loss: 43.9285 - mae: 44.4257\n",
            "Epoch 74/100\n",
            "23/23 [==============================] - 1s 34ms/step - loss: 44.8056 - mae: 45.3030\n",
            "Epoch 75/100\n",
            "23/23 [==============================] - 1s 35ms/step - loss: 54.5011 - mae: 54.9992\n",
            "Epoch 76/100\n",
            "23/23 [==============================] - 1s 33ms/step - loss: 47.8726 - mae: 48.3704\n",
            "Epoch 77/100\n",
            "23/23 [==============================] - 1s 34ms/step - loss: 47.1884 - mae: 47.6859\n",
            "Epoch 78/100\n",
            "23/23 [==============================] - 1s 35ms/step - loss: 44.6637 - mae: 45.1608\n",
            "Epoch 79/100\n",
            "23/23 [==============================] - 1s 33ms/step - loss: 46.3483 - mae: 46.8456\n",
            "Epoch 80/100\n",
            "23/23 [==============================] - 1s 34ms/step - loss: 45.7469 - mae: 46.2440\n",
            "Epoch 81/100\n",
            "23/23 [==============================] - 1s 33ms/step - loss: 43.9351 - mae: 44.4326\n",
            "Epoch 82/100\n",
            "23/23 [==============================] - 1s 33ms/step - loss: 47.1252 - mae: 47.6229\n",
            "Epoch 83/100\n",
            "23/23 [==============================] - 1s 33ms/step - loss: 42.9057 - mae: 43.4028\n",
            "Epoch 84/100\n",
            "23/23 [==============================] - 1s 34ms/step - loss: 45.2169 - mae: 45.7143\n",
            "Epoch 85/100\n",
            "23/23 [==============================] - 1s 34ms/step - loss: 45.9806 - mae: 46.4779\n",
            "Epoch 86/100\n",
            "23/23 [==============================] - 1s 35ms/step - loss: 48.9178 - mae: 49.4149\n",
            "Epoch 87/100\n",
            "23/23 [==============================] - 1s 34ms/step - loss: 47.2083 - mae: 47.7058\n",
            "Epoch 88/100\n",
            "23/23 [==============================] - 1s 33ms/step - loss: 46.5187 - mae: 47.0160\n",
            "Epoch 89/100\n",
            "23/23 [==============================] - 1s 34ms/step - loss: 47.6725 - mae: 48.1700\n",
            "Epoch 90/100\n",
            "23/23 [==============================] - 1s 33ms/step - loss: 47.0795 - mae: 47.5771\n",
            "Epoch 91/100\n",
            "23/23 [==============================] - 1s 34ms/step - loss: 47.1832 - mae: 47.6808\n",
            "Epoch 92/100\n",
            "23/23 [==============================] - 1s 33ms/step - loss: 43.9769 - mae: 44.4740\n",
            "Epoch 93/100\n",
            "23/23 [==============================] - 1s 34ms/step - loss: 46.7022 - mae: 47.1997\n",
            "Epoch 94/100\n",
            "23/23 [==============================] - 1s 34ms/step - loss: 45.6114 - mae: 46.1089\n",
            "Epoch 95/100\n",
            "23/23 [==============================] - 1s 33ms/step - loss: 45.0929 - mae: 45.5905\n",
            "Epoch 96/100\n",
            "23/23 [==============================] - 1s 35ms/step - loss: 47.1827 - mae: 47.6798\n",
            "Epoch 97/100\n",
            "23/23 [==============================] - 1s 34ms/step - loss: 52.1937 - mae: 52.6916\n",
            "Epoch 98/100\n",
            "23/23 [==============================] - 1s 34ms/step - loss: 63.5025 - mae: 64.0008\n",
            "Epoch 99/100\n",
            "23/23 [==============================] - 1s 33ms/step - loss: 57.3823 - mae: 57.8807\n",
            "Epoch 100/100\n",
            "23/23 [==============================] - 1s 34ms/step - loss: 56.0299 - mae: 56.5271\n"
          ],
          "name": "stdout"
        }
      ]
    },
    {
      "cell_type": "markdown",
      "metadata": {
        "id": "vKLjZd5S-0_8"
      },
      "source": [
        "### Monitoring loss across learning rate to find best possible lerning rate "
      ]
    },
    {
      "cell_type": "code",
      "metadata": {
        "colab": {
          "base_uri": "https://localhost:8080/",
          "height": 269
        },
        "id": "pDN1rAH0-TSN",
        "outputId": "3bdd68f4-7bc9-417b-8878-9bd6f606304e"
      },
      "source": [
        "plt.semilogx(history.history['lr'], history.history['loss'])\n",
        "plt.show()"
      ],
      "execution_count": 26,
      "outputs": [
        {
          "output_type": "display_data",
          "data": {
            "image/png": "[encoded data removed]",
            "text/plain": [
              "<Figure size 432x288 with 1 Axes>"
            ]
          },
          "metadata": {
            "tags": [],
            "needs_background": "light"
          }
        }
      ]
    },
    {
      "cell_type": "markdown",
      "metadata": {
        "id": "oo2oee_R_CVM"
      },
      "source": [
        "**Norrowing our focus on the band that shows promising results**"
      ]
    },
    {
      "cell_type": "code",
      "metadata": {
        "colab": {
          "base_uri": "https://localhost:8080/",
          "height": 273
        },
        "id": "uX57uH0f-rnk",
        "outputId": "dfd11070-0dab-457a-8a29-cad449e1b144"
      },
      "source": [
        "plt.semilogx(history.history['lr'], history.history['loss'])\n",
        "plt.axis([8e-7, 1e-4, 0, 60])\n",
        "plt.show()"
      ],
      "execution_count": 29,
      "outputs": [
        {
          "output_type": "display_data",
          "data": {
            "image/png": "[encoded data removed]",
            "text/plain": [
              "<Figure size 432x288 with 1 Axes>"
            ]
          },
          "metadata": {
            "tags": [],
            "needs_background": "light"
          }
        }
      ]
    },
    {
      "cell_type": "markdown",
      "metadata": {
        "id": "9LvUSj2E_mt4"
      },
      "source": [
        "**Promising Learining rate : 1e-5**"
      ]
    },
    {
      "cell_type": "markdown",
      "metadata": {
        "id": "BZOmrElvAAl_"
      },
      "source": [
        "## Rewriting the model"
      ]
    },
    {
      "cell_type": "code",
      "metadata": {
        "id": "Y0JiJp2THTRA"
      },
      "source": [
        "# Rewriting these variables only to for ease of changing it continiously to improve the model\n",
        "window_size = 62\n",
        "batch_size = 128\n",
        "train_data = generate_window_data_for_train(train_x, window_size, batch_size, shuffle_buffer)"
      ],
      "execution_count": 53,
      "outputs": []
    },
    {
      "cell_type": "code",
      "metadata": {
        "colab": {
          "base_uri": "https://localhost:8080/"
        },
        "id": "-OCfEcQp_ZN-",
        "outputId": "2dbd680d-f293-4388-9ced-eeb2abf5cc86"
      },
      "source": [
        "model = tf.keras.Sequential([\n",
        "                             tf.keras.layers.Conv1D(64, 5, activation=\"relu\", input_shape=[window_size, 1], padding=\"causal\", strides=1),\n",
        "                             tf.keras.layers.LSTM(64, return_sequences=True),\n",
        "                             tf.keras.layers.LSTM(64, return_sequences=True), # There is no need to do `return_sequences=True` you can make that parameter False as well \n",
        "                            #  but this will make sure that each datapoint in the window will have have more influence on the output, i thik (:-p)\n",
        "                             tf.keras.layers.Dense(32, activation=\"relu\"),\n",
        "                             tf.keras.layers.Dense(16, activation=\"relu\"),\n",
        "                             tf.keras.layers.Dense(1),\n",
        "                             tf.keras.layers.Lambda(lambda x: x * 400) # As max sunspot data is 398.2, we can either normalize the data or scale the output like this \n",
        "])\n",
        "\n",
        "model.summary()\n",
        "\n",
        "model.compile(loss=tf.keras.losses.Huber(), optimizer=tf.keras.optimizers.SGD(learning_rate=1e-6, momentum=0.9), metrics=[\"mae\"])\n",
        "history = model.fit(train_data, epochs=400)"
      ],
      "execution_count": 61,
      "outputs": [
        {
          "output_type": "stream",
          "text": [
            "Model: \"sequential_4\"\n",
            "_________________________________________________________________\n",
            "Layer (type)                 Output Shape              Param #   \n",
            "=================================================================\n",
            "conv1d_4 (Conv1D)            (None, 62, 64)            384       \n",
            "_________________________________________________________________\n",
            "lstm_8 (LSTM)                (None, 62, 64)            33024     \n",
            "_________________________________________________________________\n",
            "lstm_9 (LSTM)                (None, 62, 64)            33024     \n",
            "_________________________________________________________________\n",
            "dense_12 (Dense)             (None, 62, 32)            2080      \n",
            "_________________________________________________________________\n",
            "dense_13 (Dense)             (None, 62, 16)            528       \n",
            "_________________________________________________________________\n",
            "dense_14 (Dense)             (None, 62, 1)             17        \n",
            "_________________________________________________________________\n",
            "lambda_4 (Lambda)            (None, 62, 1)             0         \n",
            "=================================================================\n",
            "Total params: 69,057\n",
            "Trainable params: 69,057\n",
            "Non-trainable params: 0\n",
            "_________________________________________________________________\n",
            "Epoch 1/400\n",
            "23/23 [==============================] - 4s 22ms/step - loss: 75.0316 - mae: 75.5294\n",
            "Epoch 2/400\n",
            "23/23 [==============================] - 1s 24ms/step - loss: 56.8379 - mae: 57.3357\n",
            "Epoch 3/400\n",
            "23/23 [==============================] - 1s 24ms/step - loss: 53.8138 - mae: 54.3117\n",
            "Epoch 4/400\n",
            "23/23 [==============================] - 1s 25ms/step - loss: 52.1938 - mae: 52.6919\n",
            "Epoch 5/400\n",
            "23/23 [==============================] - 1s 24ms/step - loss: 50.9812 - mae: 51.4791\n",
            "Epoch 6/400\n",
            "23/23 [==============================] - 1s 25ms/step - loss: 49.8850 - mae: 50.3829\n",
            "Epoch 7/400\n",
            "23/23 [==============================] - 1s 26ms/step - loss: 49.0055 - mae: 49.5036\n",
            "Epoch 8/400\n",
            "23/23 [==============================] - 1s 25ms/step - loss: 48.1056 - mae: 48.6036\n",
            "Epoch 9/400\n",
            "23/23 [==============================] - 1s 25ms/step - loss: 47.2957 - mae: 47.7936\n",
            "Epoch 10/400\n",
            "23/23 [==============================] - 1s 26ms/step - loss: 46.4851 - mae: 46.9829\n",
            "Epoch 11/400\n",
            "23/23 [==============================] - 1s 25ms/step - loss: 45.7304 - mae: 46.2282\n",
            "Epoch 12/400\n",
            "23/23 [==============================] - 1s 25ms/step - loss: 45.0113 - mae: 45.5090\n",
            "Epoch 13/400\n",
            "23/23 [==============================] - 1s 25ms/step - loss: 44.4792 - mae: 44.9768\n",
            "Epoch 14/400\n",
            "23/23 [==============================] - 1s 24ms/step - loss: 43.9940 - mae: 44.4918\n",
            "Epoch 15/400\n",
            "23/23 [==============================] - 1s 24ms/step - loss: 43.4900 - mae: 43.9877\n",
            "Epoch 16/400\n",
            "23/23 [==============================] - 1s 25ms/step - loss: 43.1545 - mae: 43.6520\n",
            "Epoch 17/400\n",
            "23/23 [==============================] - 1s 25ms/step - loss: 42.8695 - mae: 43.3670\n",
            "Epoch 18/400\n",
            "23/23 [==============================] - 1s 26ms/step - loss: 42.4823 - mae: 42.9799\n",
            "Epoch 19/400\n",
            "23/23 [==============================] - 1s 25ms/step - loss: 42.1561 - mae: 42.6534\n",
            "Epoch 20/400\n",
            "23/23 [==============================] - 1s 25ms/step - loss: 41.8116 - mae: 42.3089\n",
            "Epoch 21/400\n",
            "23/23 [==============================] - 1s 25ms/step - loss: 41.5982 - mae: 42.0954\n",
            "Epoch 22/400\n",
            "23/23 [==============================] - 1s 26ms/step - loss: 41.6145 - mae: 42.1118\n",
            "Epoch 23/400\n",
            "23/23 [==============================] - 1s 25ms/step - loss: 41.1835 - mae: 41.6805\n",
            "Epoch 24/400\n",
            "23/23 [==============================] - 1s 25ms/step - loss: 40.9821 - mae: 41.4792\n",
            "Epoch 25/400\n",
            "23/23 [==============================] - 1s 25ms/step - loss: 40.8722 - mae: 41.3693\n",
            "Epoch 26/400\n",
            "23/23 [==============================] - 1s 25ms/step - loss: 40.8243 - mae: 41.3214\n",
            "Epoch 27/400\n",
            "23/23 [==============================] - 1s 24ms/step - loss: 40.5934 - mae: 41.0905\n",
            "Epoch 28/400\n",
            "23/23 [==============================] - 1s 25ms/step - loss: 40.4214 - mae: 40.9185\n",
            "Epoch 29/400\n",
            "23/23 [==============================] - 1s 26ms/step - loss: 40.3592 - mae: 40.8563\n",
            "Epoch 30/400\n",
            "23/23 [==============================] - 1s 26ms/step - loss: 40.3784 - mae: 40.8757\n",
            "Epoch 31/400\n",
            "23/23 [==============================] - 1s 25ms/step - loss: 40.1469 - mae: 40.6439\n",
            "Epoch 32/400\n",
            "23/23 [==============================] - 1s 24ms/step - loss: 40.0559 - mae: 40.5529\n",
            "Epoch 33/400\n",
            "23/23 [==============================] - 1s 24ms/step - loss: 39.9236 - mae: 40.4206\n",
            "Epoch 34/400\n",
            "23/23 [==============================] - 1s 26ms/step - loss: 39.8563 - mae: 40.3534\n",
            "Epoch 35/400\n",
            "23/23 [==============================] - 1s 25ms/step - loss: 39.7163 - mae: 40.2133\n",
            "Epoch 36/400\n",
            "23/23 [==============================] - 1s 25ms/step - loss: 39.6284 - mae: 40.1254\n",
            "Epoch 37/400\n",
            "23/23 [==============================] - 1s 25ms/step - loss: 39.5090 - mae: 40.0060\n",
            "Epoch 38/400\n",
            "23/23 [==============================] - 1s 24ms/step - loss: 39.4170 - mae: 39.9140\n",
            "Epoch 39/400\n",
            "23/23 [==============================] - 1s 25ms/step - loss: 39.3664 - mae: 39.8635\n",
            "Epoch 40/400\n",
            "23/23 [==============================] - 1s 24ms/step - loss: 39.3354 - mae: 39.8324\n",
            "Epoch 41/400\n",
            "23/23 [==============================] - 1s 25ms/step - loss: 39.1677 - mae: 39.6647\n",
            "Epoch 42/400\n",
            "23/23 [==============================] - 1s 25ms/step - loss: 39.1867 - mae: 39.6838\n",
            "Epoch 43/400\n",
            "23/23 [==============================] - 1s 24ms/step - loss: 38.9936 - mae: 39.4906\n",
            "Epoch 44/400\n",
            "23/23 [==============================] - 1s 25ms/step - loss: 39.0228 - mae: 39.5198\n",
            "Epoch 45/400\n",
            "23/23 [==============================] - 1s 24ms/step - loss: 38.8823 - mae: 39.3792\n",
            "Epoch 46/400\n",
            "23/23 [==============================] - 1s 25ms/step - loss: 38.7993 - mae: 39.2962\n",
            "Epoch 47/400\n",
            "23/23 [==============================] - 1s 25ms/step - loss: 38.9094 - mae: 39.4063\n",
            "Epoch 48/400\n",
            "23/23 [==============================] - 1s 24ms/step - loss: 38.7376 - mae: 39.2344\n",
            "Epoch 49/400\n",
            "23/23 [==============================] - 1s 25ms/step - loss: 38.7243 - mae: 39.2212\n",
            "Epoch 50/400\n",
            "23/23 [==============================] - 1s 25ms/step - loss: 38.7408 - mae: 39.2376\n",
            "Epoch 51/400\n",
            "23/23 [==============================] - 1s 25ms/step - loss: 38.6314 - mae: 39.1282\n",
            "Epoch 52/400\n",
            "23/23 [==============================] - 1s 25ms/step - loss: 38.5567 - mae: 39.0536\n",
            "Epoch 53/400\n",
            "23/23 [==============================] - 1s 25ms/step - loss: 38.6431 - mae: 39.1399\n",
            "Epoch 54/400\n",
            "23/23 [==============================] - 1s 25ms/step - loss: 38.4540 - mae: 38.9507\n",
            "Epoch 55/400\n",
            "23/23 [==============================] - 1s 24ms/step - loss: 38.4819 - mae: 38.9787\n",
            "Epoch 56/400\n",
            "23/23 [==============================] - 1s 25ms/step - loss: 38.3144 - mae: 38.8112\n",
            "Epoch 57/400\n",
            "23/23 [==============================] - 1s 26ms/step - loss: 38.4243 - mae: 38.9211\n",
            "Epoch 58/400\n",
            "23/23 [==============================] - 1s 25ms/step - loss: 38.4483 - mae: 38.9451\n",
            "Epoch 59/400\n",
            "23/23 [==============================] - 1s 25ms/step - loss: 38.2981 - mae: 38.7947\n",
            "Epoch 60/400\n",
            "23/23 [==============================] - 1s 25ms/step - loss: 38.4553 - mae: 38.9521\n",
            "Epoch 61/400\n",
            "23/23 [==============================] - 1s 26ms/step - loss: 38.1517 - mae: 38.6483\n",
            "Epoch 62/400\n",
            "23/23 [==============================] - 1s 26ms/step - loss: 38.2307 - mae: 38.7275\n",
            "Epoch 63/400\n",
            "23/23 [==============================] - 1s 25ms/step - loss: 38.0574 - mae: 38.5540\n",
            "Epoch 64/400\n",
            "23/23 [==============================] - 1s 23ms/step - loss: 38.2628 - mae: 38.7593\n",
            "Epoch 65/400\n",
            "23/23 [==============================] - 1s 25ms/step - loss: 38.0592 - mae: 38.5558\n",
            "Epoch 66/400\n",
            "23/23 [==============================] - 1s 25ms/step - loss: 38.2904 - mae: 38.7870\n",
            "Epoch 67/400\n",
            "23/23 [==============================] - 1s 26ms/step - loss: 37.9617 - mae: 38.4584\n",
            "Epoch 68/400\n",
            "23/23 [==============================] - 1s 25ms/step - loss: 38.2462 - mae: 38.7429\n",
            "Epoch 69/400\n",
            "23/23 [==============================] - 1s 25ms/step - loss: 37.9563 - mae: 38.4530\n",
            "Epoch 70/400\n",
            "23/23 [==============================] - 1s 25ms/step - loss: 38.0950 - mae: 38.5917\n",
            "Epoch 71/400\n",
            "23/23 [==============================] - 1s 26ms/step - loss: 37.8281 - mae: 38.3249\n",
            "Epoch 72/400\n",
            "23/23 [==============================] - 1s 24ms/step - loss: 37.9878 - mae: 38.4846\n",
            "Epoch 73/400\n",
            "23/23 [==============================] - 1s 25ms/step - loss: 37.8080 - mae: 38.3046\n",
            "Epoch 74/400\n",
            "23/23 [==============================] - 1s 25ms/step - loss: 37.8043 - mae: 38.3010\n",
            "Epoch 75/400\n",
            "23/23 [==============================] - 1s 25ms/step - loss: 38.0700 - mae: 38.5667\n",
            "Epoch 76/400\n",
            "23/23 [==============================] - 1s 25ms/step - loss: 37.6627 - mae: 38.1594\n",
            "Epoch 77/400\n",
            "23/23 [==============================] - 1s 25ms/step - loss: 37.8899 - mae: 38.3866\n",
            "Epoch 78/400\n",
            "23/23 [==============================] - 1s 25ms/step - loss: 37.6123 - mae: 38.1090\n",
            "Epoch 79/400\n",
            "23/23 [==============================] - 1s 25ms/step - loss: 38.0282 - mae: 38.5249\n",
            "Epoch 80/400\n",
            "23/23 [==============================] - 1s 26ms/step - loss: 37.5878 - mae: 38.0845\n",
            "Epoch 81/400\n",
            "23/23 [==============================] - 1s 25ms/step - loss: 37.6460 - mae: 38.1426\n",
            "Epoch 82/400\n",
            "23/23 [==============================] - 1s 24ms/step - loss: 37.7453 - mae: 38.2420\n",
            "Epoch 83/400\n",
            "23/23 [==============================] - 1s 25ms/step - loss: 37.5459 - mae: 38.0426\n",
            "Epoch 84/400\n",
            "23/23 [==============================] - 1s 25ms/step - loss: 37.8301 - mae: 38.3267\n",
            "Epoch 85/400\n",
            "23/23 [==============================] - 1s 25ms/step - loss: 37.4079 - mae: 37.9044\n",
            "Epoch 86/400\n",
            "23/23 [==============================] - 1s 24ms/step - loss: 37.6767 - mae: 38.1733\n",
            "Epoch 87/400\n",
            "23/23 [==============================] - 1s 25ms/step - loss: 37.5249 - mae: 38.0215\n",
            "Epoch 88/400\n",
            "23/23 [==============================] - 1s 25ms/step - loss: 37.5779 - mae: 38.0745\n",
            "Epoch 89/400\n",
            "23/23 [==============================] - 1s 27ms/step - loss: 37.5248 - mae: 38.0215\n",
            "Epoch 90/400\n",
            "23/23 [==============================] - 1s 26ms/step - loss: 37.4825 - mae: 37.9790\n",
            "Epoch 91/400\n",
            "23/23 [==============================] - 1s 25ms/step - loss: 37.4771 - mae: 37.9737\n",
            "Epoch 92/400\n",
            "23/23 [==============================] - 1s 24ms/step - loss: 37.1889 - mae: 37.6856\n",
            "Epoch 93/400\n",
            "23/23 [==============================] - 1s 24ms/step - loss: 37.4546 - mae: 37.9511\n",
            "Epoch 94/400\n",
            "23/23 [==============================] - 1s 25ms/step - loss: 37.2227 - mae: 37.7193\n",
            "Epoch 95/400\n",
            "23/23 [==============================] - 1s 25ms/step - loss: 37.4600 - mae: 37.9567\n",
            "Epoch 96/400\n",
            "23/23 [==============================] - 1s 26ms/step - loss: 37.0910 - mae: 37.5874\n",
            "Epoch 97/400\n",
            "23/23 [==============================] - 1s 25ms/step - loss: 37.6157 - mae: 38.1123\n",
            "Epoch 98/400\n",
            "23/23 [==============================] - 1s 25ms/step - loss: 37.4187 - mae: 37.9154\n",
            "Epoch 99/400\n",
            "23/23 [==============================] - 1s 26ms/step - loss: 37.1211 - mae: 37.6175\n",
            "Epoch 100/400\n",
            "23/23 [==============================] - 1s 25ms/step - loss: 37.4213 - mae: 37.9178\n",
            "Epoch 101/400\n",
            "23/23 [==============================] - 1s 26ms/step - loss: 36.9423 - mae: 37.4387\n",
            "Epoch 102/400\n",
            "23/23 [==============================] - 1s 25ms/step - loss: 37.3767 - mae: 37.8734\n",
            "Epoch 103/400\n",
            "23/23 [==============================] - 1s 25ms/step - loss: 37.0354 - mae: 37.5318\n",
            "Epoch 104/400\n",
            "23/23 [==============================] - 1s 25ms/step - loss: 37.3246 - mae: 37.8212\n",
            "Epoch 105/400\n",
            "23/23 [==============================] - 1s 25ms/step - loss: 36.9735 - mae: 37.4701\n",
            "Epoch 106/400\n",
            "23/23 [==============================] - 1s 25ms/step - loss: 37.0887 - mae: 37.5853\n",
            "Epoch 107/400\n",
            "23/23 [==============================] - 1s 26ms/step - loss: 36.8988 - mae: 37.3953\n",
            "Epoch 108/400\n",
            "23/23 [==============================] - 1s 25ms/step - loss: 37.0391 - mae: 37.5356\n",
            "Epoch 109/400\n",
            "23/23 [==============================] - 1s 26ms/step - loss: 37.2127 - mae: 37.7095\n",
            "Epoch 110/400\n",
            "23/23 [==============================] - 1s 25ms/step - loss: 36.7303 - mae: 37.2268\n",
            "Epoch 111/400\n",
            "23/23 [==============================] - 1s 25ms/step - loss: 37.0345 - mae: 37.5311\n",
            "Epoch 112/400\n",
            "23/23 [==============================] - 1s 25ms/step - loss: 36.6758 - mae: 37.1723\n",
            "Epoch 113/400\n",
            "23/23 [==============================] - 1s 24ms/step - loss: 36.9764 - mae: 37.4730\n",
            "Epoch 114/400\n",
            "23/23 [==============================] - 1s 26ms/step - loss: 36.6315 - mae: 37.1280\n",
            "Epoch 115/400\n",
            "23/23 [==============================] - 1s 26ms/step - loss: 37.0385 - mae: 37.5352\n",
            "Epoch 116/400\n",
            "23/23 [==============================] - 1s 25ms/step - loss: 36.5212 - mae: 37.0176\n",
            "Epoch 117/400\n",
            "23/23 [==============================] - 1s 25ms/step - loss: 36.9490 - mae: 37.4455\n",
            "Epoch 118/400\n",
            "23/23 [==============================] - 1s 25ms/step - loss: 36.5226 - mae: 37.0192\n",
            "Epoch 119/400\n",
            "23/23 [==============================] - 1s 27ms/step - loss: 37.0933 - mae: 37.5900\n",
            "Epoch 120/400\n",
            "23/23 [==============================] - 1s 25ms/step - loss: 36.7629 - mae: 37.2596\n",
            "Epoch 121/400\n",
            "23/23 [==============================] - 1s 26ms/step - loss: 36.4982 - mae: 36.9949\n",
            "Epoch 122/400\n",
            "23/23 [==============================] - 1s 26ms/step - loss: 36.8700 - mae: 37.3665\n",
            "Epoch 123/400\n",
            "23/23 [==============================] - 1s 26ms/step - loss: 36.7742 - mae: 37.2709\n",
            "Epoch 124/400\n",
            "23/23 [==============================] - 1s 26ms/step - loss: 36.5615 - mae: 37.0580\n",
            "Epoch 125/400\n",
            "23/23 [==============================] - 1s 26ms/step - loss: 36.8218 - mae: 37.3185\n",
            "Epoch 126/400\n",
            "23/23 [==============================] - 1s 25ms/step - loss: 36.2852 - mae: 36.7817\n",
            "Epoch 127/400\n",
            "23/23 [==============================] - 1s 26ms/step - loss: 36.9708 - mae: 37.4673\n",
            "Epoch 128/400\n",
            "23/23 [==============================] - 1s 25ms/step - loss: 36.5396 - mae: 37.0360\n",
            "Epoch 129/400\n",
            "23/23 [==============================] - 1s 25ms/step - loss: 36.3998 - mae: 36.8964\n",
            "Epoch 130/400\n",
            "23/23 [==============================] - 1s 26ms/step - loss: 36.8290 - mae: 37.3255\n",
            "Epoch 131/400\n",
            "23/23 [==============================] - 1s 26ms/step - loss: 36.0373 - mae: 36.5338\n",
            "Epoch 132/400\n",
            "23/23 [==============================] - 1s 25ms/step - loss: 36.7327 - mae: 37.2293\n",
            "Epoch 133/400\n",
            "23/23 [==============================] - 1s 25ms/step - loss: 36.1460 - mae: 36.6423\n",
            "Epoch 134/400\n",
            "23/23 [==============================] - 1s 27ms/step - loss: 36.4059 - mae: 36.9023\n",
            "Epoch 135/400\n",
            "23/23 [==============================] - 1s 25ms/step - loss: 36.4456 - mae: 36.9420\n",
            "Epoch 136/400\n",
            "23/23 [==============================] - 1s 25ms/step - loss: 36.4682 - mae: 36.9647\n",
            "Epoch 137/400\n",
            "23/23 [==============================] - 1s 26ms/step - loss: 36.2375 - mae: 36.7340\n",
            "Epoch 138/400\n",
            "23/23 [==============================] - 1s 26ms/step - loss: 36.4718 - mae: 36.9684\n",
            "Epoch 139/400\n",
            "23/23 [==============================] - 1s 25ms/step - loss: 36.1813 - mae: 36.6778\n",
            "Epoch 140/400\n",
            "23/23 [==============================] - 1s 25ms/step - loss: 36.0478 - mae: 36.5443\n",
            "Epoch 141/400\n",
            "23/23 [==============================] - 1s 27ms/step - loss: 36.2019 - mae: 36.6983\n",
            "Epoch 142/400\n",
            "23/23 [==============================] - 1s 26ms/step - loss: 35.9701 - mae: 36.4665\n",
            "Epoch 143/400\n",
            "23/23 [==============================] - 1s 25ms/step - loss: 36.1333 - mae: 36.6298\n",
            "Epoch 144/400\n",
            "23/23 [==============================] - 1s 25ms/step - loss: 36.0211 - mae: 36.5175\n",
            "Epoch 145/400\n",
            "23/23 [==============================] - 1s 26ms/step - loss: 36.2635 - mae: 36.7601\n",
            "Epoch 146/400\n",
            "23/23 [==============================] - 1s 25ms/step - loss: 36.0807 - mae: 36.5771\n",
            "Epoch 147/400\n",
            "23/23 [==============================] - 1s 24ms/step - loss: 36.1399 - mae: 36.6363\n",
            "Epoch 148/400\n",
            "23/23 [==============================] - 1s 25ms/step - loss: 35.6680 - mae: 36.1643\n",
            "Epoch 149/400\n",
            "23/23 [==============================] - 1s 25ms/step - loss: 36.2872 - mae: 36.7837\n",
            "Epoch 150/400\n",
            "23/23 [==============================] - 1s 25ms/step - loss: 35.8124 - mae: 36.3089\n",
            "Epoch 151/400\n",
            "23/23 [==============================] - 1s 26ms/step - loss: 35.9027 - mae: 36.3993\n",
            "Epoch 152/400\n",
            "23/23 [==============================] - 1s 26ms/step - loss: 36.1926 - mae: 36.6890\n",
            "Epoch 153/400\n",
            "23/23 [==============================] - 1s 25ms/step - loss: 35.9435 - mae: 36.4400\n",
            "Epoch 154/400\n",
            "23/23 [==============================] - 1s 26ms/step - loss: 36.1763 - mae: 36.6728\n",
            "Epoch 155/400\n",
            "23/23 [==============================] - 1s 25ms/step - loss: 36.0409 - mae: 36.5373\n",
            "Epoch 156/400\n",
            "23/23 [==============================] - 1s 26ms/step - loss: 35.9721 - mae: 36.4686\n",
            "Epoch 157/400\n",
            "23/23 [==============================] - 1s 26ms/step - loss: 35.7506 - mae: 36.2471\n",
            "Epoch 158/400\n",
            "23/23 [==============================] - 1s 25ms/step - loss: 35.7731 - mae: 36.2699\n",
            "Epoch 159/400\n",
            "23/23 [==============================] - 1s 25ms/step - loss: 35.7842 - mae: 36.2807\n",
            "Epoch 160/400\n",
            "23/23 [==============================] - 1s 26ms/step - loss: 36.2679 - mae: 36.7643\n",
            "Epoch 161/400\n",
            "23/23 [==============================] - 1s 26ms/step - loss: 35.5114 - mae: 36.0078\n",
            "Epoch 162/400\n",
            "23/23 [==============================] - 1s 26ms/step - loss: 36.0409 - mae: 36.5375\n",
            "Epoch 163/400\n",
            "23/23 [==============================] - 1s 26ms/step - loss: 35.9891 - mae: 36.4855\n",
            "Epoch 164/400\n",
            "23/23 [==============================] - 1s 25ms/step - loss: 35.4349 - mae: 35.9314\n",
            "Epoch 165/400\n",
            "23/23 [==============================] - 1s 25ms/step - loss: 35.8234 - mae: 36.3199\n",
            "Epoch 166/400\n",
            "23/23 [==============================] - 1s 24ms/step - loss: 35.2921 - mae: 35.7885\n",
            "Epoch 167/400\n",
            "23/23 [==============================] - 1s 26ms/step - loss: 35.6068 - mae: 36.1033\n",
            "Epoch 168/400\n",
            "23/23 [==============================] - 1s 25ms/step - loss: 35.9190 - mae: 36.4156\n",
            "Epoch 169/400\n",
            "23/23 [==============================] - 1s 25ms/step - loss: 35.4032 - mae: 35.8997\n",
            "Epoch 170/400\n",
            "23/23 [==============================] - 1s 26ms/step - loss: 35.8477 - mae: 36.3442\n",
            "Epoch 171/400\n",
            "23/23 [==============================] - 1s 27ms/step - loss: 35.5103 - mae: 36.0067\n",
            "Epoch 172/400\n",
            "23/23 [==============================] - 1s 26ms/step - loss: 35.9609 - mae: 36.4576\n",
            "Epoch 173/400\n",
            "23/23 [==============================] - 1s 25ms/step - loss: 35.3973 - mae: 35.8938\n",
            "Epoch 174/400\n",
            "23/23 [==============================] - 1s 25ms/step - loss: 36.1554 - mae: 36.6521\n",
            "Epoch 175/400\n",
            "23/23 [==============================] - 1s 25ms/step - loss: 35.2760 - mae: 35.7723\n",
            "Epoch 176/400\n",
            "23/23 [==============================] - 1s 26ms/step - loss: 35.4490 - mae: 35.9455\n",
            "Epoch 177/400\n",
            "23/23 [==============================] - 1s 25ms/step - loss: 35.6490 - mae: 36.1456\n",
            "Epoch 178/400\n",
            "23/23 [==============================] - 1s 26ms/step - loss: 35.2528 - mae: 35.7493\n",
            "Epoch 179/400\n",
            "23/23 [==============================] - 1s 26ms/step - loss: 35.3850 - mae: 35.8815\n",
            "Epoch 180/400\n",
            "23/23 [==============================] - 1s 25ms/step - loss: 35.3136 - mae: 35.8100\n",
            "Epoch 181/400\n",
            "23/23 [==============================] - 1s 25ms/step - loss: 34.9771 - mae: 35.4735\n",
            "Epoch 182/400\n",
            "23/23 [==============================] - 1s 26ms/step - loss: 35.6894 - mae: 36.1859\n",
            "Epoch 183/400\n",
            "23/23 [==============================] - 1s 26ms/step - loss: 35.5560 - mae: 36.0526\n",
            "Epoch 184/400\n",
            "23/23 [==============================] - 1s 26ms/step - loss: 35.6303 - mae: 36.1267\n",
            "Epoch 185/400\n",
            "23/23 [==============================] - 1s 26ms/step - loss: 35.0076 - mae: 35.5041\n",
            "Epoch 186/400\n",
            "23/23 [==============================] - 1s 25ms/step - loss: 35.3869 - mae: 35.8834\n",
            "Epoch 187/400\n",
            "23/23 [==============================] - 1s 26ms/step - loss: 34.9396 - mae: 35.4360\n",
            "Epoch 188/400\n",
            "23/23 [==============================] - 1s 26ms/step - loss: 35.3491 - mae: 35.8455\n",
            "Epoch 189/400\n",
            "23/23 [==============================] - 1s 26ms/step - loss: 35.1665 - mae: 35.6631\n",
            "Epoch 190/400\n",
            "23/23 [==============================] - 1s 26ms/step - loss: 35.4702 - mae: 35.9666\n",
            "Epoch 191/400\n",
            "23/23 [==============================] - 1s 26ms/step - loss: 35.2212 - mae: 35.7178\n",
            "Epoch 192/400\n",
            "23/23 [==============================] - 1s 26ms/step - loss: 35.0748 - mae: 35.5712\n",
            "Epoch 193/400\n",
            "23/23 [==============================] - 1s 26ms/step - loss: 35.0323 - mae: 35.5287\n",
            "Epoch 194/400\n",
            "23/23 [==============================] - 1s 27ms/step - loss: 35.0451 - mae: 35.5415\n",
            "Epoch 195/400\n",
            "23/23 [==============================] - 1s 25ms/step - loss: 35.0852 - mae: 35.5816\n",
            "Epoch 196/400\n",
            "23/23 [==============================] - 1s 25ms/step - loss: 34.9967 - mae: 35.4932\n",
            "Epoch 197/400\n",
            "23/23 [==============================] - 1s 26ms/step - loss: 35.3037 - mae: 35.8001\n",
            "Epoch 198/400\n",
            "23/23 [==============================] - 1s 26ms/step - loss: 34.8041 - mae: 35.3005\n",
            "Epoch 199/400\n",
            "23/23 [==============================] - 1s 25ms/step - loss: 35.1782 - mae: 35.6745\n",
            "Epoch 200/400\n",
            "23/23 [==============================] - 1s 26ms/step - loss: 35.0641 - mae: 35.5606\n",
            "Epoch 201/400\n",
            "23/23 [==============================] - 1s 26ms/step - loss: 34.7221 - mae: 35.2185\n",
            "Epoch 202/400\n",
            "23/23 [==============================] - 1s 27ms/step - loss: 35.1093 - mae: 35.6058\n",
            "Epoch 203/400\n",
            "23/23 [==============================] - 1s 25ms/step - loss: 35.7919 - mae: 36.2885\n",
            "Epoch 204/400\n",
            "23/23 [==============================] - 1s 26ms/step - loss: 34.9947 - mae: 35.4913\n",
            "Epoch 205/400\n",
            "23/23 [==============================] - 1s 26ms/step - loss: 34.8529 - mae: 35.3494\n",
            "Epoch 206/400\n",
            "23/23 [==============================] - 1s 25ms/step - loss: 35.2153 - mae: 35.7117\n",
            "Epoch 207/400\n",
            "23/23 [==============================] - 1s 26ms/step - loss: 35.0920 - mae: 35.5884\n",
            "Epoch 208/400\n",
            "23/23 [==============================] - 1s 26ms/step - loss: 34.8494 - mae: 35.3459\n",
            "Epoch 209/400\n",
            "23/23 [==============================] - 1s 25ms/step - loss: 34.9358 - mae: 35.4323\n",
            "Epoch 210/400\n",
            "23/23 [==============================] - 1s 26ms/step - loss: 34.8972 - mae: 35.3937\n",
            "Epoch 211/400\n",
            "23/23 [==============================] - 1s 25ms/step - loss: 34.6985 - mae: 35.1948\n",
            "Epoch 212/400\n",
            "23/23 [==============================] - 1s 26ms/step - loss: 34.9019 - mae: 35.3985\n",
            "Epoch 213/400\n",
            "23/23 [==============================] - 1s 26ms/step - loss: 34.8560 - mae: 35.3524\n",
            "Epoch 214/400\n",
            "23/23 [==============================] - 1s 26ms/step - loss: 34.6017 - mae: 35.0979\n",
            "Epoch 215/400\n",
            "23/23 [==============================] - 1s 26ms/step - loss: 34.8491 - mae: 35.3456\n",
            "Epoch 216/400\n",
            "23/23 [==============================] - 1s 26ms/step - loss: 35.1832 - mae: 35.6797\n",
            "Epoch 217/400\n",
            "23/23 [==============================] - 1s 26ms/step - loss: 34.6452 - mae: 35.1416\n",
            "Epoch 218/400\n",
            "23/23 [==============================] - 1s 26ms/step - loss: 34.9571 - mae: 35.4536\n",
            "Epoch 219/400\n",
            "23/23 [==============================] - 1s 26ms/step - loss: 34.9058 - mae: 35.4023\n",
            "Epoch 220/400\n",
            "23/23 [==============================] - 1s 26ms/step - loss: 34.4901 - mae: 34.9864\n",
            "Epoch 221/400\n",
            "23/23 [==============================] - 1s 25ms/step - loss: 34.5168 - mae: 35.0131\n",
            "Epoch 222/400\n",
            "23/23 [==============================] - 1s 25ms/step - loss: 34.8411 - mae: 35.3375\n",
            "Epoch 223/400\n",
            "23/23 [==============================] - 1s 25ms/step - loss: 34.5615 - mae: 35.0578\n",
            "Epoch 224/400\n",
            "23/23 [==============================] - 1s 24ms/step - loss: 35.3245 - mae: 35.8211\n",
            "Epoch 225/400\n",
            "23/23 [==============================] - 1s 26ms/step - loss: 34.7311 - mae: 35.2276\n",
            "Epoch 226/400\n",
            "23/23 [==============================] - 1s 26ms/step - loss: 34.4898 - mae: 34.9863\n",
            "Epoch 227/400\n",
            "23/23 [==============================] - 1s 26ms/step - loss: 34.4751 - mae: 34.9716\n",
            "Epoch 228/400\n",
            "23/23 [==============================] - 1s 26ms/step - loss: 34.8616 - mae: 35.3578\n",
            "Epoch 229/400\n",
            "23/23 [==============================] - 1s 25ms/step - loss: 34.3271 - mae: 34.8236\n",
            "Epoch 230/400\n",
            "23/23 [==============================] - 1s 25ms/step - loss: 34.3718 - mae: 34.8682\n",
            "Epoch 231/400\n",
            "23/23 [==============================] - 1s 26ms/step - loss: 34.4606 - mae: 34.9570\n",
            "Epoch 232/400\n",
            "23/23 [==============================] - 1s 26ms/step - loss: 34.7570 - mae: 35.2533\n",
            "Epoch 233/400\n",
            "23/23 [==============================] - 1s 26ms/step - loss: 34.3633 - mae: 34.8598\n",
            "Epoch 234/400\n",
            "23/23 [==============================] - 1s 25ms/step - loss: 34.4359 - mae: 34.9322\n",
            "Epoch 235/400\n",
            "23/23 [==============================] - 1s 26ms/step - loss: 34.5161 - mae: 35.0126\n",
            "Epoch 236/400\n",
            "23/23 [==============================] - 1s 26ms/step - loss: 34.1655 - mae: 34.6618\n",
            "Epoch 237/400\n",
            "23/23 [==============================] - 1s 26ms/step - loss: 34.4074 - mae: 34.9039\n",
            "Epoch 238/400\n",
            "23/23 [==============================] - 1s 27ms/step - loss: 35.1324 - mae: 35.6288\n",
            "Epoch 239/400\n",
            "23/23 [==============================] - 1s 27ms/step - loss: 34.3867 - mae: 34.8832\n",
            "Epoch 240/400\n",
            "23/23 [==============================] - 1s 25ms/step - loss: 34.6150 - mae: 35.1114\n",
            "Epoch 241/400\n",
            "23/23 [==============================] - 1s 25ms/step - loss: 34.4224 - mae: 34.9188\n",
            "Epoch 242/400\n",
            "23/23 [==============================] - 1s 26ms/step - loss: 34.1242 - mae: 34.6206\n",
            "Epoch 243/400\n",
            "23/23 [==============================] - 1s 26ms/step - loss: 34.7026 - mae: 35.1989\n",
            "Epoch 244/400\n",
            "23/23 [==============================] - 1s 28ms/step - loss: 34.6330 - mae: 35.1292\n",
            "Epoch 245/400\n",
            "23/23 [==============================] - 1s 26ms/step - loss: 34.6172 - mae: 35.1136\n",
            "Epoch 246/400\n",
            "23/23 [==============================] - 1s 27ms/step - loss: 34.2419 - mae: 34.7383\n",
            "Epoch 247/400\n",
            "23/23 [==============================] - 1s 27ms/step - loss: 33.9766 - mae: 34.4729\n",
            "Epoch 248/400\n",
            "23/23 [==============================] - 1s 27ms/step - loss: 33.9693 - mae: 34.4653\n",
            "Epoch 249/400\n",
            "23/23 [==============================] - 1s 27ms/step - loss: 34.1968 - mae: 34.6931\n",
            "Epoch 250/400\n",
            "23/23 [==============================] - 1s 28ms/step - loss: 34.0289 - mae: 34.5253\n",
            "Epoch 251/400\n",
            "23/23 [==============================] - 1s 27ms/step - loss: 34.4086 - mae: 34.9049\n",
            "Epoch 252/400\n",
            "23/23 [==============================] - 1s 29ms/step - loss: 34.0091 - mae: 34.5054\n",
            "Epoch 253/400\n",
            "23/23 [==============================] - 1s 28ms/step - loss: 34.1614 - mae: 34.6577\n",
            "Epoch 254/400\n",
            "23/23 [==============================] - 1s 27ms/step - loss: 34.1282 - mae: 34.6245\n",
            "Epoch 255/400\n",
            "23/23 [==============================] - 1s 27ms/step - loss: 34.3833 - mae: 34.8794\n",
            "Epoch 256/400\n",
            "23/23 [==============================] - 1s 28ms/step - loss: 34.0254 - mae: 34.5216\n",
            "Epoch 257/400\n",
            "23/23 [==============================] - 1s 28ms/step - loss: 33.9913 - mae: 34.4876\n",
            "Epoch 258/400\n",
            "23/23 [==============================] - 1s 27ms/step - loss: 33.7929 - mae: 34.2892\n",
            "Epoch 259/400\n",
            "23/23 [==============================] - 1s 27ms/step - loss: 33.9094 - mae: 34.4056\n",
            "Epoch 260/400\n",
            "23/23 [==============================] - 1s 28ms/step - loss: 33.8137 - mae: 34.3098\n",
            "Epoch 261/400\n",
            "23/23 [==============================] - 1s 27ms/step - loss: 33.8070 - mae: 34.3031\n",
            "Epoch 262/400\n",
            "23/23 [==============================] - 1s 26ms/step - loss: 33.8558 - mae: 34.3521\n",
            "Epoch 263/400\n",
            "23/23 [==============================] - 1s 28ms/step - loss: 34.1779 - mae: 34.6742\n",
            "Epoch 264/400\n",
            "23/23 [==============================] - 1s 27ms/step - loss: 34.0363 - mae: 34.5327\n",
            "Epoch 265/400\n",
            "23/23 [==============================] - 1s 27ms/step - loss: 34.2158 - mae: 34.7121\n",
            "Epoch 266/400\n",
            "23/23 [==============================] - 1s 26ms/step - loss: 34.8270 - mae: 35.3234\n",
            "Epoch 267/400\n",
            "23/23 [==============================] - 1s 28ms/step - loss: 33.8949 - mae: 34.3913\n",
            "Epoch 268/400\n",
            "23/23 [==============================] - 1s 27ms/step - loss: 33.8936 - mae: 34.3898\n",
            "Epoch 269/400\n",
            "23/23 [==============================] - 1s 27ms/step - loss: 33.6791 - mae: 34.1754\n",
            "Epoch 270/400\n",
            "23/23 [==============================] - 1s 26ms/step - loss: 33.7873 - mae: 34.2836\n",
            "Epoch 271/400\n",
            "23/23 [==============================] - 1s 27ms/step - loss: 33.6750 - mae: 34.1710\n",
            "Epoch 272/400\n",
            "23/23 [==============================] - 1s 27ms/step - loss: 34.1838 - mae: 34.6803\n",
            "Epoch 273/400\n",
            "23/23 [==============================] - 1s 28ms/step - loss: 34.0322 - mae: 34.5285\n",
            "Epoch 274/400\n",
            "23/23 [==============================] - 1s 29ms/step - loss: 33.6489 - mae: 34.1451\n",
            "Epoch 275/400\n",
            "23/23 [==============================] - 1s 26ms/step - loss: 33.8215 - mae: 34.3178\n",
            "Epoch 276/400\n",
            "23/23 [==============================] - 1s 27ms/step - loss: 33.8309 - mae: 34.3272\n",
            "Epoch 277/400\n",
            "23/23 [==============================] - 1s 27ms/step - loss: 33.5423 - mae: 34.0385\n",
            "Epoch 278/400\n",
            "23/23 [==============================] - 1s 26ms/step - loss: 33.5225 - mae: 34.0187\n",
            "Epoch 279/400\n",
            "23/23 [==============================] - 1s 27ms/step - loss: 34.2598 - mae: 34.7561\n",
            "Epoch 280/400\n",
            "23/23 [==============================] - 1s 27ms/step - loss: 33.7220 - mae: 34.2182\n",
            "Epoch 281/400\n",
            "23/23 [==============================] - 1s 27ms/step - loss: 33.8149 - mae: 34.3111\n",
            "Epoch 282/400\n",
            "23/23 [==============================] - 1s 28ms/step - loss: 33.7902 - mae: 34.2864\n",
            "Epoch 283/400\n",
            "23/23 [==============================] - 1s 28ms/step - loss: 33.4457 - mae: 33.9417\n",
            "Epoch 284/400\n",
            "23/23 [==============================] - 1s 27ms/step - loss: 33.3226 - mae: 33.8185\n",
            "Epoch 285/400\n",
            "23/23 [==============================] - 1s 27ms/step - loss: 33.8776 - mae: 34.3738\n",
            "Epoch 286/400\n",
            "23/23 [==============================] - 1s 28ms/step - loss: 33.4056 - mae: 33.9018\n",
            "Epoch 287/400\n",
            "23/23 [==============================] - 1s 28ms/step - loss: 33.2307 - mae: 33.7269\n",
            "Epoch 288/400\n",
            "23/23 [==============================] - 1s 26ms/step - loss: 33.4748 - mae: 33.9711\n",
            "Epoch 289/400\n",
            "23/23 [==============================] - 1s 27ms/step - loss: 33.7300 - mae: 34.2263\n",
            "Epoch 290/400\n",
            "23/23 [==============================] - 1s 26ms/step - loss: 33.6879 - mae: 34.1841\n",
            "Epoch 291/400\n",
            "23/23 [==============================] - 1s 26ms/step - loss: 33.7646 - mae: 34.2608\n",
            "Epoch 292/400\n",
            "23/23 [==============================] - 1s 25ms/step - loss: 33.4776 - mae: 33.9737\n",
            "Epoch 293/400\n",
            "23/23 [==============================] - 1s 25ms/step - loss: 33.3694 - mae: 33.8656\n",
            "Epoch 294/400\n",
            "23/23 [==============================] - 1s 26ms/step - loss: 33.3244 - mae: 33.8204\n",
            "Epoch 295/400\n",
            "23/23 [==============================] - 1s 25ms/step - loss: 33.1731 - mae: 33.6692\n",
            "Epoch 296/400\n",
            "23/23 [==============================] - 1s 26ms/step - loss: 34.0449 - mae: 34.5409\n",
            "Epoch 297/400\n",
            "23/23 [==============================] - 1s 26ms/step - loss: 33.3817 - mae: 33.8780\n",
            "Epoch 298/400\n",
            "23/23 [==============================] - 1s 26ms/step - loss: 33.0722 - mae: 33.5684\n",
            "Epoch 299/400\n",
            "23/23 [==============================] - 1s 25ms/step - loss: 33.1297 - mae: 33.6259\n",
            "Epoch 300/400\n",
            "23/23 [==============================] - 1s 26ms/step - loss: 33.2328 - mae: 33.7289\n",
            "Epoch 301/400\n",
            "23/23 [==============================] - 1s 26ms/step - loss: 33.1663 - mae: 33.6624\n",
            "Epoch 302/400\n",
            "23/23 [==============================] - 1s 26ms/step - loss: 33.1452 - mae: 33.6413\n",
            "Epoch 303/400\n",
            "23/23 [==============================] - 1s 25ms/step - loss: 33.0686 - mae: 33.5648\n",
            "Epoch 304/400\n",
            "23/23 [==============================] - 1s 27ms/step - loss: 33.2764 - mae: 33.7726\n",
            "Epoch 305/400\n",
            "23/23 [==============================] - 1s 25ms/step - loss: 33.1361 - mae: 33.6322\n",
            "Epoch 306/400\n",
            "23/23 [==============================] - 1s 27ms/step - loss: 32.7702 - mae: 33.2663\n",
            "Epoch 307/400\n",
            "23/23 [==============================] - 1s 27ms/step - loss: 32.8370 - mae: 33.3331\n",
            "Epoch 308/400\n",
            "23/23 [==============================] - 1s 26ms/step - loss: 33.0736 - mae: 33.5697\n",
            "Epoch 309/400\n",
            "23/23 [==============================] - 1s 26ms/step - loss: 33.4223 - mae: 33.9183\n",
            "Epoch 310/400\n",
            "23/23 [==============================] - 1s 26ms/step - loss: 32.8618 - mae: 33.3577\n",
            "Epoch 311/400\n",
            "23/23 [==============================] - 1s 27ms/step - loss: 32.7335 - mae: 33.2296\n",
            "Epoch 312/400\n",
            "23/23 [==============================] - 1s 26ms/step - loss: 32.7155 - mae: 33.2115\n",
            "Epoch 313/400\n",
            "23/23 [==============================] - 1s 26ms/step - loss: 32.7621 - mae: 33.2583\n",
            "Epoch 314/400\n",
            "23/23 [==============================] - 1s 26ms/step - loss: 32.5561 - mae: 33.0521\n",
            "Epoch 315/400\n",
            "23/23 [==============================] - 1s 26ms/step - loss: 32.7573 - mae: 33.2534\n",
            "Epoch 316/400\n",
            "23/23 [==============================] - 1s 26ms/step - loss: 33.4028 - mae: 33.8991\n",
            "Epoch 317/400\n",
            "23/23 [==============================] - 1s 27ms/step - loss: 32.7766 - mae: 33.2728\n",
            "Epoch 318/400\n",
            "23/23 [==============================] - 1s 25ms/step - loss: 32.5113 - mae: 33.0072\n",
            "Epoch 319/400\n",
            "23/23 [==============================] - 1s 26ms/step - loss: 32.9781 - mae: 33.4743\n",
            "Epoch 320/400\n",
            "23/23 [==============================] - 1s 26ms/step - loss: 32.7719 - mae: 33.2681\n",
            "Epoch 321/400\n",
            "23/23 [==============================] - 1s 25ms/step - loss: 33.0231 - mae: 33.5191\n",
            "Epoch 322/400\n",
            "23/23 [==============================] - 1s 26ms/step - loss: 32.7072 - mae: 33.2031\n",
            "Epoch 323/400\n",
            "23/23 [==============================] - 1s 26ms/step - loss: 32.6314 - mae: 33.1274\n",
            "Epoch 324/400\n",
            "23/23 [==============================] - 1s 26ms/step - loss: 32.6642 - mae: 33.1602\n",
            "Epoch 325/400\n",
            "23/23 [==============================] - 1s 27ms/step - loss: 32.4625 - mae: 32.9586\n",
            "Epoch 326/400\n",
            "23/23 [==============================] - 1s 27ms/step - loss: 32.8492 - mae: 33.3453\n",
            "Epoch 327/400\n",
            "23/23 [==============================] - 1s 25ms/step - loss: 32.6594 - mae: 33.1554\n",
            "Epoch 328/400\n",
            "23/23 [==============================] - 1s 26ms/step - loss: 32.9156 - mae: 33.4118\n",
            "Epoch 329/400\n",
            "23/23 [==============================] - 1s 26ms/step - loss: 32.4845 - mae: 32.9807\n",
            "Epoch 330/400\n",
            "23/23 [==============================] - 1s 26ms/step - loss: 32.6874 - mae: 33.1834\n",
            "Epoch 331/400\n",
            "23/23 [==============================] - 1s 26ms/step - loss: 32.5788 - mae: 33.0749\n",
            "Epoch 332/400\n",
            "23/23 [==============================] - 1s 25ms/step - loss: 32.6066 - mae: 33.1027\n",
            "Epoch 333/400\n",
            "23/23 [==============================] - 1s 25ms/step - loss: 32.2400 - mae: 32.7361\n",
            "Epoch 334/400\n",
            "23/23 [==============================] - 1s 27ms/step - loss: 32.8285 - mae: 33.3246\n",
            "Epoch 335/400\n",
            "23/23 [==============================] - 1s 27ms/step - loss: 32.1903 - mae: 32.6863\n",
            "Epoch 336/400\n",
            "23/23 [==============================] - 1s 26ms/step - loss: 32.5836 - mae: 33.0797\n",
            "Epoch 337/400\n",
            "23/23 [==============================] - 1s 26ms/step - loss: 32.4537 - mae: 32.9498\n",
            "Epoch 338/400\n",
            "23/23 [==============================] - 1s 27ms/step - loss: 32.1624 - mae: 32.6584\n",
            "Epoch 339/400\n",
            "23/23 [==============================] - 1s 26ms/step - loss: 32.3380 - mae: 32.8341\n",
            "Epoch 340/400\n",
            "23/23 [==============================] - 1s 27ms/step - loss: 32.8779 - mae: 33.3741\n",
            "Epoch 341/400\n",
            "23/23 [==============================] - 1s 27ms/step - loss: 32.2755 - mae: 32.7716\n",
            "Epoch 342/400\n",
            "23/23 [==============================] - 1s 26ms/step - loss: 32.6338 - mae: 33.1299\n",
            "Epoch 343/400\n",
            "23/23 [==============================] - 1s 26ms/step - loss: 32.4773 - mae: 32.9734\n",
            "Epoch 344/400\n",
            "23/23 [==============================] - 1s 27ms/step - loss: 32.3027 - mae: 32.7987\n",
            "Epoch 345/400\n",
            "23/23 [==============================] - 1s 26ms/step - loss: 32.2899 - mae: 32.7857\n",
            "Epoch 346/400\n",
            "23/23 [==============================] - 1s 27ms/step - loss: 32.2048 - mae: 32.7008\n",
            "Epoch 347/400\n",
            "23/23 [==============================] - 1s 27ms/step - loss: 32.7968 - mae: 33.2930\n",
            "Epoch 348/400\n",
            "23/23 [==============================] - 1s 26ms/step - loss: 32.3324 - mae: 32.8285\n",
            "Epoch 349/400\n",
            "23/23 [==============================] - 1s 26ms/step - loss: 32.7380 - mae: 33.2342\n",
            "Epoch 350/400\n",
            "23/23 [==============================] - 1s 27ms/step - loss: 32.3058 - mae: 32.8017\n",
            "Epoch 351/400\n",
            "23/23 [==============================] - 1s 26ms/step - loss: 32.4888 - mae: 32.9850\n",
            "Epoch 352/400\n",
            "23/23 [==============================] - 1s 26ms/step - loss: 31.9155 - mae: 32.4116\n",
            "Epoch 353/400\n",
            "23/23 [==============================] - 1s 27ms/step - loss: 32.0774 - mae: 32.5732\n",
            "Epoch 354/400\n",
            "23/23 [==============================] - 1s 27ms/step - loss: 32.1466 - mae: 32.6426\n",
            "Epoch 355/400\n",
            "23/23 [==============================] - 1s 27ms/step - loss: 32.2305 - mae: 32.7264\n",
            "Epoch 356/400\n",
            "23/23 [==============================] - 1s 28ms/step - loss: 32.3324 - mae: 32.8283\n",
            "Epoch 357/400\n",
            "23/23 [==============================] - 1s 28ms/step - loss: 31.9736 - mae: 32.4695\n",
            "Epoch 358/400\n",
            "23/23 [==============================] - 1s 26ms/step - loss: 31.9911 - mae: 32.4870\n",
            "Epoch 359/400\n",
            "23/23 [==============================] - 1s 27ms/step - loss: 32.0005 - mae: 32.4965\n",
            "Epoch 360/400\n",
            "23/23 [==============================] - 1s 27ms/step - loss: 32.0744 - mae: 32.5703\n",
            "Epoch 361/400\n",
            "23/23 [==============================] - 1s 27ms/step - loss: 31.8482 - mae: 32.3442\n",
            "Epoch 362/400\n",
            "23/23 [==============================] - 1s 27ms/step - loss: 32.6312 - mae: 33.1272\n",
            "Epoch 363/400\n",
            "23/23 [==============================] - 1s 26ms/step - loss: 31.9523 - mae: 32.4482\n",
            "Epoch 364/400\n",
            "23/23 [==============================] - 1s 26ms/step - loss: 31.6212 - mae: 32.1172\n",
            "Epoch 365/400\n",
            "23/23 [==============================] - 1s 27ms/step - loss: 32.1241 - mae: 32.6200\n",
            "Epoch 366/400\n",
            "23/23 [==============================] - 1s 26ms/step - loss: 31.7793 - mae: 32.2754\n",
            "Epoch 367/400\n",
            "23/23 [==============================] - 1s 27ms/step - loss: 31.9600 - mae: 32.4558\n",
            "Epoch 368/400\n",
            "23/23 [==============================] - 1s 27ms/step - loss: 31.6304 - mae: 32.1262\n",
            "Epoch 369/400\n",
            "23/23 [==============================] - 1s 26ms/step - loss: 32.1480 - mae: 32.6439\n",
            "Epoch 370/400\n",
            "23/23 [==============================] - 1s 27ms/step - loss: 32.0244 - mae: 32.5204\n",
            "Epoch 371/400\n",
            "23/23 [==============================] - 1s 26ms/step - loss: 31.8099 - mae: 32.3059\n",
            "Epoch 372/400\n",
            "23/23 [==============================] - 1s 26ms/step - loss: 32.1735 - mae: 32.6695\n",
            "Epoch 373/400\n",
            "23/23 [==============================] - 1s 26ms/step - loss: 31.8906 - mae: 32.3866\n",
            "Epoch 374/400\n",
            "23/23 [==============================] - 1s 26ms/step - loss: 32.2611 - mae: 32.7571\n",
            "Epoch 375/400\n",
            "23/23 [==============================] - 1s 27ms/step - loss: 32.2162 - mae: 32.7123\n",
            "Epoch 376/400\n",
            "23/23 [==============================] - 1s 28ms/step - loss: 31.6796 - mae: 32.1754\n",
            "Epoch 377/400\n",
            "23/23 [==============================] - 1s 27ms/step - loss: 31.6250 - mae: 32.1208\n",
            "Epoch 378/400\n",
            "23/23 [==============================] - 1s 29ms/step - loss: 31.5672 - mae: 32.0633\n",
            "Epoch 379/400\n",
            "23/23 [==============================] - 1s 29ms/step - loss: 31.8158 - mae: 32.3119\n",
            "Epoch 380/400\n",
            "23/23 [==============================] - 1s 28ms/step - loss: 31.7768 - mae: 32.2729\n",
            "Epoch 381/400\n",
            "23/23 [==============================] - 1s 28ms/step - loss: 32.4840 - mae: 32.9800\n",
            "Epoch 382/400\n",
            "23/23 [==============================] - 1s 28ms/step - loss: 31.8981 - mae: 32.3940\n",
            "Epoch 383/400\n",
            "23/23 [==============================] - 1s 27ms/step - loss: 31.6415 - mae: 32.1374\n",
            "Epoch 384/400\n",
            "23/23 [==============================] - 1s 28ms/step - loss: 31.5015 - mae: 31.9976\n",
            "Epoch 385/400\n",
            "23/23 [==============================] - 1s 27ms/step - loss: 32.0521 - mae: 32.5481\n",
            "Epoch 386/400\n",
            "23/23 [==============================] - 1s 28ms/step - loss: 32.5578 - mae: 33.0538\n",
            "Epoch 387/400\n",
            "23/23 [==============================] - 1s 28ms/step - loss: 31.6755 - mae: 32.1714\n",
            "Epoch 388/400\n",
            "23/23 [==============================] - 1s 28ms/step - loss: 31.8916 - mae: 32.3875\n",
            "Epoch 389/400\n",
            "23/23 [==============================] - 1s 28ms/step - loss: 31.4079 - mae: 31.9037\n",
            "Epoch 390/400\n",
            "23/23 [==============================] - 1s 28ms/step - loss: 31.5888 - mae: 32.0848\n",
            "Epoch 391/400\n",
            "23/23 [==============================] - 1s 27ms/step - loss: 31.4636 - mae: 31.9593\n",
            "Epoch 392/400\n",
            "23/23 [==============================] - 1s 29ms/step - loss: 31.4458 - mae: 31.9418\n",
            "Epoch 393/400\n",
            "23/23 [==============================] - 1s 28ms/step - loss: 31.2877 - mae: 31.7837\n",
            "Epoch 394/400\n",
            "23/23 [==============================] - 1s 28ms/step - loss: 31.4876 - mae: 31.9833\n",
            "Epoch 395/400\n",
            "23/23 [==============================] - 1s 28ms/step - loss: 31.6937 - mae: 32.1895\n",
            "Epoch 396/400\n",
            "23/23 [==============================] - 1s 28ms/step - loss: 31.3298 - mae: 31.8257\n",
            "Epoch 397/400\n",
            "23/23 [==============================] - 1s 28ms/step - loss: 31.1576 - mae: 31.6534\n",
            "Epoch 398/400\n",
            "23/23 [==============================] - 1s 27ms/step - loss: 31.1818 - mae: 31.6777\n",
            "Epoch 399/400\n",
            "23/23 [==============================] - 1s 28ms/step - loss: 31.1488 - mae: 31.6446\n",
            "Epoch 400/400\n",
            "23/23 [==============================] - 1s 28ms/step - loss: 31.2387 - mae: 31.7345\n"
          ],
          "name": "stdout"
        }
      ]
    },
    {
      "cell_type": "code",
      "metadata": {
        "colab": {
          "base_uri": "https://localhost:8080/",
          "height": 265
        },
        "id": "zwbsV-BnAMi8",
        "outputId": "d9c648f4-f3f9-4b95-e829-9d968cbb6d34"
      },
      "source": [
        "plt.plot(np.arange(len(history.history[\"loss\"])), history.history[\"loss\"])\n",
        "plt.show()"
      ],
      "execution_count": 62,
      "outputs": [
        {
          "output_type": "display_data",
          "data": {
            "image/png": "[encoded data removed]",
            "text/plain": [
              "<Figure size 432x288 with 1 Axes>"
            ]
          },
          "metadata": {
            "tags": [],
            "needs_background": "light"
          }
        }
      ]
    },
    {
      "cell_type": "code",
      "metadata": {
        "colab": {
          "base_uri": "https://localhost:8080/",
          "height": 269
        },
        "id": "-zL-Al-BCPv_",
        "outputId": "2285f821-8fcc-4fb3-fe05-de68d2ee1be3"
      },
      "source": [
        "plt.plot(np.arange(len(history.history[\"loss\"])), history.history[\"loss\"])\n",
        "plt.axis([100, 400, 0, 60])\n",
        "plt.show()"
      ],
      "execution_count": 63,
      "outputs": [
        {
          "output_type": "display_data",
          "data": {
            "image/png": "[encoded data removed]",
            "text/plain": [
              "<Figure size 432x288 with 1 Axes>"
            ]
          },
          "metadata": {
            "tags": [],
            "needs_background": "light"
          }
        }
      ]
    },
    {
      "cell_type": "code",
      "metadata": {
        "id": "wwlSdM1BEfxK"
      },
      "source": [
        "series = df[train_data_size-window_size:][\"Mean_sun_spot\"]\n",
        "test_data = generate_window_data_for_test(series, window_size, batch_size, shuffle_buffer)\n",
        "pred_layer_output = model.predict(test_data)"
      ],
      "execution_count": 64,
      "outputs": []
    },
    {
      "cell_type": "markdown",
      "metadata": {
        "id": "Zsr1x_T_GP-d"
      },
      "source": [
        "### Get predictions\n",
        "\n",
        "As we used `return_sequences=True` in our RNN layer, LSTM, we will the dimensionality of the output is now (batch_size, window_size, 1) instead of (batch_size, 1) so we will take only the last element of the each window as in a sequential data we generally take the output of the last element. "
      ]
    },
    {
      "cell_type": "code",
      "metadata": {
        "id": "r8o1_554G0yg"
      },
      "source": [
        "test_preds = pred_layer_output[:, -1, 0]"
      ],
      "execution_count": 65,
      "outputs": []
    },
    {
      "cell_type": "code",
      "metadata": {
        "colab": {
          "base_uri": "https://localhost:8080/",
          "height": 388
        },
        "id": "SFYLG7A0EkPl",
        "outputId": "dcf242be-038a-4719-975d-bb58dcbd1a9a"
      },
      "source": [
        "plt.figure(figsize=(10, 6))\n",
        "plot_series(val_time, val_x)\n",
        "plot_series(val_time, test_preds)"
      ],
      "execution_count": 66,
      "outputs": [
        {
          "output_type": "display_data",
          "data": {
            "image/png": "[encoded data removed]",
            "text/plain": [
              "<Figure size 720x432 with 1 Axes>"
            ]
          },
          "metadata": {
            "tags": [],
            "needs_background": "light"
          }
        }
      ]
    },
    {
      "cell_type": "code",
      "metadata": {
        "colab": {
          "base_uri": "https://localhost:8080/"
        },
        "id": "GggwyQR8EV_y",
        "outputId": "e7aedbf3-943f-4b2f-89c0-4651af37bcac"
      },
      "source": [
        "tf.keras.metrics.mean_absolute_error(val_x, test_preds).numpy()"
      ],
      "execution_count": 67,
      "outputs": [
        {
          "output_type": "execute_result",
          "data": {
            "text/plain": [
              "23.81358"
            ]
          },
          "metadata": {
            "tags": []
          },
          "execution_count": 67
        }
      ]
    },
    {
      "cell_type": "code",
      "metadata": {
        "id": "YgWfA1z8FfJw"
      },
      "source": [
        ""
      ],
      "execution_count": null,
      "outputs": []
    }
  ]
}