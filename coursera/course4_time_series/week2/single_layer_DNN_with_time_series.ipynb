{
 "metadata": {
  "language_info": {
   "codemirror_mode": {
    "name": "ipython",
    "version": 3
   },
   "file_extension": ".py",
   "mimetype": "text/x-python",
   "name": "python",
   "nbconvert_exporter": "python",
   "pygments_lexer": "ipython3",
   "version": "3.8.2"
  },
  "orig_nbformat": 2,
  "kernelspec": {
   "name": "python382jvsc74a57bd0c05f7f5b7449b362e25f922c76429131874e0839c45bc04f41f76db7906a2c56",
   "display_name": "Python 3.8.2 64-bit ('coursera_tensorflow_venv': venv)"
  }
 },
 "nbformat": 4,
 "nbformat_minor": 2,
 "cells": [
  {
   "cell_type": "code",
   "execution_count": 1,
   "metadata": {},
   "outputs": [],
   "source": [
    "import tensorflow as tf\n",
    "import numpy as np\n",
    "import matplotlib.pyplot as plt"
   ]
  },
  {
   "source": [
    "# Defining the time series\n",
    "\n",
    "Code in the below cell is bliendly copied from the notebook of the course"
   ],
   "cell_type": "markdown",
   "metadata": {}
  },
  {
   "cell_type": "code",
   "execution_count": 7,
   "metadata": {},
   "outputs": [],
   "source": [
    "def plot_series(time, series, format=\"-\", start=0, end=None):\n",
    "    plt.plot(time[start:end], series[start:end], format)\n",
    "    plt.xlabel(\"Time\")\n",
    "    plt.ylabel(\"Value\")\n",
    "    plt.grid(True)\n",
    "\n",
    "def trend(time, slope=0):\n",
    "    return slope * time\n",
    "\n",
    "def seasonal_pattern(season_time):\n",
    "    \"\"\"Just an arbitrary pattern, you can change it if you wish\"\"\"\n",
    "    return np.where(season_time < 0.4,\n",
    "                    np.cos(season_time * 2 * np.pi),\n",
    "                    1 / np.exp(3 * season_time))\n",
    "\n",
    "def seasonality(time, period, amplitude=1, phase=0):\n",
    "    \"\"\"Repeats the same pattern at each period\"\"\"\n",
    "    season_time = ((time + phase) % period) / period\n",
    "    return amplitude * seasonal_pattern(season_time)\n",
    "\n",
    "def noise(time, noise_level=1, seed=None):\n",
    "    rnd = np.random.RandomState(seed)\n",
    "    return rnd.randn(len(time)) * noise_level\n",
    "\n",
    "time = np.arange(4 * 365 + 1, dtype=\"float32\")\n",
    "baseline = 10\n",
    "series = trend(time, 0.1)  \n",
    "baseline = 10\n",
    "amplitude = 40\n",
    "slope = 0.05\n",
    "noise_level = 5\n",
    "\n",
    "# Create the series\n",
    "series = baseline + trend(time, slope) + seasonality(time, period=365, amplitude=amplitude)\n",
    "# Update with noise\n",
    "series += noise(time, noise_level, seed=42)\n",
    "\n",
    "split_time = 1000\n",
    "time_train = time[:split_time]\n",
    "x_train = series[:split_time]\n",
    "time_valid = time[split_time:]\n",
    "x_valid = series[split_time:]\n",
    "\n",
    "window_size = 20\n",
    "batch_size = 32\n",
    "shuffle_buffer_size = 1000"
   ]
  },
  {
   "cell_type": "code",
   "execution_count": 8,
   "metadata": {},
   "outputs": [],
   "source": [
    "def generate_window_dataset(series, window_size, batch_size, shuffle_buffer_size):\n",
    "    dataset = tf.data.Dataset.from_tensor_slices(series)\n",
    "    dataset = dataset.window(window_size+1, shift=1, drop_remainder=True)\n",
    "    dataset = dataset.flat_map(lambda x: x.batch(window_size+1))\n",
    "    dataset = dataset.shuffle(shuffle_buffer_size).map(lambda x: (x[:window_size], x[-1]))\n",
    "    dataset = dataset.batch(batch_size).prefetch(1)\n",
    "\n",
    "    return dataset"
   ]
  },
  {
   "cell_type": "code",
   "execution_count": 29,
   "metadata": {
    "tags": []
   },
   "outputs": [
    {
     "output_type": "stream",
     "name": "stdout",
     "text": [
      "Train_x shape of one batch :  (32, 20)\nTrain_y shape of one batch :  (32,)\n"
     ]
    }
   ],
   "source": [
    "dataset = generate_window_dataset(x_train, window_size, batch_size, shuffle_buffer_size)\n",
    "for window in dataset:\n",
    "    print(\"Train_x shape of one batch : \", window[0].numpy().shape)\n",
    "    print(\"Train_y shape of one batch : \", window[1].numpy().shape)\n",
    "    break"
   ]
  },
  {
   "cell_type": "code",
   "execution_count": 30,
   "metadata": {},
   "outputs": [],
   "source": [
    "model = tf.keras.Sequential([\n",
    "    tf.keras.layers.Dense(1, input_shape=[window_size])\n",
    "])\n",
    "\n",
    "model.compile(loss=\"mse\", optimizer=tf.keras.optimizers.SGD(lr=1e-6, momentum=0.9))"
   ]
  },
  {
   "cell_type": "code",
   "execution_count": 31,
   "metadata": {},
   "outputs": [
    {
     "output_type": "stream",
     "name": "stdout",
     "text": [
      "Epoch 1/100\n",
      "31/31 [==============================] - 0s 2ms/step - loss: 302.9628\n",
      "Epoch 2/100\n",
      "31/31 [==============================] - 0s 1ms/step - loss: 141.3510\n",
      "Epoch 3/100\n",
      "31/31 [==============================] - 0s 1ms/step - loss: 138.1696\n",
      "Epoch 4/100\n",
      "31/31 [==============================] - 0s 2ms/step - loss: 131.7234\n",
      "Epoch 5/100\n",
      "31/31 [==============================] - 0s 1ms/step - loss: 118.1198\n",
      "Epoch 6/100\n",
      "31/31 [==============================] - 0s 2ms/step - loss: 116.4785\n",
      "Epoch 7/100\n",
      "31/31 [==============================] - 0s 2ms/step - loss: 128.0300\n",
      "Epoch 8/100\n",
      "31/31 [==============================] - 0s 2ms/step - loss: 99.3445\n",
      "Epoch 9/100\n",
      "31/31 [==============================] - 0s 1ms/step - loss: 106.7690\n",
      "Epoch 10/100\n",
      "31/31 [==============================] - 0s 2ms/step - loss: 97.0744\n",
      "Epoch 11/100\n",
      "31/31 [==============================] - 0s 2ms/step - loss: 95.6993\n",
      "Epoch 12/100\n",
      "31/31 [==============================] - 0s 1ms/step - loss: 95.2847\n",
      "Epoch 13/100\n",
      "31/31 [==============================] - 0s 1ms/step - loss: 87.1861\n",
      "Epoch 14/100\n",
      "31/31 [==============================] - 0s 2ms/step - loss: 95.5332\n",
      "Epoch 15/100\n",
      "31/31 [==============================] - 0s 2ms/step - loss: 80.7292\n",
      "Epoch 16/100\n",
      "31/31 [==============================] - 0s 2ms/step - loss: 86.9038\n",
      "Epoch 17/100\n",
      "31/31 [==============================] - 0s 1ms/step - loss: 91.6506\n",
      "Epoch 18/100\n",
      "31/31 [==============================] - 0s 1ms/step - loss: 81.6607\n",
      "Epoch 19/100\n",
      "31/31 [==============================] - 0s 2ms/step - loss: 69.3712\n",
      "Epoch 20/100\n",
      "31/31 [==============================] - 0s 1ms/step - loss: 74.6791\n",
      "Epoch 21/100\n",
      "31/31 [==============================] - 0s 2ms/step - loss: 77.2567\n",
      "Epoch 22/100\n",
      "31/31 [==============================] - 0s 1ms/step - loss: 73.5326\n",
      "Epoch 23/100\n",
      "31/31 [==============================] - 0s 2ms/step - loss: 69.0968\n",
      "Epoch 24/100\n",
      "31/31 [==============================] - 0s 2ms/step - loss: 63.6373\n",
      "Epoch 25/100\n",
      "31/31 [==============================] - 0s 2ms/step - loss: 67.3727\n",
      "Epoch 26/100\n",
      "31/31 [==============================] - 0s 2ms/step - loss: 66.7960\n",
      "Epoch 27/100\n",
      "31/31 [==============================] - 0s 2ms/step - loss: 62.1783\n",
      "Epoch 28/100\n",
      "31/31 [==============================] - 0s 1ms/step - loss: 65.8661\n",
      "Epoch 29/100\n",
      "31/31 [==============================] - 0s 2ms/step - loss: 63.9072\n",
      "Epoch 30/100\n",
      "31/31 [==============================] - 0s 2ms/step - loss: 61.4720\n",
      "Epoch 31/100\n",
      "31/31 [==============================] - 0s 1ms/step - loss: 59.7224\n",
      "Epoch 32/100\n",
      "31/31 [==============================] - 0s 1ms/step - loss: 58.1238\n",
      "Epoch 33/100\n",
      "31/31 [==============================] - 0s 2ms/step - loss: 59.3965\n",
      "Epoch 34/100\n",
      "31/31 [==============================] - 0s 2ms/step - loss: 65.6925\n",
      "Epoch 35/100\n",
      "31/31 [==============================] - 0s 2ms/step - loss: 53.2508\n",
      "Epoch 36/100\n",
      "31/31 [==============================] - 0s 3ms/step - loss: 57.3926\n",
      "Epoch 37/100\n",
      "31/31 [==============================] - 0s 1ms/step - loss: 54.3763\n",
      "Epoch 38/100\n",
      "31/31 [==============================] - 0s 1ms/step - loss: 61.1632\n",
      "Epoch 39/100\n",
      "31/31 [==============================] - 0s 1ms/step - loss: 54.5799\n",
      "Epoch 40/100\n",
      "31/31 [==============================] - 0s 2ms/step - loss: 54.4317\n",
      "Epoch 41/100\n",
      "31/31 [==============================] - 0s 1ms/step - loss: 50.7205\n",
      "Epoch 42/100\n",
      "31/31 [==============================] - 0s 2ms/step - loss: 64.3090\n",
      "Epoch 43/100\n",
      "31/31 [==============================] - 0s 1ms/step - loss: 50.2896\n",
      "Epoch 44/100\n",
      "31/31 [==============================] - 0s 1ms/step - loss: 53.7480\n",
      "Epoch 45/100\n",
      "31/31 [==============================] - 0s 1ms/step - loss: 47.1821\n",
      "Epoch 46/100\n",
      "31/31 [==============================] - 0s 1ms/step - loss: 50.5725\n",
      "Epoch 47/100\n",
      "31/31 [==============================] - 0s 1ms/step - loss: 49.8789\n",
      "Epoch 48/100\n",
      "31/31 [==============================] - 0s 1ms/step - loss: 42.2177\n",
      "Epoch 49/100\n",
      "31/31 [==============================] - 0s 1ms/step - loss: 50.7925\n",
      "Epoch 50/100\n",
      "31/31 [==============================] - 0s 1ms/step - loss: 45.5484\n",
      "Epoch 51/100\n",
      "31/31 [==============================] - 0s 1ms/step - loss: 52.2261\n",
      "Epoch 52/100\n",
      "31/31 [==============================] - 0s 1ms/step - loss: 48.3899\n",
      "Epoch 53/100\n",
      "31/31 [==============================] - 0s 1ms/step - loss: 50.0984\n",
      "Epoch 54/100\n",
      "31/31 [==============================] - 0s 1ms/step - loss: 50.3682\n",
      "Epoch 55/100\n",
      "31/31 [==============================] - 0s 1ms/step - loss: 41.1357\n",
      "Epoch 56/100\n",
      "31/31 [==============================] - 0s 1ms/step - loss: 49.5783\n",
      "Epoch 57/100\n",
      "31/31 [==============================] - 0s 1ms/step - loss: 45.5726\n",
      "Epoch 58/100\n",
      "31/31 [==============================] - 0s 1ms/step - loss: 50.0597\n",
      "Epoch 59/100\n",
      "31/31 [==============================] - 0s 1ms/step - loss: 45.0402\n",
      "Epoch 60/100\n",
      "31/31 [==============================] - 0s 1ms/step - loss: 47.3303\n",
      "Epoch 61/100\n",
      "31/31 [==============================] - 0s 1ms/step - loss: 47.1700\n",
      "Epoch 62/100\n",
      "31/31 [==============================] - 0s 1ms/step - loss: 51.8807\n",
      "Epoch 63/100\n",
      "31/31 [==============================] - 0s 1ms/step - loss: 47.7561\n",
      "Epoch 64/100\n",
      "31/31 [==============================] - 0s 1ms/step - loss: 41.6690\n",
      "Epoch 65/100\n",
      "31/31 [==============================] - 0s 1ms/step - loss: 47.4722\n",
      "Epoch 66/100\n",
      "31/31 [==============================] - 0s 1ms/step - loss: 45.4145\n",
      "Epoch 67/100\n",
      "31/31 [==============================] - 0s 1ms/step - loss: 47.3550\n",
      "Epoch 68/100\n",
      "31/31 [==============================] - 0s 1ms/step - loss: 44.3790\n",
      "Epoch 69/100\n",
      "31/31 [==============================] - 0s 1ms/step - loss: 48.0624\n",
      "Epoch 70/100\n",
      "31/31 [==============================] - 0s 1ms/step - loss: 46.3098\n",
      "Epoch 71/100\n",
      "31/31 [==============================] - 0s 1ms/step - loss: 48.9883\n",
      "Epoch 72/100\n",
      "31/31 [==============================] - 0s 1ms/step - loss: 52.2761\n",
      "Epoch 73/100\n",
      "31/31 [==============================] - 0s 1ms/step - loss: 43.5145\n",
      "Epoch 74/100\n",
      "31/31 [==============================] - 0s 1ms/step - loss: 42.8098\n",
      "Epoch 75/100\n",
      "31/31 [==============================] - 0s 1ms/step - loss: 46.8018\n",
      "Epoch 76/100\n",
      "31/31 [==============================] - 0s 1ms/step - loss: 41.3227\n",
      "Epoch 77/100\n",
      "31/31 [==============================] - 0s 1ms/step - loss: 51.1181\n",
      "Epoch 78/100\n",
      "31/31 [==============================] - 0s 1ms/step - loss: 45.2858\n",
      "Epoch 79/100\n",
      "31/31 [==============================] - 0s 1ms/step - loss: 44.0102\n",
      "Epoch 80/100\n",
      "31/31 [==============================] - 0s 1ms/step - loss: 44.4109\n",
      "Epoch 81/100\n",
      "31/31 [==============================] - 0s 2ms/step - loss: 44.6136\n",
      "Epoch 82/100\n",
      "31/31 [==============================] - 0s 1ms/step - loss: 44.0776\n",
      "Epoch 83/100\n",
      "31/31 [==============================] - 0s 1ms/step - loss: 44.4258\n",
      "Epoch 84/100\n",
      "31/31 [==============================] - 0s 1ms/step - loss: 44.8223\n",
      "Epoch 85/100\n",
      "31/31 [==============================] - 0s 3ms/step - loss: 42.1891\n",
      "Epoch 86/100\n",
      "31/31 [==============================] - 0s 1ms/step - loss: 45.8977\n",
      "Epoch 87/100\n",
      "31/31 [==============================] - 0s 1ms/step - loss: 47.4993\n",
      "Epoch 88/100\n",
      "31/31 [==============================] - 0s 1ms/step - loss: 44.3006\n",
      "Epoch 89/100\n",
      "31/31 [==============================] - 0s 2ms/step - loss: 43.2418\n",
      "Epoch 90/100\n",
      "31/31 [==============================] - 0s 1ms/step - loss: 39.7543\n",
      "Epoch 91/100\n",
      "31/31 [==============================] - 0s 1ms/step - loss: 42.3029\n",
      "Epoch 92/100\n",
      "31/31 [==============================] - 0s 1ms/step - loss: 41.8717\n",
      "Epoch 93/100\n",
      "31/31 [==============================] - 0s 1ms/step - loss: 40.4920\n",
      "Epoch 94/100\n",
      "31/31 [==============================] - 0s 1ms/step - loss: 42.2518\n",
      "Epoch 95/100\n",
      "31/31 [==============================] - 0s 1ms/step - loss: 46.3601\n",
      "Epoch 96/100\n",
      "31/31 [==============================] - 0s 2ms/step - loss: 42.3772\n",
      "Epoch 97/100\n",
      "31/31 [==============================] - 0s 2ms/step - loss: 49.3699\n",
      "Epoch 98/100\n",
      "31/31 [==============================] - 0s 1ms/step - loss: 55.4212\n",
      "Epoch 99/100\n",
      "31/31 [==============================] - 0s 2ms/step - loss: 41.6134\n",
      "Epoch 100/100\n",
      "31/31 [==============================] - 0s 4ms/step - loss: 45.5639\n"
     ]
    },
    {
     "output_type": "execute_result",
     "data": {
      "text/plain": [
       "<tensorflow.python.keras.callbacks.History at 0x15d24b400>"
      ]
     },
     "metadata": {},
     "execution_count": 31
    }
   ],
   "source": [
    "model.fit(dataset, epochs=100, verbose=1)"
   ]
  },
  {
   "cell_type": "code",
   "execution_count": 32,
   "metadata": {},
   "outputs": [
    {
     "output_type": "stream",
     "name": "stdout",
     "text": [
      "(20, 1)\n(1,)\n"
     ]
    },
    {
     "output_type": "execute_result",
     "data": {
      "text/plain": [
       "[array([[-0.04155958],\n",
       "        [ 0.04217253],\n",
       "        [-0.04515002],\n",
       "        [ 0.05523665],\n",
       "        [ 0.01478091],\n",
       "        [-0.03457696],\n",
       "        [-0.00588419],\n",
       "        [ 0.0391994 ],\n",
       "        [-0.07377342],\n",
       "        [ 0.06596832],\n",
       "        [-0.00268232],\n",
       "        [-0.02772275],\n",
       "        [-0.04025513],\n",
       "        [ 0.0752218 ],\n",
       "        [ 0.03982605],\n",
       "        [-0.00318204],\n",
       "        [ 0.06943402],\n",
       "        [ 0.13094585],\n",
       "        [ 0.34080052],\n",
       "        [ 0.39533156]], dtype=float32),\n",
       " array([0.01333591], dtype=float32)]"
      ]
     },
     "metadata": {},
     "execution_count": 32
    }
   ],
   "source": [
    "weights = model.layers[0].get_weights()\n",
    "print(weights[0].shape)\n",
    "print(weights[1].shape)\n",
    "weights"
   ]
  },
  {
   "source": [
    "# Forecast "
   ],
   "cell_type": "markdown",
   "metadata": {}
  },
  {
   "source": [
    "## Sample"
   ],
   "cell_type": "markdown",
   "metadata": {}
  },
  {
   "cell_type": "code",
   "execution_count": 46,
   "metadata": {},
   "outputs": [
    {
     "output_type": "execute_result",
     "data": {
      "text/plain": [
       "65.58609"
      ]
     },
     "metadata": {},
     "execution_count": 46
    }
   ],
   "source": [
    "t = series[split_time-window_size:split_time] #[np.newaxis]\n",
    "# t = np.reshape(series[split_time-window_size:split_time], (1, len(t)))\n",
    "t = t[np.newaxis]\n",
    "\n",
    "model.predict(np.array(t))[0][0]"
   ]
  },
  {
   "source": [
    "## Forecast over test data"
   ],
   "cell_type": "markdown",
   "metadata": {}
  },
  {
   "cell_type": "code",
   "execution_count": 47,
   "metadata": {},
   "outputs": [],
   "source": [
    "forecast = []\n",
    "for index in range(split_time, len(series)):\n",
    "    windowed_series = series[index-window_size: index][np.newaxis]\n",
    "    pred = model.predict(windowed_series)[0][0]\n",
    "    forecast.append(pred)"
   ]
  },
  {
   "cell_type": "code",
   "execution_count": 49,
   "metadata": {},
   "outputs": [
    {
     "output_type": "display_data",
     "data": {
      "text/plain": "<Figure size 432x288 with 1 Axes>",
      "image/svg+xml": "<?xml version=\"1.0\" encoding=\"utf-8\" standalone=\"no\"?>\n<!DOCTYPE svg PUBLIC \"-//W3C//DTD SVG 1.1//EN\"\n  \"http://www.w3.org/Graphics/SVG/1.1/DTD/svg11.dtd\">\n<svg height=\"262.19625pt\" version=\"1.1\" viewBox=\"0 0 388.965625 262.19625\" width=\"388.965625pt\" xmlns=\"http://www.w3.org/2000/svg\" xmlns:xlink=\"http://www.w3.org/1999/xlink\">\n <metadata>\n  <rdf:RDF xmlns:cc=\"http://creativecommons.org/ns#\" xmlns:dc=\"http://purl.org/dc/elements/1.1/\" xmlns:rdf=\"http://www.w3.org/1999/02/22-rdf-syntax-ns#\">\n   <cc:Work>\n    <dc:type rdf:resource=\"http://purl.org/dc/dcmitype/StillImage\"/>\n    <dc:date>2021-05-30T12:06:21.795017</dc:date>\n    <dc:format>image/svg+xml</dc:format>\n    <dc:creator>\n     <cc:Agent>\n      <dc:title>Matplotlib v3.4.2, https://matplotlib.org/</dc:title>\n     </cc:Agent>\n    </dc:creator>\n   </cc:Work>\n  </rdf:RDF>\n </metadata>\n <defs>\n  <style type=\"text/css\">*{stroke-linecap:butt;stroke-linejoin:round;}</style>\n </defs>\n <g id=\"figure_1\">\n  <g id=\"patch_1\">\n   <path d=\"M -0 262.19625 \nL 388.965625 262.19625 \nL 388.965625 0 \nL -0 0 \nz\n\" style=\"fill:none;\"/>\n  </g>\n  <g id=\"axes_1\">\n   <g id=\"patch_2\">\n    <path d=\"M 46.965625 224.64 \nL 381.765625 224.64 \nL 381.765625 7.2 \nL 46.965625 7.2 \nz\n\" style=\"fill:#ffffff;\"/>\n   </g>\n   <g id=\"matplotlib.axis_1\">\n    <g id=\"xtick_1\">\n     <g id=\"line2d_1\">\n      <path clip-path=\"url(#p630c06aae5)\" d=\"M 62.183807 224.64 \nL 62.183807 7.2 \n\" style=\"fill:none;stroke:#b0b0b0;stroke-linecap:square;stroke-width:0.8;\"/>\n     </g>\n     <g id=\"line2d_2\">\n      <defs>\n       <path d=\"M 0 0 \nL 0 3.5 \n\" id=\"me1af471d06\" style=\"stroke:#000000;stroke-width:0.8;\"/>\n      </defs>\n      <g>\n       <use style=\"stroke:#000000;stroke-width:0.8;\" x=\"62.183807\" xlink:href=\"#me1af471d06\" y=\"224.64\"/>\n      </g>\n     </g>\n     <g id=\"text_1\">\n      <!-- 1000 -->\n      <g transform=\"translate(49.458807 239.238438)scale(0.1 -0.1)\">\n       <defs>\n        <path d=\"M 794 531 \nL 1825 531 \nL 1825 4091 \nL 703 3866 \nL 703 4441 \nL 1819 4666 \nL 2450 4666 \nL 2450 531 \nL 3481 531 \nL 3481 0 \nL 794 0 \nL 794 531 \nz\n\" id=\"DejaVuSans-31\" transform=\"scale(0.015625)\"/>\n        <path d=\"M 2034 4250 \nQ 1547 4250 1301 3770 \nQ 1056 3291 1056 2328 \nQ 1056 1369 1301 889 \nQ 1547 409 2034 409 \nQ 2525 409 2770 889 \nQ 3016 1369 3016 2328 \nQ 3016 3291 2770 3770 \nQ 2525 4250 2034 4250 \nz\nM 2034 4750 \nQ 2819 4750 3233 4129 \nQ 3647 3509 3647 2328 \nQ 3647 1150 3233 529 \nQ 2819 -91 2034 -91 \nQ 1250 -91 836 529 \nQ 422 1150 422 2328 \nQ 422 3509 836 4129 \nQ 1250 4750 2034 4750 \nz\n\" id=\"DejaVuSans-30\" transform=\"scale(0.015625)\"/>\n       </defs>\n       <use xlink:href=\"#DejaVuSans-31\"/>\n       <use x=\"63.623047\" xlink:href=\"#DejaVuSans-30\"/>\n       <use x=\"127.246094\" xlink:href=\"#DejaVuSans-30\"/>\n       <use x=\"190.869141\" xlink:href=\"#DejaVuSans-30\"/>\n      </g>\n     </g>\n    </g>\n    <g id=\"xtick_2\">\n     <g id=\"line2d_3\">\n      <path clip-path=\"url(#p630c06aae5)\" d=\"M 128.349815 224.64 \nL 128.349815 7.2 \n\" style=\"fill:none;stroke:#b0b0b0;stroke-linecap:square;stroke-width:0.8;\"/>\n     </g>\n     <g id=\"line2d_4\">\n      <g>\n       <use style=\"stroke:#000000;stroke-width:0.8;\" x=\"128.349815\" xlink:href=\"#me1af471d06\" y=\"224.64\"/>\n      </g>\n     </g>\n     <g id=\"text_2\">\n      <!-- 1100 -->\n      <g transform=\"translate(115.624815 239.238438)scale(0.1 -0.1)\">\n       <use xlink:href=\"#DejaVuSans-31\"/>\n       <use x=\"63.623047\" xlink:href=\"#DejaVuSans-31\"/>\n       <use x=\"127.246094\" xlink:href=\"#DejaVuSans-30\"/>\n       <use x=\"190.869141\" xlink:href=\"#DejaVuSans-30\"/>\n      </g>\n     </g>\n    </g>\n    <g id=\"xtick_3\">\n     <g id=\"line2d_5\">\n      <path clip-path=\"url(#p630c06aae5)\" d=\"M 194.515823 224.64 \nL 194.515823 7.2 \n\" style=\"fill:none;stroke:#b0b0b0;stroke-linecap:square;stroke-width:0.8;\"/>\n     </g>\n     <g id=\"line2d_6\">\n      <g>\n       <use style=\"stroke:#000000;stroke-width:0.8;\" x=\"194.515823\" xlink:href=\"#me1af471d06\" y=\"224.64\"/>\n      </g>\n     </g>\n     <g id=\"text_3\">\n      <!-- 1200 -->\n      <g transform=\"translate(181.790823 239.238438)scale(0.1 -0.1)\">\n       <defs>\n        <path d=\"M 1228 531 \nL 3431 531 \nL 3431 0 \nL 469 0 \nL 469 531 \nQ 828 903 1448 1529 \nQ 2069 2156 2228 2338 \nQ 2531 2678 2651 2914 \nQ 2772 3150 2772 3378 \nQ 2772 3750 2511 3984 \nQ 2250 4219 1831 4219 \nQ 1534 4219 1204 4116 \nQ 875 4013 500 3803 \nL 500 4441 \nQ 881 4594 1212 4672 \nQ 1544 4750 1819 4750 \nQ 2544 4750 2975 4387 \nQ 3406 4025 3406 3419 \nQ 3406 3131 3298 2873 \nQ 3191 2616 2906 2266 \nQ 2828 2175 2409 1742 \nQ 1991 1309 1228 531 \nz\n\" id=\"DejaVuSans-32\" transform=\"scale(0.015625)\"/>\n       </defs>\n       <use xlink:href=\"#DejaVuSans-31\"/>\n       <use x=\"63.623047\" xlink:href=\"#DejaVuSans-32\"/>\n       <use x=\"127.246094\" xlink:href=\"#DejaVuSans-30\"/>\n       <use x=\"190.869141\" xlink:href=\"#DejaVuSans-30\"/>\n      </g>\n     </g>\n    </g>\n    <g id=\"xtick_4\">\n     <g id=\"line2d_7\">\n      <path clip-path=\"url(#p630c06aae5)\" d=\"M 260.681831 224.64 \nL 260.681831 7.2 \n\" style=\"fill:none;stroke:#b0b0b0;stroke-linecap:square;stroke-width:0.8;\"/>\n     </g>\n     <g id=\"line2d_8\">\n      <g>\n       <use style=\"stroke:#000000;stroke-width:0.8;\" x=\"260.681831\" xlink:href=\"#me1af471d06\" y=\"224.64\"/>\n      </g>\n     </g>\n     <g id=\"text_4\">\n      <!-- 1300 -->\n      <g transform=\"translate(247.956831 239.238438)scale(0.1 -0.1)\">\n       <defs>\n        <path d=\"M 2597 2516 \nQ 3050 2419 3304 2112 \nQ 3559 1806 3559 1356 \nQ 3559 666 3084 287 \nQ 2609 -91 1734 -91 \nQ 1441 -91 1130 -33 \nQ 819 25 488 141 \nL 488 750 \nQ 750 597 1062 519 \nQ 1375 441 1716 441 \nQ 2309 441 2620 675 \nQ 2931 909 2931 1356 \nQ 2931 1769 2642 2001 \nQ 2353 2234 1838 2234 \nL 1294 2234 \nL 1294 2753 \nL 1863 2753 \nQ 2328 2753 2575 2939 \nQ 2822 3125 2822 3475 \nQ 2822 3834 2567 4026 \nQ 2313 4219 1838 4219 \nQ 1578 4219 1281 4162 \nQ 984 4106 628 3988 \nL 628 4550 \nQ 988 4650 1302 4700 \nQ 1616 4750 1894 4750 \nQ 2613 4750 3031 4423 \nQ 3450 4097 3450 3541 \nQ 3450 3153 3228 2886 \nQ 3006 2619 2597 2516 \nz\n\" id=\"DejaVuSans-33\" transform=\"scale(0.015625)\"/>\n       </defs>\n       <use xlink:href=\"#DejaVuSans-31\"/>\n       <use x=\"63.623047\" xlink:href=\"#DejaVuSans-33\"/>\n       <use x=\"127.246094\" xlink:href=\"#DejaVuSans-30\"/>\n       <use x=\"190.869141\" xlink:href=\"#DejaVuSans-30\"/>\n      </g>\n     </g>\n    </g>\n    <g id=\"xtick_5\">\n     <g id=\"line2d_9\">\n      <path clip-path=\"url(#p630c06aae5)\" d=\"M 326.847838 224.64 \nL 326.847838 7.2 \n\" style=\"fill:none;stroke:#b0b0b0;stroke-linecap:square;stroke-width:0.8;\"/>\n     </g>\n     <g id=\"line2d_10\">\n      <g>\n       <use style=\"stroke:#000000;stroke-width:0.8;\" x=\"326.847838\" xlink:href=\"#me1af471d06\" y=\"224.64\"/>\n      </g>\n     </g>\n     <g id=\"text_5\">\n      <!-- 1400 -->\n      <g transform=\"translate(314.122838 239.238438)scale(0.1 -0.1)\">\n       <defs>\n        <path d=\"M 2419 4116 \nL 825 1625 \nL 2419 1625 \nL 2419 4116 \nz\nM 2253 4666 \nL 3047 4666 \nL 3047 1625 \nL 3713 1625 \nL 3713 1100 \nL 3047 1100 \nL 3047 0 \nL 2419 0 \nL 2419 1100 \nL 313 1100 \nL 313 1709 \nL 2253 4666 \nz\n\" id=\"DejaVuSans-34\" transform=\"scale(0.015625)\"/>\n       </defs>\n       <use xlink:href=\"#DejaVuSans-31\"/>\n       <use x=\"63.623047\" xlink:href=\"#DejaVuSans-34\"/>\n       <use x=\"127.246094\" xlink:href=\"#DejaVuSans-30\"/>\n       <use x=\"190.869141\" xlink:href=\"#DejaVuSans-30\"/>\n      </g>\n     </g>\n    </g>\n    <g id=\"text_6\">\n     <!-- Time -->\n     <g transform=\"translate(202.132031 252.916563)scale(0.1 -0.1)\">\n      <defs>\n       <path d=\"M -19 4666 \nL 3928 4666 \nL 3928 4134 \nL 2272 4134 \nL 2272 0 \nL 1638 0 \nL 1638 4134 \nL -19 4134 \nL -19 4666 \nz\n\" id=\"DejaVuSans-54\" transform=\"scale(0.015625)\"/>\n       <path d=\"M 603 3500 \nL 1178 3500 \nL 1178 0 \nL 603 0 \nL 603 3500 \nz\nM 603 4863 \nL 1178 4863 \nL 1178 4134 \nL 603 4134 \nL 603 4863 \nz\n\" id=\"DejaVuSans-69\" transform=\"scale(0.015625)\"/>\n       <path d=\"M 3328 2828 \nQ 3544 3216 3844 3400 \nQ 4144 3584 4550 3584 \nQ 5097 3584 5394 3201 \nQ 5691 2819 5691 2113 \nL 5691 0 \nL 5113 0 \nL 5113 2094 \nQ 5113 2597 4934 2840 \nQ 4756 3084 4391 3084 \nQ 3944 3084 3684 2787 \nQ 3425 2491 3425 1978 \nL 3425 0 \nL 2847 0 \nL 2847 2094 \nQ 2847 2600 2669 2842 \nQ 2491 3084 2119 3084 \nQ 1678 3084 1418 2786 \nQ 1159 2488 1159 1978 \nL 1159 0 \nL 581 0 \nL 581 3500 \nL 1159 3500 \nL 1159 2956 \nQ 1356 3278 1631 3431 \nQ 1906 3584 2284 3584 \nQ 2666 3584 2933 3390 \nQ 3200 3197 3328 2828 \nz\n\" id=\"DejaVuSans-6d\" transform=\"scale(0.015625)\"/>\n       <path d=\"M 3597 1894 \nL 3597 1613 \nL 953 1613 \nQ 991 1019 1311 708 \nQ 1631 397 2203 397 \nQ 2534 397 2845 478 \nQ 3156 559 3463 722 \nL 3463 178 \nQ 3153 47 2828 -22 \nQ 2503 -91 2169 -91 \nQ 1331 -91 842 396 \nQ 353 884 353 1716 \nQ 353 2575 817 3079 \nQ 1281 3584 2069 3584 \nQ 2775 3584 3186 3129 \nQ 3597 2675 3597 1894 \nz\nM 3022 2063 \nQ 3016 2534 2758 2815 \nQ 2500 3097 2075 3097 \nQ 1594 3097 1305 2825 \nQ 1016 2553 972 2059 \nL 3022 2063 \nz\n\" id=\"DejaVuSans-65\" transform=\"scale(0.015625)\"/>\n      </defs>\n      <use xlink:href=\"#DejaVuSans-54\"/>\n      <use x=\"57.958984\" xlink:href=\"#DejaVuSans-69\"/>\n      <use x=\"85.742188\" xlink:href=\"#DejaVuSans-6d\"/>\n      <use x=\"183.154297\" xlink:href=\"#DejaVuSans-65\"/>\n     </g>\n    </g>\n   </g>\n   <g id=\"matplotlib.axis_2\">\n    <g id=\"ytick_1\">\n     <g id=\"line2d_11\">\n      <path clip-path=\"url(#p630c06aae5)\" d=\"M 46.965625 207.461027 \nL 381.765625 207.461027 \n\" style=\"fill:none;stroke:#b0b0b0;stroke-linecap:square;stroke-width:0.8;\"/>\n     </g>\n     <g id=\"line2d_12\">\n      <defs>\n       <path d=\"M 0 0 \nL -3.5 0 \n\" id=\"m3357d47565\" style=\"stroke:#000000;stroke-width:0.8;\"/>\n      </defs>\n      <g>\n       <use style=\"stroke:#000000;stroke-width:0.8;\" x=\"46.965625\" xlink:href=\"#m3357d47565\" y=\"207.461027\"/>\n      </g>\n     </g>\n     <g id=\"text_7\">\n      <!-- 40 -->\n      <g transform=\"translate(27.240625 211.260246)scale(0.1 -0.1)\">\n       <use xlink:href=\"#DejaVuSans-34\"/>\n       <use x=\"63.623047\" xlink:href=\"#DejaVuSans-30\"/>\n      </g>\n     </g>\n    </g>\n    <g id=\"ytick_2\">\n     <g id=\"line2d_13\">\n      <path clip-path=\"url(#p630c06aae5)\" d=\"M 46.965625 161.201114 \nL 381.765625 161.201114 \n\" style=\"fill:none;stroke:#b0b0b0;stroke-linecap:square;stroke-width:0.8;\"/>\n     </g>\n     <g id=\"line2d_14\">\n      <g>\n       <use style=\"stroke:#000000;stroke-width:0.8;\" x=\"46.965625\" xlink:href=\"#m3357d47565\" y=\"161.201114\"/>\n      </g>\n     </g>\n     <g id=\"text_8\">\n      <!-- 60 -->\n      <g transform=\"translate(27.240625 165.000332)scale(0.1 -0.1)\">\n       <defs>\n        <path d=\"M 2113 2584 \nQ 1688 2584 1439 2293 \nQ 1191 2003 1191 1497 \nQ 1191 994 1439 701 \nQ 1688 409 2113 409 \nQ 2538 409 2786 701 \nQ 3034 994 3034 1497 \nQ 3034 2003 2786 2293 \nQ 2538 2584 2113 2584 \nz\nM 3366 4563 \nL 3366 3988 \nQ 3128 4100 2886 4159 \nQ 2644 4219 2406 4219 \nQ 1781 4219 1451 3797 \nQ 1122 3375 1075 2522 \nQ 1259 2794 1537 2939 \nQ 1816 3084 2150 3084 \nQ 2853 3084 3261 2657 \nQ 3669 2231 3669 1497 \nQ 3669 778 3244 343 \nQ 2819 -91 2113 -91 \nQ 1303 -91 875 529 \nQ 447 1150 447 2328 \nQ 447 3434 972 4092 \nQ 1497 4750 2381 4750 \nQ 2619 4750 2861 4703 \nQ 3103 4656 3366 4563 \nz\n\" id=\"DejaVuSans-36\" transform=\"scale(0.015625)\"/>\n       </defs>\n       <use xlink:href=\"#DejaVuSans-36\"/>\n       <use x=\"63.623047\" xlink:href=\"#DejaVuSans-30\"/>\n      </g>\n     </g>\n    </g>\n    <g id=\"ytick_3\">\n     <g id=\"line2d_15\">\n      <path clip-path=\"url(#p630c06aae5)\" d=\"M 46.965625 114.941201 \nL 381.765625 114.941201 \n\" style=\"fill:none;stroke:#b0b0b0;stroke-linecap:square;stroke-width:0.8;\"/>\n     </g>\n     <g id=\"line2d_16\">\n      <g>\n       <use style=\"stroke:#000000;stroke-width:0.8;\" x=\"46.965625\" xlink:href=\"#m3357d47565\" y=\"114.941201\"/>\n      </g>\n     </g>\n     <g id=\"text_9\">\n      <!-- 80 -->\n      <g transform=\"translate(27.240625 118.740419)scale(0.1 -0.1)\">\n       <defs>\n        <path d=\"M 2034 2216 \nQ 1584 2216 1326 1975 \nQ 1069 1734 1069 1313 \nQ 1069 891 1326 650 \nQ 1584 409 2034 409 \nQ 2484 409 2743 651 \nQ 3003 894 3003 1313 \nQ 3003 1734 2745 1975 \nQ 2488 2216 2034 2216 \nz\nM 1403 2484 \nQ 997 2584 770 2862 \nQ 544 3141 544 3541 \nQ 544 4100 942 4425 \nQ 1341 4750 2034 4750 \nQ 2731 4750 3128 4425 \nQ 3525 4100 3525 3541 \nQ 3525 3141 3298 2862 \nQ 3072 2584 2669 2484 \nQ 3125 2378 3379 2068 \nQ 3634 1759 3634 1313 \nQ 3634 634 3220 271 \nQ 2806 -91 2034 -91 \nQ 1263 -91 848 271 \nQ 434 634 434 1313 \nQ 434 1759 690 2068 \nQ 947 2378 1403 2484 \nz\nM 1172 3481 \nQ 1172 3119 1398 2916 \nQ 1625 2713 2034 2713 \nQ 2441 2713 2670 2916 \nQ 2900 3119 2900 3481 \nQ 2900 3844 2670 4047 \nQ 2441 4250 2034 4250 \nQ 1625 4250 1398 4047 \nQ 1172 3844 1172 3481 \nz\n\" id=\"DejaVuSans-38\" transform=\"scale(0.015625)\"/>\n       </defs>\n       <use xlink:href=\"#DejaVuSans-38\"/>\n       <use x=\"63.623047\" xlink:href=\"#DejaVuSans-30\"/>\n      </g>\n     </g>\n    </g>\n    <g id=\"ytick_4\">\n     <g id=\"line2d_17\">\n      <path clip-path=\"url(#p630c06aae5)\" d=\"M 46.965625 68.681287 \nL 381.765625 68.681287 \n\" style=\"fill:none;stroke:#b0b0b0;stroke-linecap:square;stroke-width:0.8;\"/>\n     </g>\n     <g id=\"line2d_18\">\n      <g>\n       <use style=\"stroke:#000000;stroke-width:0.8;\" x=\"46.965625\" xlink:href=\"#m3357d47565\" y=\"68.681287\"/>\n      </g>\n     </g>\n     <g id=\"text_10\">\n      <!-- 100 -->\n      <g transform=\"translate(20.878125 72.480506)scale(0.1 -0.1)\">\n       <use xlink:href=\"#DejaVuSans-31\"/>\n       <use x=\"63.623047\" xlink:href=\"#DejaVuSans-30\"/>\n       <use x=\"127.246094\" xlink:href=\"#DejaVuSans-30\"/>\n      </g>\n     </g>\n    </g>\n    <g id=\"ytick_5\">\n     <g id=\"line2d_19\">\n      <path clip-path=\"url(#p630c06aae5)\" d=\"M 46.965625 22.421374 \nL 381.765625 22.421374 \n\" style=\"fill:none;stroke:#b0b0b0;stroke-linecap:square;stroke-width:0.8;\"/>\n     </g>\n     <g id=\"line2d_20\">\n      <g>\n       <use style=\"stroke:#000000;stroke-width:0.8;\" x=\"46.965625\" xlink:href=\"#m3357d47565\" y=\"22.421374\"/>\n      </g>\n     </g>\n     <g id=\"text_11\">\n      <!-- 120 -->\n      <g transform=\"translate(20.878125 26.220593)scale(0.1 -0.1)\">\n       <use xlink:href=\"#DejaVuSans-31\"/>\n       <use x=\"63.623047\" xlink:href=\"#DejaVuSans-32\"/>\n       <use x=\"127.246094\" xlink:href=\"#DejaVuSans-30\"/>\n      </g>\n     </g>\n    </g>\n    <g id=\"text_12\">\n     <!-- Value -->\n     <g transform=\"translate(14.798438 129.65125)rotate(-90)scale(0.1 -0.1)\">\n      <defs>\n       <path d=\"M 1831 0 \nL 50 4666 \nL 709 4666 \nL 2188 738 \nL 3669 4666 \nL 4325 4666 \nL 2547 0 \nL 1831 0 \nz\n\" id=\"DejaVuSans-56\" transform=\"scale(0.015625)\"/>\n       <path d=\"M 2194 1759 \nQ 1497 1759 1228 1600 \nQ 959 1441 959 1056 \nQ 959 750 1161 570 \nQ 1363 391 1709 391 \nQ 2188 391 2477 730 \nQ 2766 1069 2766 1631 \nL 2766 1759 \nL 2194 1759 \nz\nM 3341 1997 \nL 3341 0 \nL 2766 0 \nL 2766 531 \nQ 2569 213 2275 61 \nQ 1981 -91 1556 -91 \nQ 1019 -91 701 211 \nQ 384 513 384 1019 \nQ 384 1609 779 1909 \nQ 1175 2209 1959 2209 \nL 2766 2209 \nL 2766 2266 \nQ 2766 2663 2505 2880 \nQ 2244 3097 1772 3097 \nQ 1472 3097 1187 3025 \nQ 903 2953 641 2809 \nL 641 3341 \nQ 956 3463 1253 3523 \nQ 1550 3584 1831 3584 \nQ 2591 3584 2966 3190 \nQ 3341 2797 3341 1997 \nz\n\" id=\"DejaVuSans-61\" transform=\"scale(0.015625)\"/>\n       <path d=\"M 603 4863 \nL 1178 4863 \nL 1178 0 \nL 603 0 \nL 603 4863 \nz\n\" id=\"DejaVuSans-6c\" transform=\"scale(0.015625)\"/>\n       <path d=\"M 544 1381 \nL 544 3500 \nL 1119 3500 \nL 1119 1403 \nQ 1119 906 1312 657 \nQ 1506 409 1894 409 \nQ 2359 409 2629 706 \nQ 2900 1003 2900 1516 \nL 2900 3500 \nL 3475 3500 \nL 3475 0 \nL 2900 0 \nL 2900 538 \nQ 2691 219 2414 64 \nQ 2138 -91 1772 -91 \nQ 1169 -91 856 284 \nQ 544 659 544 1381 \nz\nM 1991 3584 \nL 1991 3584 \nz\n\" id=\"DejaVuSans-75\" transform=\"scale(0.015625)\"/>\n      </defs>\n      <use xlink:href=\"#DejaVuSans-56\"/>\n      <use x=\"60.658203\" xlink:href=\"#DejaVuSans-61\"/>\n      <use x=\"121.9375\" xlink:href=\"#DejaVuSans-6c\"/>\n      <use x=\"149.720703\" xlink:href=\"#DejaVuSans-75\"/>\n      <use x=\"213.099609\" xlink:href=\"#DejaVuSans-65\"/>\n     </g>\n    </g>\n   </g>\n   <g id=\"line2d_21\">\n    <path clip-path=\"url(#p630c06aae5)\" d=\"M 62.183807 134.960828 \nL 62.845467 140.417646 \nL 63.507127 150.387393 \nL 64.168787 158.524145 \nL 64.830447 142.932062 \nL 65.492107 146.420367 \nL 66.153767 140.581479 \nL 66.815427 143.55134 \nL 67.477087 138.721087 \nL 68.138748 157.010565 \nL 68.800408 135.545748 \nL 69.462068 148.456326 \nL 70.123728 126.700752 \nL 70.785388 158.630493 \nL 71.447048 130.541992 \nL 72.108708 148.28727 \nL 72.770368 158.066865 \nL 74.093688 154.150493 \nL 74.755348 145.495571 \nL 75.417008 144.309233 \nL 76.078668 156.944822 \nL 76.740329 150.545261 \nL 77.401989 125.441356 \nL 78.063649 130.190151 \nL 78.725309 145.075014 \nL 79.386969 149.632959 \nL 80.048629 148.635123 \nL 80.710289 142.878257 \nL 81.371949 161.751895 \nL 82.033609 152.849107 \nL 82.695269 169.118375 \nL 83.356929 145.152359 \nL 84.018589 142.232209 \nL 84.68025 155.252163 \nL 85.34191 131.407601 \nL 86.00357 163.73277 \nL 86.66523 166.43785 \nL 87.32689 146.851689 \nL 87.98855 137.2824 \nL 88.65021 129.861568 \nL 89.31187 154.586748 \nL 89.97353 136.747968 \nL 90.63519 149.610865 \nL 91.29685 151.104116 \nL 91.95851 138.829879 \nL 92.62017 141.446505 \nL 93.281831 167.162285 \nL 93.943491 131.795476 \nL 94.605151 132.850735 \nL 95.266811 155.985474 \nL 95.928471 144.112312 \nL 96.590131 142.914804 \nL 97.251791 145.551617 \nL 97.913451 154.868169 \nL 98.575111 156.20837 \nL 99.236771 148.673328 \nL 99.898431 134.751502 \nL 100.560091 141.963255 \nL 101.221751 152.471581 \nL 101.883412 139.195803 \nL 102.545072 180.998427 \nL 103.206732 134.703856 \nL 103.868392 168.042867 \nL 104.530052 152.048138 \nL 105.191712 160.738469 \nL 105.853372 162.695062 \nL 106.515032 134.22937 \nL 107.176692 152.995063 \nL 107.838352 143.510223 \nL 108.500012 147.991211 \nL 109.161672 141.86228 \nL 109.823333 146.421055 \nL 110.484993 162.077187 \nL 111.146653 135.647146 \nL 111.808313 152.808396 \nL 112.469973 165.028722 \nL 113.131633 151.906461 \nL 113.793293 129.527127 \nL 114.454953 136.978311 \nL 115.116613 150.77061 \nL 115.778273 150.704611 \nL 116.439933 150.311794 \nL 117.101593 122.500859 \nL 117.763253 142.027313 \nL 118.424914 141.396583 \nL 119.086574 134.380056 \nL 119.748234 143.458624 \nL 120.409894 149.140667 \nL 121.071554 148.339928 \nL 121.733214 146.821178 \nL 122.394874 146.347204 \nL 123.056534 137.425021 \nL 123.718194 145.162294 \nL 124.379854 137.212766 \nL 125.041514 58.628036 \nL 125.703174 56.683205 \nL 126.364834 80.627224 \nL 127.026495 46.87362 \nL 127.688155 53.444072 \nL 128.349815 45.91683 \nL 129.011475 90.988835 \nL 129.673135 33.403886 \nL 130.334795 59.259631 \nL 130.996455 44.945747 \nL 131.658115 69.931984 \nL 132.319775 50.989426 \nL 132.981435 70.456428 \nL 133.643095 65.712009 \nL 134.304755 36.613549 \nL 134.966416 61.232292 \nL 135.628076 56.816703 \nL 136.289736 49.599638 \nL 137.613056 58.662306 \nL 138.274716 56.590101 \nL 138.936376 33.450209 \nL 139.598036 62.372431 \nL 140.259696 59.866274 \nL 140.921356 50.552404 \nL 141.583016 50.454112 \nL 142.244676 50.07273 \nL 142.906336 56.999735 \nL 143.567997 78.215918 \nL 144.229657 46.741216 \nL 144.891317 79.548089 \nL 145.552977 63.473306 \nL 146.214637 76.402696 \nL 146.876297 69.150903 \nL 147.537957 65.359727 \nL 148.199617 66.220924 \nL 148.861277 65.856077 \nL 149.522937 52.893511 \nL 150.184597 67.153467 \nL 150.846257 76.086537 \nL 151.507917 62.998961 \nL 152.169578 61.299314 \nL 152.831238 90.180525 \nL 153.492898 70.022706 \nL 154.154558 69.791145 \nL 154.816218 82.330012 \nL 155.477878 63.986756 \nL 156.139538 82.659495 \nL 156.801198 80.518096 \nL 157.462858 85.036813 \nL 158.124518 83.938144 \nL 158.786178 97.897663 \nL 159.447838 102.991876 \nL 160.109499 69.032899 \nL 160.771159 98.420819 \nL 161.432819 101.259917 \nL 162.094479 115.883184 \nL 162.756139 99.569288 \nL 163.417799 108.696896 \nL 164.079459 75.636051 \nL 164.741119 84.192363 \nL 165.402779 105.088346 \nL 166.064439 72.353189 \nL 167.387759 104.743828 \nL 168.049419 131.203834 \nL 168.71108 77.126602 \nL 169.37274 121.026279 \nL 170.0344 125.330675 \nL 170.69606 95.832057 \nL 171.35772 80.809038 \nL 172.01938 94.3921 \nL 172.68104 105.265413 \nL 173.3427 106.303431 \nL 174.00436 104.715258 \nL 174.66602 107.219227 \nL 175.32768 114.163032 \nL 176.651 120.997409 \nL 177.312661 130.431876 \nL 177.974321 126.402822 \nL 178.635981 144.185617 \nL 179.297641 127.198496 \nL 179.959301 138.953195 \nL 180.620961 141.746006 \nL 181.944281 115.819956 \nL 182.605941 122.769778 \nL 183.267601 153.02658 \nL 183.929261 147.78402 \nL 184.590921 126.935242 \nL 185.252582 150.65453 \nL 186.575902 135.884336 \nL 187.237562 154.920351 \nL 187.899222 143.977297 \nL 188.560882 162.096669 \nL 189.222542 155.093968 \nL 189.884202 145.908699 \nL 190.545862 169.494498 \nL 191.207522 147.438426 \nL 191.869182 154.216448 \nL 192.530842 149.052063 \nL 193.192502 154.299247 \nL 193.854163 142.55428 \nL 194.515823 158.318057 \nL 195.177483 166.161635 \nL 195.839143 161.203611 \nL 196.500803 157.749849 \nL 197.162463 164.875301 \nL 197.824123 166.369955 \nL 198.485783 176.34826 \nL 199.147443 177.277335 \nL 199.809103 187.203645 \nL 200.470763 152.110317 \nL 201.132423 188.080494 \nL 201.794083 183.048901 \nL 202.455744 184.67272 \nL 203.117404 167.331729 \nL 203.779064 182.397542 \nL 204.440724 165.848705 \nL 205.102384 189.347037 \nL 205.764044 179.597443 \nL 206.425704 193.736844 \nL 207.087364 160.505284 \nL 207.749024 200.271571 \nL 208.410684 184.16205 \nL 209.072344 181.608149 \nL 209.734004 185.329039 \nL 210.395665 193.418109 \nL 211.057325 193.920662 \nL 211.718985 193.039683 \nL 212.380645 196.35617 \nL 213.703965 171.257515 \nL 214.365625 204.325154 \nL 215.027285 214.756364 \nL 215.688945 200.953344 \nL 216.350605 171.096427 \nL 217.012265 211.20378 \nL 217.673925 183.91143 \nL 218.335585 184.403298 \nL 218.997246 211.125482 \nL 220.320566 187.662301 \nL 220.982226 211.732707 \nL 221.643886 107.81747 \nL 222.967206 117.421752 \nL 223.628866 113.30374 \nL 224.290526 120.056572 \nL 224.952186 105.612631 \nL 225.613846 115.014805 \nL 226.275506 103.507832 \nL 226.937167 124.30517 \nL 227.598827 102.582559 \nL 228.260487 96.86561 \nL 228.922147 129.657325 \nL 229.583807 102.366598 \nL 230.245467 92.585637 \nL 230.907127 120.862393 \nL 231.568787 87.617316 \nL 232.892107 115.284359 \nL 234.215427 100.837666 \nL 234.877087 106.495163 \nL 235.538748 101.221342 \nL 236.200408 118.175904 \nL 236.862068 105.644413 \nL 237.523728 124.025804 \nL 238.185388 109.034161 \nL 238.847048 118.271585 \nL 239.508708 116.392858 \nL 240.170368 93.658154 \nL 240.832028 95.398106 \nL 241.493688 101.038486 \nL 242.155348 120.778324 \nL 242.817008 111.866165 \nL 243.478668 94.237179 \nL 244.140329 106.685924 \nL 244.801989 81.558708 \nL 245.463649 103.888419 \nL 246.125309 106.270132 \nL 246.786969 112.118743 \nL 247.448629 107.050683 \nL 248.110289 110.408278 \nL 248.771949 100.504248 \nL 249.433609 97.676461 \nL 250.095269 117.876509 \nL 251.418589 130.109999 \nL 252.08025 103.041357 \nL 252.74191 121.717308 \nL 253.40357 133.894382 \nL 254.06523 104.540449 \nL 254.72689 80.239701 \nL 255.38855 109.176993 \nL 256.05021 99.443996 \nL 256.71187 108.227863 \nL 257.37353 110.349779 \nL 258.03519 98.607716 \nL 258.69685 112.623334 \nL 259.35851 106.202244 \nL 260.02017 105.601319 \nL 260.681831 117.074182 \nL 261.343491 97.899569 \nL 262.005151 111.419579 \nL 262.666811 118.15884 \nL 263.328471 103.235331 \nL 263.990131 119.851075 \nL 264.651791 109.153541 \nL 265.313451 109.602969 \nL 265.975111 96.956085 \nL 266.636771 104.040429 \nL 267.298431 109.834547 \nL 267.960091 100.101373 \nL 268.621751 93.493774 \nL 269.283412 103.132009 \nL 269.945072 109.473918 \nL 270.606732 124.774556 \nL 271.268392 121.929722 \nL 271.930052 113.14912 \nL 272.591712 116.674677 \nL 273.253372 111.793478 \nL 273.915032 108.980515 \nL 274.576692 103.513285 \nL 275.238352 110.457019 \nL 275.900012 104.016888 \nL 276.561672 108.898228 \nL 277.223333 132.48977 \nL 277.884993 120.505646 \nL 278.546653 111.306392 \nL 279.208313 123.626969 \nL 279.869973 102.694634 \nL 280.531633 91.924713 \nL 281.193293 95.526963 \nL 281.854953 112.083608 \nL 282.516613 92.36724 \nL 283.178273 107.879533 \nL 283.839933 113.487849 \nL 284.501593 116.673124 \nL 285.163253 113.066039 \nL 285.824914 114.045204 \nL 286.486574 107.572197 \nL 287.148234 107.672308 \nL 287.809894 109.479565 \nL 288.471554 104.446233 \nL 289.133214 95.713418 \nL 289.794874 98.484612 \nL 290.456534 126.6212 \nL 291.118194 138.965795 \nL 291.779854 98.604945 \nL 292.441514 125.19806 \nL 293.103174 111.968534 \nL 293.764834 122.879717 \nL 294.426495 130.164722 \nL 295.088155 103.039557 \nL 295.749815 100.497895 \nL 296.411475 115.920049 \nL 297.073135 139.19252 \nL 297.734795 115.518197 \nL 298.396455 104.642677 \nL 299.058115 126.249719 \nL 299.719775 106.997143 \nL 300.381435 109.26558 \nL 301.043095 102.359169 \nL 301.704755 107.645132 \nL 302.366416 120.250315 \nL 303.028076 95.126505 \nL 303.689736 110.765572 \nL 304.351396 109.214616 \nL 305.013056 119.658073 \nL 305.674716 113.956706 \nL 306.336376 119.027554 \nL 306.998036 110.758972 \nL 307.659696 88.926335 \nL 308.321356 124.550918 \nL 308.983016 127.307783 \nL 309.644676 91.594348 \nL 310.306336 110.990021 \nL 310.967997 116.267196 \nL 311.629657 96.46247 \nL 312.291317 115.451809 \nL 312.952977 87.288433 \nL 314.276297 113.963729 \nL 314.937957 83.328342 \nL 315.599617 115.238584 \nL 316.261277 99.606522 \nL 316.922937 104.682329 \nL 317.584597 93.043199 \nL 318.246257 89.992605 \nL 318.907917 107.634367 \nL 319.569578 116.67023 \nL 320.231238 102.589353 \nL 320.892898 115.698052 \nL 321.554558 84.526363 \nL 322.216218 106.182374 \nL 322.877878 111.936082 \nL 323.539538 105.524556 \nL 324.201198 123.188536 \nL 324.862858 118.793911 \nL 325.524518 93.622084 \nL 326.186178 115.048899 \nL 326.847838 119.506064 \nL 327.509499 101.138243 \nL 328.171159 93.577596 \nL 328.832819 98.920628 \nL 329.494479 95.660619 \nL 330.156139 115.876302 \nL 330.817799 123.510801 \nL 331.479459 89.647822 \nL 332.141119 110.685121 \nL 332.802779 109.796377 \nL 333.464439 91.476679 \nL 334.126099 100.345621 \nL 334.787759 101.446832 \nL 335.449419 81.621248 \nL 336.11108 114.041569 \nL 336.77274 95.808234 \nL 337.4344 105.818251 \nL 338.09606 103.309818 \nL 338.75772 88.677427 \nL 339.41938 100.418608 \nL 340.08104 100.003504 \nL 340.7427 93.762111 \nL 341.40436 110.322603 \nL 342.06602 115.743246 \nL 342.72768 118.056453 \nL 343.38934 128.649166 \nL 344.051 82.062929 \nL 344.712661 118.535721 \nL 345.374321 108.269738 \nL 346.035981 108.845658 \nL 347.359301 96.075936 \nL 348.020961 95.490787 \nL 348.682621 112.117225 \nL 350.005941 101.968364 \nL 350.667601 108.043154 \nL 351.329261 86.508429 \nL 351.990921 99.349127 \nL 352.652582 96.4579 \nL 353.314242 97.219728 \nL 353.975902 91.243513 \nL 354.637562 102.649652 \nL 355.299222 119.669049 \nL 355.960882 99.976539 \nL 356.622542 112.059203 \nL 357.284202 110.566711 \nL 357.945862 97.598639 \nL 358.607522 89.985528 \nL 359.269182 103.986182 \nL 359.930842 100.586182 \nL 360.592502 84.397012 \nL 361.254163 101.223759 \nL 361.915823 73.84427 \nL 363.239143 124.144108 \nL 363.900803 94.992178 \nL 364.562463 99.219794 \nL 365.224123 88.634916 \nL 365.885783 95.688219 \nL 366.547443 17.083636 \nL 366.547443 17.083636 \n\" style=\"fill:none;stroke:#1f77b4;stroke-linecap:square;stroke-width:1.5;\"/>\n   </g>\n   <g id=\"line2d_22\">\n    <path clip-path=\"url(#p630c06aae5)\" d=\"M 62.183807 148.280512 \nL 62.845467 145.798866 \nL 64.168787 139.634166 \nL 64.830447 154.646932 \nL 65.492107 151.104557 \nL 66.153767 146.080473 \nL 66.815427 143.552451 \nL 67.477087 146.318686 \nL 68.138748 142.803911 \nL 68.800408 149.325623 \nL 69.462068 144.556446 \nL 70.123728 144.895934 \nL 70.785388 137.784397 \nL 71.447048 145.401973 \nL 72.108708 142.061142 \nL 72.770368 144.291568 \nL 73.432028 149.640865 \nL 74.093688 153.252432 \nL 74.755348 154.398739 \nL 75.417008 154.530102 \nL 76.078668 144.812818 \nL 76.740329 153.987605 \nL 77.401989 151.0477 \nL 78.063649 144.368455 \nL 78.725309 132.087371 \nL 79.386969 140.681748 \nL 80.048629 143.928504 \nL 80.710289 149.672064 \nL 81.371949 145.028267 \nL 82.033609 151.467763 \nL 82.695269 151.619825 \nL 83.356929 164.220862 \nL 84.68025 148.17936 \nL 85.34191 151.954231 \nL 86.00357 144.529129 \nL 86.66523 150.411675 \nL 87.32689 161.802233 \nL 87.98855 153.774423 \nL 88.65021 147.471267 \nL 89.31187 138.028346 \nL 89.97353 144.187894 \nL 90.63519 144.90054 \nL 91.29685 147.104673 \nL 91.95851 148.614282 \nL 92.62017 142.119058 \nL 93.281831 145.406296 \nL 93.943491 155.550728 \nL 94.605151 144.42946 \nL 95.266811 141.18461 \nL 95.928471 144.496906 \nL 96.590131 145.371003 \nL 97.251791 146.719938 \nL 97.913451 148.521372 \nL 98.575111 147.925318 \nL 99.236771 151.485745 \nL 99.898431 153.633867 \nL 100.560091 146.98591 \nL 101.221751 138.083916 \nL 101.883412 150.215126 \nL 102.545072 146.623375 \nL 103.206732 157.349153 \nL 103.868392 154.349214 \nL 104.530052 155.575901 \nL 105.191712 156.388534 \nL 106.515032 161.136844 \nL 107.176692 151.336347 \nL 107.838352 148.784997 \nL 108.500012 148.91126 \nL 109.161672 146.729485 \nL 109.823333 150.851521 \nL 110.484993 142.082477 \nL 111.146653 154.008737 \nL 111.808313 146.847489 \nL 112.469973 148.175902 \nL 113.131633 157.056491 \nL 113.793293 155.775963 \nL 114.454953 145.415102 \nL 115.116613 142.480976 \nL 115.778273 140.428376 \nL 116.439933 151.28976 \nL 117.101593 151.473463 \nL 117.763253 138.900943 \nL 118.424914 134.863453 \nL 119.086574 141.235609 \nL 119.748234 141.078359 \nL 120.409894 139.781851 \nL 121.071554 144.68735 \nL 121.733214 146.463637 \nL 122.394874 147.232788 \nL 123.056534 149.096021 \nL 123.718194 143.71766 \nL 124.379854 142.7953 \nL 125.041514 143.435859 \nL 125.703174 107.46937 \nL 126.364834 79.713016 \nL 127.026495 79.876884 \nL 127.688155 67.30844 \nL 128.349815 60.436052 \nL 129.011475 55.839672 \nL 129.673135 61.199345 \nL 130.334795 58.49258 \nL 130.996455 58.433498 \nL 131.658115 52.45566 \nL 132.319775 53.719679 \nL 132.981435 62.114541 \nL 133.643095 64.921328 \nL 134.304755 60.334936 \nL 134.966416 58.17912 \nL 135.628076 54.454049 \nL 136.289736 57.879214 \nL 136.951396 50.258956 \nL 137.613056 57.725105 \nL 138.274716 53.102607 \nL 138.936376 57.759569 \nL 139.598036 47.473663 \nL 140.259696 56.757356 \nL 140.921356 54.084596 \nL 141.583016 57.080522 \nL 142.244676 54.125855 \nL 142.906336 52.428484 \nL 143.567997 51.331173 \nL 144.229657 70.144009 \nL 144.891317 60.162175 \nL 145.552977 64.820495 \nL 146.876297 70.985319 \nL 147.537957 72.979367 \nL 148.199617 69.908161 \nL 148.861277 67.940724 \nL 149.522937 68.011981 \nL 150.184597 61.291849 \nL 150.846257 66.573753 \nL 151.507917 66.544265 \nL 152.169578 72.17778 \nL 152.831238 63.638868 \nL 153.492898 75.458171 \nL 154.154558 75.695291 \nL 154.816218 74.531364 \nL 155.477878 77.346074 \nL 156.139538 74.035349 \nL 156.801198 73.210645 \nL 157.462858 85.007219 \nL 158.124518 80.509291 \nL 158.786178 83.656272 \nL 160.109499 97.555899 \nL 160.771159 85.261156 \nL 163.417799 109.392937 \nL 164.079459 106.094458 \nL 164.741119 91.945853 \nL 165.402779 89.995163 \nL 166.064439 96.996779 \nL 166.726099 88.420296 \nL 167.387759 85.555469 \nL 168.71108 108.41086 \nL 169.37274 103.016158 \nL 170.0344 107.443711 \nL 170.69606 116.255672 \nL 171.35772 105.826439 \nL 172.01938 101.899171 \nL 172.68104 94.630384 \nL 173.3427 95.248973 \nL 174.00436 107.920403 \nL 174.66602 108.323349 \nL 175.32768 102.781121 \nL 175.98934 106.069153 \nL 176.651 118.67259 \nL 177.312661 116.50315 \nL 177.974321 123.537836 \nL 178.635981 126.71254 \nL 179.297641 135.558736 \nL 179.959301 131.267556 \nL 180.620961 138.465703 \nL 181.282621 138.012376 \nL 181.944281 136.120273 \nL 182.605941 126.648059 \nL 183.267601 124.031257 \nL 184.590921 145.854718 \nL 185.252582 138.643618 \nL 185.914242 142.013654 \nL 186.575902 141.237744 \nL 187.237562 142.590139 \nL 187.899222 149.538725 \nL 188.560882 146.562123 \nL 189.222542 151.120669 \nL 189.884202 158.445643 \nL 190.545862 151.615254 \nL 191.207522 158.677804 \nL 191.869182 156.24631 \nL 192.530842 155.871458 \nL 193.192502 151.515039 \nL 193.854163 151.736011 \nL 194.515823 152.213162 \nL 195.177483 151.814345 \nL 195.839143 160.53276 \nL 196.500803 161.624918 \nL 197.162463 158.60637 \nL 197.824123 164.392221 \nL 198.485783 162.042193 \nL 199.147443 171.130891 \nL 199.809103 176.648449 \nL 200.470763 178.759036 \nL 201.132423 169.776767 \nL 201.794083 176.471849 \nL 203.117404 183.905166 \nL 203.779064 177.891098 \nL 204.440724 178.208263 \nL 205.102384 171.04248 \nL 205.764044 182.068139 \nL 206.425704 182.736871 \nL 207.087364 186.811101 \nL 207.749024 174.865862 \nL 208.410684 186.538927 \nL 209.072344 185.461848 \nL 209.734004 186.184297 \nL 210.395665 185.89969 \nL 211.057325 189.780671 \nL 211.718985 186.870403 \nL 212.380645 198.625172 \nL 213.042305 191.935764 \nL 213.703965 193.089429 \nL 214.365625 179.525294 \nL 215.027285 193.859189 \nL 215.688945 199.168251 \nL 216.350605 206.061304 \nL 217.012265 191.042308 \nL 217.673925 195.295829 \nL 218.335585 190.850885 \nL 218.997246 193.472434 \nL 219.658906 198.23052 \nL 220.320566 199.435053 \nL 220.982226 192.180877 \nL 221.643886 205.141175 \nL 222.305546 164.658872 \nL 222.967206 134.851418 \nL 224.290526 121.202552 \nL 224.952186 117.878221 \nL 225.613846 118.885462 \nL 226.275506 110.260787 \nL 226.937167 107.89298 \nL 227.598827 116.018641 \nL 228.260487 117.541838 \nL 228.922147 95.791346 \nL 229.583807 118.536445 \nL 230.245467 111.896676 \nL 230.907127 101.080309 \nL 231.568787 114.48385 \nL 232.230447 102.181996 \nL 232.892107 95.992237 \nL 233.553767 110.519029 \nL 234.215427 105.085558 \nL 234.877087 104.380923 \nL 235.538748 108.138005 \nL 236.200408 104.449498 \nL 237.523728 111.5445 \nL 238.185388 118.56235 \nL 238.847048 109.312132 \nL 239.508708 118.035912 \nL 240.170368 118.601208 \nL 240.832028 105.797498 \nL 241.493688 102.810008 \nL 242.155348 102.347416 \nL 242.817008 105.905867 \nL 243.478668 116.915573 \nL 244.140329 104.130215 \nL 244.801989 104.977295 \nL 245.463649 94.817298 \nL 246.125309 98.909722 \nL 246.786969 104.655506 \nL 247.448629 106.564215 \nL 248.110289 108.001049 \nL 248.771949 110.63878 \nL 249.433609 105.011688 \nL 250.095269 104.483945 \nL 250.756929 108.556639 \nL 251.418589 117.801846 \nL 252.08025 121.008932 \nL 252.74191 118.32029 \nL 253.40357 116.540844 \nL 254.06523 124.798643 \nL 254.72689 120.318838 \nL 255.38855 103.643853 \nL 256.05021 99.091219 \nL 256.71187 102.250977 \nL 257.37353 106.34236 \nL 258.03519 111.603211 \nL 258.69685 103.704064 \nL 259.35851 104.704105 \nL 260.02017 110.598916 \nL 260.681831 107.443553 \nL 261.343491 110.977298 \nL 262.005151 107.952309 \nL 262.666811 110.05679 \nL 263.328471 110.770954 \nL 263.990131 112.826872 \nL 264.651791 114.294923 \nL 265.313451 112.315275 \nL 265.975111 110.940504 \nL 266.636771 106.208809 \nL 267.298431 103.291765 \nL 267.960091 109.409684 \nL 268.621751 104.13835 \nL 269.283412 101.659405 \nL 269.945072 101.445879 \nL 270.606732 102.427674 \nL 271.268392 117.31116 \nL 271.930052 119.534616 \nL 272.591712 116.305224 \nL 273.253372 116.827657 \nL 273.915032 115.363523 \nL 274.576692 113.571848 \nL 275.900012 108.484147 \nL 276.561672 108.666667 \nL 277.223333 106.951702 \nL 277.884993 120.034125 \nL 278.546653 121.607545 \nL 279.208313 117.226914 \nL 279.869973 120.219151 \nL 281.193293 104.194502 \nL 281.854953 102.488873 \nL 282.516613 104.570537 \nL 283.178273 100.934211 \nL 283.839933 104.494091 \nL 284.501593 108.711366 \nL 285.163253 110.306545 \nL 285.824914 114.722716 \nL 286.486574 116.641042 \nL 287.148234 108.437612 \nL 287.809894 111.068443 \nL 288.471554 112.277987 \nL 289.133214 108.669508 \nL 289.794874 102.6217 \nL 290.456534 102.843608 \nL 291.118194 109.450783 \nL 291.779854 125.268435 \nL 292.441514 117.404935 \nL 293.103174 117.702142 \nL 293.764834 114.762174 \nL 294.426495 119.834964 \nL 295.088155 127.542185 \nL 295.749815 118.747959 \nL 296.411475 106.343807 \nL 297.073135 111.81236 \nL 297.734795 124.075585 \nL 298.396455 125.179778 \nL 299.058115 113.78495 \nL 299.719775 119.124311 \nL 300.381435 111.414285 \nL 301.043095 114.045751 \nL 301.704755 113.280994 \nL 302.366416 104.890949 \nL 303.028076 112.488937 \nL 303.689736 111.116584 \nL 304.351396 105.134192 \nL 305.013056 109.905487 \nL 306.336376 116.837556 \nL 306.998036 115.239713 \nL 307.659696 114.94353 \nL 308.321356 105.622354 \nL 308.983016 110.435331 \nL 309.644676 122.422967 \nL 310.306336 108.78933 \nL 310.967997 109.29295 \nL 311.629657 111.58304 \nL 312.291317 104.600131 \nL 312.952977 112.64841 \nL 314.276297 95.417747 \nL 314.937957 107.198192 \nL 315.599617 100.777843 \nL 316.261277 103.170602 \nL 316.922937 103.475609 \nL 317.584597 105.830251 \nL 318.907917 93.619719 \nL 319.569578 103.042699 \nL 320.231238 106.708353 \nL 320.892898 109.139988 \nL 321.554558 112.463243 \nL 322.216218 96.999179 \nL 322.877878 103.528726 \nL 323.539538 107.996002 \nL 324.201198 106.758947 \nL 324.862858 115.473233 \nL 325.524518 116.820545 \nL 326.186178 106.921809 \nL 326.847838 112.272164 \nL 327.509499 113.25043 \nL 328.171159 113.745315 \nL 328.832819 100.701133 \nL 329.494479 101.685028 \nL 330.156139 97.115594 \nL 330.817799 106.687777 \nL 331.479459 118.707442 \nL 332.141119 105.85725 \nL 332.802779 101.481525 \nL 333.464439 112.44759 \nL 334.126099 100.412803 \nL 335.449419 104.147615 \nL 336.11108 91.510261 \nL 336.77274 100.217594 \nL 337.4344 104.715011 \nL 338.09606 101.084967 \nL 338.75772 103.299935 \nL 339.41938 100.015662 \nL 340.08104 95.600479 \nL 340.7427 99.710991 \nL 341.40436 100.765314 \nL 342.06602 103.160985 \nL 342.72768 107.489311 \nL 343.38934 117.612284 \nL 344.051 118.266238 \nL 344.712661 108.554487 \nL 345.374321 107.845263 \nL 346.035981 109.767595 \nL 346.697641 110.808613 \nL 347.359301 109.874817 \nL 348.020961 100.145966 \nL 348.682621 100.014251 \nL 349.344281 104.608266 \nL 350.005941 108.034913 \nL 350.667601 107.383165 \nL 351.329261 102.393051 \nL 351.990921 101.763009 \nL 352.652582 96.425306 \nL 353.314242 100.013033 \nL 353.975902 99.780272 \nL 354.637562 96.106835 \nL 355.299222 96.183616 \nL 355.960882 110.128824 \nL 356.622542 104.872879 \nL 357.284202 110.596428 \nL 357.945862 110.409549 \nL 358.607522 102.755056 \nL 359.269182 100.83883 \nL 359.930842 101.209218 \nL 360.592502 100.56647 \nL 361.254163 96.34316 \nL 361.915823 97.568939 \nL 362.577483 87.427296 \nL 363.239143 88.997151 \nL 363.900803 107.992349 \nL 364.562463 104.775645 \nL 365.224123 99.367479 \nL 365.885783 97.787636 \nL 366.547443 94.486881 \nL 366.547443 94.486881 \n\" style=\"fill:none;stroke:#ff7f0e;stroke-linecap:square;stroke-width:1.5;\"/>\n   </g>\n   <g id=\"patch_3\">\n    <path d=\"M 46.965625 224.64 \nL 46.965625 7.2 \n\" style=\"fill:none;stroke:#000000;stroke-linecap:square;stroke-linejoin:miter;stroke-width:0.8;\"/>\n   </g>\n   <g id=\"patch_4\">\n    <path d=\"M 381.765625 224.64 \nL 381.765625 7.2 \n\" style=\"fill:none;stroke:#000000;stroke-linecap:square;stroke-linejoin:miter;stroke-width:0.8;\"/>\n   </g>\n   <g id=\"patch_5\">\n    <path d=\"M 46.965625 224.64 \nL 381.765625 224.64 \n\" style=\"fill:none;stroke:#000000;stroke-linecap:square;stroke-linejoin:miter;stroke-width:0.8;\"/>\n   </g>\n   <g id=\"patch_6\">\n    <path d=\"M 46.965625 7.2 \nL 381.765625 7.2 \n\" style=\"fill:none;stroke:#000000;stroke-linecap:square;stroke-linejoin:miter;stroke-width:0.8;\"/>\n   </g>\n  </g>\n </g>\n <defs>\n  <clipPath id=\"p630c06aae5\">\n   <rect height=\"217.44\" width=\"334.8\" x=\"46.965625\" y=\"7.2\"/>\n  </clipPath>\n </defs>\n</svg>\n",
      "image/png": "[encoded data removed]"
     },
     "metadata": {
      "needs_background": "light"
     }
    }
   ],
   "source": [
    "plot_series(time_valid, x_valid)\n",
    "plot_series(time_valid, forecast)"
   ]
  },
  {
   "cell_type": "code",
   "execution_count": 53,
   "metadata": {},
   "outputs": [
    {
     "output_type": "execute_result",
     "data": {
      "text/plain": [
       "4.9342504"
      ]
     },
     "metadata": {},
     "execution_count": 53
    }
   ],
   "source": [
    "tf.keras.metrics.mean_absolute_error(x_valid, forecast).numpy()"
   ]
  },
  {
   "cell_type": "code",
   "execution_count": null,
   "metadata": {},
   "outputs": [],
   "source": []
  }
 ]
}