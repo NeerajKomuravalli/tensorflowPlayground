{
 "metadata": {
  "language_info": {
   "codemirror_mode": {
    "name": "ipython",
    "version": 3
   },
   "file_extension": ".py",
   "mimetype": "text/x-python",
   "name": "python",
   "nbconvert_exporter": "python",
   "pygments_lexer": "ipython3",
   "version": "3.8.2"
  },
  "orig_nbformat": 2,
  "kernelspec": {
   "name": "python382jvsc74a57bd0c05f7f5b7449b362e25f922c76429131874e0839c45bc04f41f76db7906a2c56",
   "display_name": "Python 3.8.2 64-bit ('coursera_tensorflow_venv': venv)"
  }
 },
 "nbformat": 4,
 "nbformat_minor": 2,
 "cells": [
  {
   "cell_type": "code",
   "execution_count": 22,
   "metadata": {},
   "outputs": [],
   "source": [
    "import tensorflow as tf\n",
    "import numpy as np"
   ]
  },
  {
   "cell_type": "code",
   "execution_count": 11,
   "metadata": {},
   "outputs": [
    {
     "output_type": "stream",
     "name": "stdout",
     "text": [
      "0\n1\n2\n3\n4\n5\n6\n7\n8\n9\n"
     ]
    }
   ],
   "source": [
    "dataset = tf.data.Dataset.range(10)\n",
    "for val in dataset:\n",
    "    print(val.numpy())"
   ]
  },
  {
   "cell_type": "code",
   "execution_count": 27,
   "metadata": {},
   "outputs": [
    {
     "output_type": "stream",
     "name": "stdout",
     "text": [
      "Using method 1\n[0, 1, 2, 3, 4]\n[1, 2, 3, 4, 5]\n[2, 3, 4, 5, 6]\n[3, 4, 5, 6, 7]\n[4, 5, 6, 7, 8]\n[5, 6, 7, 8, 9]\n[6, 7, 8, 9]\n[7, 8, 9]\n[8, 9]\n[9]\nUsing method 2\n0 1 2 3 4 \n1 2 3 4 5 \n2 3 4 5 6 \n3 4 5 6 7 \n4 5 6 7 8 \n5 6 7 8 9 \n6 7 8 9 \n7 8 9 \n8 9 \n9 \n"
     ]
    }
   ],
   "source": [
    "dataset = tf.data.Dataset.range(10)\n",
    "dataset = dataset.window(5, shift=1)\n",
    "# Using method 1\n",
    "print(\"Using method 1\")\n",
    "for window in dataset:\n",
    "    print(list(window.as_numpy_iterator()))\n",
    "# Using method 2\n",
    "print(\"Using method 2\")\n",
    "for window in dataset:\n",
    "    for val in window:\n",
    "        print(val.numpy(), end = \" \")\n",
    "    print()"
   ]
  },
  {
   "cell_type": "code",
   "execution_count": 40,
   "metadata": {},
   "outputs": [
    {
     "output_type": "stream",
     "name": "stdout",
     "text": [
      "[0, 1, 2, 3, 4]\n[1, 2, 3, 4, 5]\n[2, 3, 4, 5, 6]\n[3, 4, 5, 6, 7]\n[4, 5, 6, 7, 8]\n[5, 6, 7, 8, 9]\n"
     ]
    }
   ],
   "source": [
    "dataset = tf.data.Dataset.range(10)\n",
    "dataset = dataset.window(5, shift=1, drop_remainder=True)\n",
    "for window in dataset:\n",
    "    print(list(window.as_numpy_iterator()))"
   ]
  },
  {
   "cell_type": "code",
   "execution_count": 41,
   "metadata": {},
   "outputs": [
    {
     "output_type": "stream",
     "name": "stdout",
     "text": [
      "[0 1 2 3 4]\n[1 2 3 4 5]\n[2 3 4 5 6]\n[3 4 5 6 7]\n[4 5 6 7 8]\n[5 6 7 8 9]\n"
     ]
    }
   ],
   "source": [
    "dataset = tf.data.Dataset.range(10)\n",
    "dataset = dataset.window(5, shift=1, drop_remainder=True)\n",
    "# flat_map will convert the batches into tensors from _VariantDataset\n",
    "dataset = dataset.flat_map(lambda window: window.batch(5))\n",
    "for window in dataset:\n",
    "    print(window.numpy())"
   ]
  },
  {
   "cell_type": "code",
   "execution_count": 46,
   "metadata": {},
   "outputs": [
    {
     "output_type": "stream",
     "name": "stdout",
     "text": [
      "[0 1 2 3]\t4\n[1 2 3 4]\t5\n[2 3 4 5]\t6\n[3 4 5 6]\t7\n[4 5 6 7]\t8\n[5 6 7 8]\t9\n"
     ]
    }
   ],
   "source": [
    "dataset = tf.data.Dataset.range(10)\n",
    "dataset = dataset.window(5, shift=1, drop_remainder=True)\n",
    "dataset = dataset.flat_map(lambda x: x.batch(5))\n",
    "# dataset = dataset.map(lambda x: x.batch(5))\n",
    "dataset = dataset.map(lambda x: (x[:-1], x[-1]))\n",
    "for (window_x, window_y) in dataset:\n",
    "    print(window_x.numpy(), end=\"\\t\")\n",
    "    print(window_y.numpy())"
   ]
  },
  {
   "cell_type": "code",
   "execution_count": null,
   "metadata": {},
   "outputs": [],
   "source": []
  }
 ]
}