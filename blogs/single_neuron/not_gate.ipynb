{
  "nbformat": 4,
  "nbformat_minor": 0,
  "metadata": {
    "colab": {
      "name": "not_gate.ipynb",
      "provenance": []
    },
    "kernelspec": {
      "name": "python3",
      "display_name": "Python 3"
    },
    "language_info": {
      "name": "python"
    }
  },
  "cells": [
    {
      "cell_type": "code",
      "metadata": {
        "id": "DUb-67Xamo14"
      },
      "source": [
        "import tensorflow as tf\n",
        "import numpy as np "
      ],
      "execution_count": 1,
      "outputs": []
    },
    {
      "cell_type": "code",
      "metadata": {
        "id": "icP8eTccnbYS"
      },
      "source": [
        "X = np.array(range(0, 1010, 10))/1000\n",
        "Y = []\n",
        "for i in X:\n",
        "  if i <= 0.5:\n",
        "    Y.append([0])\n",
        "  else:\n",
        "    Y.append([1])\n",
        "\n",
        "X = X.reshape(101, 1)\n",
        "Y = np.array(Y)\n",
        "\n",
        "shuffler = np.random.permutation(len(Y))\n",
        "X = X[shuffler]\n",
        "Y = Y[shuffler]"
      ],
      "execution_count": 44,
      "outputs": []
    },
    {
      "cell_type": "code",
      "metadata": {
        "id": "_YRR3TOXqIU_"
      },
      "source": [
        "train_data_size = 80\n",
        "\n",
        "X_train = X[:train_data_size]\n",
        "X_val = X[train_data_size:]\n",
        "\n",
        "Y_train = Y[:train_data_size]\n",
        "Y_val = Y[train_data_size:]"
      ],
      "execution_count": 47,
      "outputs": []
    },
    {
      "cell_type": "markdown",
      "metadata": {
        "id": "a4hOcVU2sVnm"
      },
      "source": [
        "All losses don't work well and use of bias also plays a role :\n",
        "\n",
        "1. binary_crossentropy => performs very bad\n",
        "2. mae + bias => works great\n",
        "3. mae + w/o bias => works very bad\n",
        "4. mse + bias => works great\n",
        "5. mse + w/o bias => works very bad"
      ]
    },
    {
      "cell_type": "code",
      "metadata": {
        "colab": {
          "base_uri": "https://localhost:8080/"
        },
        "id": "vOX6Rql_mp9j",
        "outputId": "02e0988b-5ea5-4613-fec4-10476ce23632"
      },
      "source": [
        "model = tf.keras.Sequential([\n",
        "                             tf.keras.layers.Dense(1, input_shape=[1], activation=\"relu\", use_bias=False)\n",
        "])\n",
        "model.compile(loss=\"mse\", optimizer=\"SGD\", metrics=[\"accuracy\"])\n",
        "model.summary()"
      ],
      "execution_count": 82,
      "outputs": [
        {
          "output_type": "stream",
          "text": [
            "Model: \"sequential_12\"\n",
            "_________________________________________________________________\n",
            "Layer (type)                 Output Shape              Param #   \n",
            "=================================================================\n",
            "dense_12 (Dense)             (None, 1)                 1         \n",
            "=================================================================\n",
            "Total params: 1\n",
            "Trainable params: 1\n",
            "Non-trainable params: 0\n",
            "_________________________________________________________________\n"
          ],
          "name": "stdout"
        }
      ]
    },
    {
      "cell_type": "code",
      "metadata": {
        "colab": {
          "base_uri": "https://localhost:8080/"
        },
        "id": "b5lHArVUmtje",
        "outputId": "bcb5610a-edcf-441d-f5c4-d1214e05473a"
      },
      "source": [
        "model.fit(x=X_train, y=Y_train, epochs=10, validation_data=(X_val, Y_val))"
      ],
      "execution_count": 83,
      "outputs": [
        {
          "output_type": "stream",
          "text": [
            "Epoch 1/10\n",
            "3/3 [==============================] - 0s 67ms/step - loss: 0.4625 - accuracy: 0.5375 - val_loss: 0.6190 - val_accuracy: 0.3810\n",
            "Epoch 2/10\n",
            "3/3 [==============================] - 0s 10ms/step - loss: 0.4625 - accuracy: 0.5375 - val_loss: 0.6190 - val_accuracy: 0.3810\n",
            "Epoch 3/10\n",
            "3/3 [==============================] - 0s 11ms/step - loss: 0.4625 - accuracy: 0.5375 - val_loss: 0.6190 - val_accuracy: 0.3810\n",
            "Epoch 4/10\n",
            "3/3 [==============================] - 0s 14ms/step - loss: 0.4625 - accuracy: 0.5375 - val_loss: 0.6190 - val_accuracy: 0.3810\n",
            "Epoch 5/10\n",
            "3/3 [==============================] - 0s 11ms/step - loss: 0.4625 - accuracy: 0.5375 - val_loss: 0.6190 - val_accuracy: 0.3810\n",
            "Epoch 6/10\n",
            "3/3 [==============================] - 0s 11ms/step - loss: 0.4625 - accuracy: 0.5375 - val_loss: 0.6190 - val_accuracy: 0.3810\n",
            "Epoch 7/10\n",
            "3/3 [==============================] - 0s 10ms/step - loss: 0.4625 - accuracy: 0.5375 - val_loss: 0.6190 - val_accuracy: 0.3810\n",
            "Epoch 8/10\n",
            "3/3 [==============================] - 0s 13ms/step - loss: 0.4625 - accuracy: 0.5375 - val_loss: 0.6190 - val_accuracy: 0.3810\n",
            "Epoch 9/10\n",
            "3/3 [==============================] - 0s 13ms/step - loss: 0.4625 - accuracy: 0.5375 - val_loss: 0.6190 - val_accuracy: 0.3810\n",
            "Epoch 10/10\n",
            "3/3 [==============================] - 0s 10ms/step - loss: 0.4625 - accuracy: 0.5375 - val_loss: 0.6190 - val_accuracy: 0.3810\n"
          ],
          "name": "stdout"
        },
        {
          "output_type": "execute_result",
          "data": {
            "text/plain": [
              "<tensorflow.python.keras.callbacks.History at 0x7f17a4c48e90>"
            ]
          },
          "metadata": {
            "tags": []
          },
          "execution_count": 83
        }
      ]
    },
    {
      "cell_type": "code",
      "metadata": {
        "colab": {
          "base_uri": "https://localhost:8080/"
        },
        "id": "TKl6BPcUm6YS",
        "outputId": "47d50bee-377a-4d45-f1a2-6b819be70736"
      },
      "source": [
        "model.predict_classes([0.5999])"
      ],
      "execution_count": 79,
      "outputs": [
        {
          "output_type": "stream",
          "text": [
            "/usr/local/lib/python3.7/dist-packages/tensorflow/python/keras/engine/sequential.py:455: UserWarning: `model.predict_classes()` is deprecated and will be removed after 2021-01-01. Please use instead:* `np.argmax(model.predict(x), axis=-1)`,   if your model does multi-class classification   (e.g. if it uses a `softmax` last-layer activation).* `(model.predict(x) > 0.5).astype(\"int32\")`,   if your model does binary classification   (e.g. if it uses a `sigmoid` last-layer activation).\n",
            "  warnings.warn('`model.predict_classes()` is deprecated and '\n"
          ],
          "name": "stderr"
        },
        {
          "output_type": "execute_result",
          "data": {
            "text/plain": [
              "array([[1]], dtype=int32)"
            ]
          },
          "metadata": {
            "tags": []
          },
          "execution_count": 79
        }
      ]
    },
    {
      "cell_type": "code",
      "metadata": {
        "id": "CDfru_SqroNK"
      },
      "source": [
        ""
      ],
      "execution_count": null,
      "outputs": []
    }
  ]
}