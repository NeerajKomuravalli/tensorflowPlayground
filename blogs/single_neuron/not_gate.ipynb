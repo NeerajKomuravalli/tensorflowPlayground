{
  "nbformat": 4,
  "nbformat_minor": 0,
  "metadata": {
    "colab": {
      "name": "not_gate.ipynb",
      "provenance": []
    },
    "kernelspec": {
      "name": "python3",
      "display_name": "Python 3.8.2 64-bit ('coursera_tensorflow_venv': venv)"
    },
    "language_info": {
      "name": "python",
      "version": "3.8.2"
    },
    "interpreter": {
      "hash": "c05f7f5b7449b362e25f922c76429131874e0839c45bc04f41f76db7906a2c56"
    }
  },
  "cells": [
    {
      "cell_type": "code",
      "metadata": {
        "id": "DUb-67Xamo14"
      },
      "source": [
        "import tensorflow as tf\n",
        "import numpy as np "
      ],
      "execution_count": 1,
      "outputs": []
    },
    {
      "cell_type": "code",
      "metadata": {
        "id": "icP8eTccnbYS"
      },
      "source": [
        "X = np.array(range(0, 10010, 10))/10000\n",
        "Y = []\n",
        "for i in X:\n",
        "  if i <= 0.3:\n",
        "    Y.append([0])\n",
        "  else:\n",
        "    Y.append([1])\n",
        "\n",
        "X = X.reshape(1001, 1)\n",
        "Y = np.array(Y)\n",
        "\n",
        "shuffler = np.random.permutation(len(Y))\n",
        "X = X[shuffler]\n",
        "Y = Y[shuffler]"
      ],
      "execution_count": 103,
      "outputs": []
    },
    {
      "cell_type": "code",
      "metadata": {
        "id": "_YRR3TOXqIU_"
      },
      "source": [
        "train_data_size = 80\n",
        "\n",
        "X_train = X[:train_data_size]\n",
        "X_val = X[train_data_size:]\n",
        "\n",
        "Y_train = Y[:train_data_size]\n",
        "Y_val = Y[train_data_size:]"
      ],
      "execution_count": 104,
      "outputs": []
    },
    {
      "cell_type": "markdown",
      "metadata": {
        "id": "a4hOcVU2sVnm"
      },
      "source": [
        "All losses don't work well and use of bias also plays a role :\n",
        "\n",
        "1. binary_crossentropy => performs very bad\n",
        "2. mae + bias => works great\n",
        "3. mae + w/o bias => works very bad\n",
        "4. mse + bias => works great\n",
        "5. mse + w/o bias => works very bad"
      ]
    },
    {
      "cell_type": "code",
      "metadata": {
        "colab": {
          "base_uri": "https://localhost:8080/"
        },
        "id": "vOX6Rql_mp9j",
        "outputId": "02e0988b-5ea5-4613-fec4-10476ce23632"
      },
      "source": [
        "model = tf.keras.Sequential([\n",
        "                             tf.keras.layers.Dense(1, input_shape=[1], activation=\"relu\", use_bias=True)\n",
        "])\n",
        "model.compile(loss=\"mae\", optimizer=\"SGD\", metrics=[\"accuracy\"])\n",
        "model.summary()"
      ],
      "execution_count": 107,
      "outputs": [
        {
          "output_type": "stream",
          "name": "stdout",
          "text": [
            "Model: \"sequential_21\"\n_________________________________________________________________\nLayer (type)                 Output Shape              Param #   \n=================================================================\ndense_21 (Dense)             (None, 1)                 2         \n=================================================================\nTotal params: 2\nTrainable params: 2\nNon-trainable params: 0\n_________________________________________________________________\n"
          ]
        }
      ]
    },
    {
      "cell_type": "code",
      "metadata": {
        "colab": {
          "base_uri": "https://localhost:8080/"
        },
        "id": "b5lHArVUmtje",
        "outputId": "bcb5610a-edcf-441d-f5c4-d1214e05473a"
      },
      "source": [
        "model.fit(x=X_train, y=Y_train, epochs=100, validation_data=(X_val, Y_val))"
      ],
      "execution_count": 108,
      "outputs": [
        {
          "output_type": "stream",
          "name": "stdout",
          "text": [
            "Epoch 1/100\n",
            "3/3 [==============================] - 0s 94ms/step - loss: 0.2559 - accuracy: 0.8570 - val_loss: 0.2369 - val_accuracy: 0.8969\n",
            "Epoch 2/100\n",
            "3/3 [==============================] - 0s 33ms/step - loss: 0.2612 - accuracy: 0.8414 - val_loss: 0.2369 - val_accuracy: 0.8969\n",
            "Epoch 3/100\n",
            "3/3 [==============================] - 0s 30ms/step - loss: 0.2579 - accuracy: 0.8570 - val_loss: 0.2368 - val_accuracy: 0.8969\n",
            "Epoch 4/100\n",
            "3/3 [==============================] - 0s 31ms/step - loss: 0.2577 - accuracy: 0.8609 - val_loss: 0.2368 - val_accuracy: 0.8969\n",
            "Epoch 5/100\n",
            "3/3 [==============================] - 0s 32ms/step - loss: 0.2503 - accuracy: 0.8727 - val_loss: 0.2367 - val_accuracy: 0.8979\n",
            "Epoch 6/100\n",
            "3/3 [==============================] - 0s 31ms/step - loss: 0.2494 - accuracy: 0.8844 - val_loss: 0.2367 - val_accuracy: 0.8979\n",
            "Epoch 7/100\n",
            "3/3 [==============================] - 0s 34ms/step - loss: 0.2480 - accuracy: 0.8844 - val_loss: 0.2369 - val_accuracy: 0.8947\n",
            "Epoch 8/100\n",
            "3/3 [==============================] - 0s 32ms/step - loss: 0.2450 - accuracy: 0.8727 - val_loss: 0.2368 - val_accuracy: 0.8958\n",
            "Epoch 9/100\n",
            "3/3 [==============================] - 0s 31ms/step - loss: 0.2618 - accuracy: 0.8570 - val_loss: 0.2369 - val_accuracy: 0.8947\n",
            "Epoch 10/100\n",
            "3/3 [==============================] - 0s 32ms/step - loss: 0.2553 - accuracy: 0.8688 - val_loss: 0.2368 - val_accuracy: 0.8947\n",
            "Epoch 11/100\n",
            "3/3 [==============================] - 0s 32ms/step - loss: 0.2621 - accuracy: 0.8180 - val_loss: 0.2368 - val_accuracy: 0.8947\n",
            "Epoch 12/100\n",
            "3/3 [==============================] - 0s 33ms/step - loss: 0.2537 - accuracy: 0.8570 - val_loss: 0.2370 - val_accuracy: 0.8914\n",
            "Epoch 13/100\n",
            "3/3 [==============================] - 0s 34ms/step - loss: 0.2528 - accuracy: 0.8570 - val_loss: 0.2369 - val_accuracy: 0.8914\n",
            "Epoch 14/100\n",
            "3/3 [==============================] - 0s 33ms/step - loss: 0.2556 - accuracy: 0.8453 - val_loss: 0.2369 - val_accuracy: 0.8914\n",
            "Epoch 15/100\n",
            "3/3 [==============================] - 0s 33ms/step - loss: 0.2541 - accuracy: 0.8766 - val_loss: 0.2370 - val_accuracy: 0.8893\n",
            "Epoch 16/100\n",
            "3/3 [==============================] - 0s 33ms/step - loss: 0.2516 - accuracy: 0.8570 - val_loss: 0.2370 - val_accuracy: 0.8903\n",
            "Epoch 17/100\n",
            "3/3 [==============================] - 0s 33ms/step - loss: 0.2508 - accuracy: 0.8844 - val_loss: 0.2370 - val_accuracy: 0.8893\n",
            "Epoch 18/100\n",
            "3/3 [==============================] - 0s 32ms/step - loss: 0.2565 - accuracy: 0.8492 - val_loss: 0.2371 - val_accuracy: 0.8882\n",
            "Epoch 19/100\n",
            "3/3 [==============================] - 0s 32ms/step - loss: 0.2577 - accuracy: 0.8430 - val_loss: 0.2369 - val_accuracy: 0.8893\n",
            "Epoch 20/100\n",
            "3/3 [==============================] - 0s 34ms/step - loss: 0.2619 - accuracy: 0.8688 - val_loss: 0.2368 - val_accuracy: 0.8893\n",
            "Epoch 21/100\n",
            "3/3 [==============================] - 0s 33ms/step - loss: 0.2432 - accuracy: 0.8883 - val_loss: 0.2367 - val_accuracy: 0.8893\n",
            "Epoch 22/100\n",
            "3/3 [==============================] - 0s 32ms/step - loss: 0.2687 - accuracy: 0.8609 - val_loss: 0.2369 - val_accuracy: 0.8882\n",
            "Epoch 23/100\n",
            "3/3 [==============================] - 0s 33ms/step - loss: 0.2576 - accuracy: 0.8570 - val_loss: 0.2368 - val_accuracy: 0.8871\n",
            "Epoch 24/100\n",
            "3/3 [==============================] - 0s 33ms/step - loss: 0.2595 - accuracy: 0.8570 - val_loss: 0.2369 - val_accuracy: 0.8871\n",
            "Epoch 25/100\n",
            "3/3 [==============================] - 0s 33ms/step - loss: 0.2393 - accuracy: 0.8898 - val_loss: 0.2370 - val_accuracy: 0.8860\n",
            "Epoch 26/100\n",
            "3/3 [==============================] - 0s 32ms/step - loss: 0.2621 - accuracy: 0.8727 - val_loss: 0.2372 - val_accuracy: 0.8860\n",
            "Epoch 27/100\n",
            "3/3 [==============================] - 0s 32ms/step - loss: 0.2561 - accuracy: 0.8250 - val_loss: 0.2371 - val_accuracy: 0.8860\n",
            "Epoch 28/100\n",
            "3/3 [==============================] - 0s 31ms/step - loss: 0.2609 - accuracy: 0.8094 - val_loss: 0.2370 - val_accuracy: 0.8860\n",
            "Epoch 29/100\n",
            "3/3 [==============================] - 0s 37ms/step - loss: 0.2541 - accuracy: 0.8664 - val_loss: 0.2370 - val_accuracy: 0.8860\n",
            "Epoch 30/100\n",
            "3/3 [==============================] - 0s 40ms/step - loss: 0.2504 - accuracy: 0.8664 - val_loss: 0.2369 - val_accuracy: 0.8860\n",
            "Epoch 31/100\n",
            "3/3 [==============================] - 0s 40ms/step - loss: 0.2496 - accuracy: 0.8703 - val_loss: 0.2367 - val_accuracy: 0.8871\n",
            "Epoch 32/100\n",
            "3/3 [==============================] - 0s 42ms/step - loss: 0.2551 - accuracy: 0.8430 - val_loss: 0.2367 - val_accuracy: 0.8871\n",
            "Epoch 33/100\n",
            "3/3 [==============================] - 0s 41ms/step - loss: 0.2535 - accuracy: 0.8664 - val_loss: 0.2367 - val_accuracy: 0.8860\n",
            "Epoch 34/100\n",
            "3/3 [==============================] - 0s 38ms/step - loss: 0.2610 - accuracy: 0.8469 - val_loss: 0.2369 - val_accuracy: 0.8860\n",
            "Epoch 35/100\n",
            "3/3 [==============================] - 0s 33ms/step - loss: 0.2608 - accuracy: 0.8367 - val_loss: 0.2370 - val_accuracy: 0.8838\n",
            "Epoch 36/100\n",
            "3/3 [==============================] - 0s 35ms/step - loss: 0.2520 - accuracy: 0.8328 - val_loss: 0.2369 - val_accuracy: 0.8849\n",
            "Epoch 37/100\n",
            "3/3 [==============================] - 0s 42ms/step - loss: 0.2331 - accuracy: 0.8719 - val_loss: 0.2366 - val_accuracy: 0.8860\n",
            "Epoch 38/100\n",
            "3/3 [==============================] - 0s 42ms/step - loss: 0.2515 - accuracy: 0.8664 - val_loss: 0.2364 - val_accuracy: 0.8871\n",
            "Epoch 39/100\n",
            "3/3 [==============================] - 0s 38ms/step - loss: 0.2494 - accuracy: 0.8844 - val_loss: 0.2365 - val_accuracy: 0.8860\n",
            "Epoch 40/100\n",
            "3/3 [==============================] - 0s 34ms/step - loss: 0.2580 - accuracy: 0.8664 - val_loss: 0.2366 - val_accuracy: 0.8860\n",
            "Epoch 41/100\n",
            "3/3 [==============================] - 0s 34ms/step - loss: 0.2545 - accuracy: 0.8508 - val_loss: 0.2368 - val_accuracy: 0.8838\n",
            "Epoch 42/100\n",
            "3/3 [==============================] - 0s 32ms/step - loss: 0.2528 - accuracy: 0.8445 - val_loss: 0.2368 - val_accuracy: 0.8838\n",
            "Epoch 43/100\n",
            "3/3 [==============================] - 0s 31ms/step - loss: 0.2619 - accuracy: 0.8133 - val_loss: 0.2364 - val_accuracy: 0.8860\n",
            "Epoch 44/100\n",
            "3/3 [==============================] - 0s 35ms/step - loss: 0.2552 - accuracy: 0.8406 - val_loss: 0.2365 - val_accuracy: 0.8860\n",
            "Epoch 45/100\n",
            "3/3 [==============================] - 0s 37ms/step - loss: 0.2591 - accuracy: 0.8367 - val_loss: 0.2365 - val_accuracy: 0.8849\n",
            "Epoch 46/100\n",
            "3/3 [==============================] - 0s 40ms/step - loss: 0.2615 - accuracy: 0.8172 - val_loss: 0.2365 - val_accuracy: 0.8849\n",
            "Epoch 47/100\n",
            "3/3 [==============================] - 0s 42ms/step - loss: 0.2681 - accuracy: 0.7977 - val_loss: 0.2367 - val_accuracy: 0.8827\n",
            "Epoch 48/100\n",
            "3/3 [==============================] - 0s 45ms/step - loss: 0.2423 - accuracy: 0.8641 - val_loss: 0.2365 - val_accuracy: 0.8849\n",
            "Epoch 49/100\n",
            "3/3 [==============================] - 0s 42ms/step - loss: 0.2579 - accuracy: 0.8250 - val_loss: 0.2365 - val_accuracy: 0.8838\n",
            "Epoch 50/100\n",
            "3/3 [==============================] - 0s 51ms/step - loss: 0.2731 - accuracy: 0.8094 - val_loss: 0.2366 - val_accuracy: 0.8827\n",
            "Epoch 51/100\n",
            "3/3 [==============================] - 0s 43ms/step - loss: 0.2500 - accuracy: 0.8367 - val_loss: 0.2368 - val_accuracy: 0.8806\n",
            "Epoch 52/100\n",
            "3/3 [==============================] - 0s 38ms/step - loss: 0.2563 - accuracy: 0.8289 - val_loss: 0.2367 - val_accuracy: 0.8806\n",
            "Epoch 53/100\n",
            "3/3 [==============================] - 0s 36ms/step - loss: 0.2566 - accuracy: 0.8250 - val_loss: 0.2365 - val_accuracy: 0.8827\n",
            "Epoch 54/100\n",
            "3/3 [==============================] - 0s 37ms/step - loss: 0.2530 - accuracy: 0.8523 - val_loss: 0.2363 - val_accuracy: 0.8838\n",
            "Epoch 55/100\n",
            "3/3 [==============================] - 0s 42ms/step - loss: 0.2585 - accuracy: 0.8250 - val_loss: 0.2363 - val_accuracy: 0.8838\n",
            "Epoch 56/100\n",
            "3/3 [==============================] - 0s 40ms/step - loss: 0.2636 - accuracy: 0.8211 - val_loss: 0.2362 - val_accuracy: 0.8849\n",
            "Epoch 57/100\n",
            "3/3 [==============================] - 0s 37ms/step - loss: 0.2477 - accuracy: 0.8562 - val_loss: 0.2361 - val_accuracy: 0.8860\n",
            "Epoch 58/100\n",
            "3/3 [==============================] - 0s 132ms/step - loss: 0.2362 - accuracy: 0.8602 - val_loss: 0.2361 - val_accuracy: 0.8849\n",
            "Epoch 59/100\n",
            "3/3 [==============================] - 0s 34ms/step - loss: 0.2449 - accuracy: 0.8484 - val_loss: 0.2360 - val_accuracy: 0.8860\n",
            "Epoch 60/100\n",
            "3/3 [==============================] - 0s 41ms/step - loss: 0.2542 - accuracy: 0.8328 - val_loss: 0.2359 - val_accuracy: 0.8860\n",
            "Epoch 61/100\n",
            "3/3 [==============================] - 0s 39ms/step - loss: 0.2534 - accuracy: 0.8469 - val_loss: 0.2359 - val_accuracy: 0.8860\n",
            "Epoch 62/100\n",
            "3/3 [==============================] - 0s 38ms/step - loss: 0.2631 - accuracy: 0.8133 - val_loss: 0.2358 - val_accuracy: 0.8871\n",
            "Epoch 63/100\n",
            "3/3 [==============================] - 0s 36ms/step - loss: 0.2431 - accuracy: 0.8664 - val_loss: 0.2357 - val_accuracy: 0.8871\n",
            "Epoch 64/100\n",
            "3/3 [==============================] - 0s 37ms/step - loss: 0.2462 - accuracy: 0.8547 - val_loss: 0.2358 - val_accuracy: 0.8860\n",
            "Epoch 65/100\n",
            "3/3 [==============================] - 0s 39ms/step - loss: 0.2609 - accuracy: 0.8289 - val_loss: 0.2357 - val_accuracy: 0.8871\n",
            "Epoch 66/100\n",
            "3/3 [==============================] - 0s 36ms/step - loss: 0.2501 - accuracy: 0.8469 - val_loss: 0.2357 - val_accuracy: 0.8871\n",
            "Epoch 67/100\n",
            "3/3 [==============================] - 0s 33ms/step - loss: 0.2590 - accuracy: 0.8352 - val_loss: 0.2357 - val_accuracy: 0.8860\n",
            "Epoch 68/100\n",
            "3/3 [==============================] - 0s 37ms/step - loss: 0.2497 - accuracy: 0.8680 - val_loss: 0.2356 - val_accuracy: 0.8871\n",
            "Epoch 69/100\n",
            "3/3 [==============================] - 0s 36ms/step - loss: 0.2524 - accuracy: 0.8781 - val_loss: 0.2356 - val_accuracy: 0.8871\n",
            "Epoch 70/100\n",
            "3/3 [==============================] - 0s 41ms/step - loss: 0.2696 - accuracy: 0.8297 - val_loss: 0.2357 - val_accuracy: 0.8860\n",
            "Epoch 71/100\n",
            "3/3 [==============================] - 0s 33ms/step - loss: 0.2420 - accuracy: 0.8680 - val_loss: 0.2358 - val_accuracy: 0.8860\n",
            "Epoch 72/100\n",
            "3/3 [==============================] - 0s 32ms/step - loss: 0.2475 - accuracy: 0.8367 - val_loss: 0.2358 - val_accuracy: 0.8860\n",
            "Epoch 73/100\n",
            "3/3 [==============================] - 0s 35ms/step - loss: 0.2465 - accuracy: 0.8367 - val_loss: 0.2356 - val_accuracy: 0.8860\n",
            "Epoch 74/100\n",
            "3/3 [==============================] - 0s 40ms/step - loss: 0.2497 - accuracy: 0.8547 - val_loss: 0.2357 - val_accuracy: 0.8849\n",
            "Epoch 75/100\n",
            "3/3 [==============================] - 0s 39ms/step - loss: 0.2358 - accuracy: 0.8758 - val_loss: 0.2356 - val_accuracy: 0.8860\n",
            "Epoch 76/100\n",
            "3/3 [==============================] - 0s 39ms/step - loss: 0.2526 - accuracy: 0.8445 - val_loss: 0.2355 - val_accuracy: 0.8860\n",
            "Epoch 77/100\n",
            "3/3 [==============================] - 0s 35ms/step - loss: 0.2625 - accuracy: 0.8570 - val_loss: 0.2356 - val_accuracy: 0.8860\n",
            "Epoch 78/100\n",
            "3/3 [==============================] - 0s 38ms/step - loss: 0.2494 - accuracy: 0.8742 - val_loss: 0.2356 - val_accuracy: 0.8860\n",
            "Epoch 79/100\n",
            "3/3 [==============================] - 0s 38ms/step - loss: 0.2446 - accuracy: 0.8602 - val_loss: 0.2354 - val_accuracy: 0.8871\n",
            "Epoch 80/100\n",
            "3/3 [==============================] - 0s 36ms/step - loss: 0.2477 - accuracy: 0.8648 - val_loss: 0.2355 - val_accuracy: 0.8860\n",
            "Epoch 81/100\n",
            "3/3 [==============================] - 0s 37ms/step - loss: 0.2507 - accuracy: 0.8664 - val_loss: 0.2356 - val_accuracy: 0.8860\n",
            "Epoch 82/100\n",
            "3/3 [==============================] - 0s 38ms/step - loss: 0.2507 - accuracy: 0.8484 - val_loss: 0.2356 - val_accuracy: 0.8860\n",
            "Epoch 83/100\n",
            "3/3 [==============================] - 0s 36ms/step - loss: 0.2513 - accuracy: 0.8641 - val_loss: 0.2355 - val_accuracy: 0.8860\n",
            "Epoch 84/100\n",
            "3/3 [==============================] - 0s 39ms/step - loss: 0.2491 - accuracy: 0.8328 - val_loss: 0.2356 - val_accuracy: 0.8860\n",
            "Epoch 85/100\n",
            "3/3 [==============================] - 0s 38ms/step - loss: 0.2596 - accuracy: 0.8313 - val_loss: 0.2357 - val_accuracy: 0.8849\n",
            "Epoch 86/100\n",
            "3/3 [==============================] - 0s 43ms/step - loss: 0.2656 - accuracy: 0.8055 - val_loss: 0.2359 - val_accuracy: 0.8817\n",
            "Epoch 87/100\n",
            "3/3 [==============================] - 0s 43ms/step - loss: 0.2549 - accuracy: 0.8250 - val_loss: 0.2359 - val_accuracy: 0.8817\n",
            "Epoch 88/100\n",
            "3/3 [==============================] - 0s 39ms/step - loss: 0.2606 - accuracy: 0.8367 - val_loss: 0.2359 - val_accuracy: 0.8817\n",
            "Epoch 89/100\n",
            "3/3 [==============================] - 0s 33ms/step - loss: 0.2455 - accuracy: 0.8406 - val_loss: 0.2360 - val_accuracy: 0.8806\n",
            "Epoch 90/100\n",
            "3/3 [==============================] - 0s 43ms/step - loss: 0.2494 - accuracy: 0.8523 - val_loss: 0.2360 - val_accuracy: 0.8806\n",
            "Epoch 91/100\n",
            "3/3 [==============================] - 0s 42ms/step - loss: 0.2639 - accuracy: 0.8211 - val_loss: 0.2360 - val_accuracy: 0.8806\n",
            "Epoch 92/100\n",
            "3/3 [==============================] - 0s 36ms/step - loss: 0.2533 - accuracy: 0.8523 - val_loss: 0.2361 - val_accuracy: 0.8795\n",
            "Epoch 93/100\n",
            "3/3 [==============================] - 0s 39ms/step - loss: 0.2636 - accuracy: 0.8211 - val_loss: 0.2362 - val_accuracy: 0.8784\n",
            "Epoch 94/100\n",
            "3/3 [==============================] - 0s 37ms/step - loss: 0.2447 - accuracy: 0.8461 - val_loss: 0.2363 - val_accuracy: 0.8784\n",
            "Epoch 95/100\n",
            "3/3 [==============================] - 0s 36ms/step - loss: 0.2618 - accuracy: 0.8070 - val_loss: 0.2361 - val_accuracy: 0.8784\n",
            "Epoch 96/100\n",
            "3/3 [==============================] - 0s 37ms/step - loss: 0.2557 - accuracy: 0.8031 - val_loss: 0.2358 - val_accuracy: 0.8806\n",
            "Epoch 97/100\n",
            "3/3 [==============================] - 0s 37ms/step - loss: 0.2543 - accuracy: 0.8445 - val_loss: 0.2358 - val_accuracy: 0.8817\n",
            "Epoch 98/100\n",
            "3/3 [==============================] - 0s 37ms/step - loss: 0.2479 - accuracy: 0.8523 - val_loss: 0.2357 - val_accuracy: 0.8817\n",
            "Epoch 99/100\n",
            "3/3 [==============================] - 0s 37ms/step - loss: 0.2450 - accuracy: 0.8367 - val_loss: 0.2357 - val_accuracy: 0.8817\n",
            "Epoch 100/100\n",
            "3/3 [==============================] - 0s 38ms/step - loss: 0.2638 - accuracy: 0.8367 - val_loss: 0.2357 - val_accuracy: 0.8817\n"
          ]
        },
        {
          "output_type": "execute_result",
          "data": {
            "text/plain": [
              "<tensorflow.python.keras.callbacks.History at 0x15c1e2040>"
            ]
          },
          "metadata": {},
          "execution_count": 108
        }
      ]
    },
    {
      "cell_type": "code",
      "metadata": {
        "colab": {
          "base_uri": "https://localhost:8080/"
        },
        "id": "TKl6BPcUm6YS",
        "outputId": "47d50bee-377a-4d45-f1a2-6b819be70736"
      },
      "source": [
        "model.predict_classes([0.42])"
      ],
      "execution_count": 86,
      "outputs": [
        {
          "output_type": "execute_result",
          "data": {
            "text/plain": [
              "array([[1]], dtype=int32)"
            ]
          },
          "metadata": {},
          "execution_count": 86
        }
      ]
    },
    {
      "cell_type": "code",
      "execution_count": 95,
      "metadata": {},
      "outputs": [
        {
          "output_type": "execute_result",
          "data": {
            "text/plain": [
              "[array([[1.4208382]], dtype=float32), array([-0.10499997], dtype=float32)]"
            ]
          },
          "metadata": {},
          "execution_count": 95
        }
      ],
      "source": [
        "model.get_weights()"
      ]
    },
    {
      "cell_type": "code",
      "execution_count": 109,
      "metadata": {},
      "outputs": [
        {
          "output_type": "execute_result",
          "data": {
            "text/plain": [
              "[<tensorflow.python.keras.layers.core.Dense at 0x15bc9b6a0>]"
            ]
          },
          "metadata": {},
          "execution_count": 109
        }
      ],
      "source": [
        "model.layers"
      ]
    },
    {
      "cell_type": "code",
      "execution_count": null,
      "metadata": {},
      "outputs": [],
      "source": []
    }
  ]
}