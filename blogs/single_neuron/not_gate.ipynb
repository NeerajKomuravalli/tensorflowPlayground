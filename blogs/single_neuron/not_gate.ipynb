{
  "nbformat": 4,
  "nbformat_minor": 0,
  "metadata": {
    "colab": {
      "name": "not_gate.ipynb",
      "provenance": []
    },
    "kernelspec": {
      "name": "python3",
      "display_name": "Python 3.8.2 64-bit ('coursera_tensorflow_venv': venv)"
    },
    "language_info": {
      "name": "python",
      "version": "3.8.2"
    },
    "interpreter": {
      "hash": "c05f7f5b7449b362e25f922c76429131874e0839c45bc04f41f76db7906a2c56"
    }
  },
  "cells": [
    {
      "cell_type": "code",
      "metadata": {
        "id": "DUb-67Xamo14"
      },
      "source": [
        "import tensorflow as tf\n",
        "import numpy as np "
      ],
      "execution_count": 1,
      "outputs": []
    },
    {
      "cell_type": "code",
      "execution_count": 3,
      "metadata": {},
      "outputs": [],
      "source": [
        "tf.keras.backend.set_floatx(\n",
        "    'float64'\n",
        ")"
      ]
    },
    {
      "cell_type": "code",
      "metadata": {
        "id": "icP8eTccnbYS"
      },
      "source": [
        "X = np.array(range(0, 1010, 10))/1000\n",
        "Y = []\n",
        "for i in X:\n",
        "  if i <= 0.3:\n",
        "    Y.append([1])\n",
        "  else:\n",
        "    Y.append([0])\n",
        "\n",
        "X = X.reshape(101, 1)\n",
        "Y = np.array(Y)\n",
        "\n",
        "shuffler = np.random.permutation(len(Y))\n",
        "X = X[shuffler]\n",
        "Y = Y[shuffler]"
      ],
      "execution_count": 121,
      "outputs": []
    },
    {
      "cell_type": "code",
      "metadata": {
        "id": "_YRR3TOXqIU_"
      },
      "source": [
        "train_data_size = 80\n",
        "\n",
        "X_train = X[:train_data_size]\n",
        "X_val = X[train_data_size:]\n",
        "\n",
        "Y_train = Y[:train_data_size]\n",
        "Y_val = Y[train_data_size:]"
      ],
      "execution_count": 122,
      "outputs": []
    },
    {
      "cell_type": "markdown",
      "metadata": {
        "id": "a4hOcVU2sVnm"
      },
      "source": [
        "All losses don't work well and use of bias also plays a role :\n",
        "\n",
        "1. binary_crossentropy => performs very bad\n",
        "2. mae + bias => works great\n",
        "3. mae + w/o bias => works very bad\n",
        "4. mse + bias => works great\n",
        "5. mse + w/o bias => works very bad"
      ]
    },
    {
      "cell_type": "code",
      "metadata": {
        "colab": {
          "base_uri": "https://localhost:8080/"
        },
        "id": "vOX6Rql_mp9j",
        "outputId": "02e0988b-5ea5-4613-fec4-10476ce23632"
      },
      "source": [
        "model = tf.keras.Sequential([\n",
        "                             tf.keras.layers.Dense(1, input_shape=[1], activation=\"sigmoid\", use_bias=True)\n",
        "])\n",
        "model.compile(\n",
        "    loss=\"mse\", \n",
        "    optimizer=tf.keras.optimizers.SGD(learning_rate=1e-2, momentum=0.9),\n",
        "    metrics=[\"accuracy\"]\n",
        ")\n",
        "model.summary()"
      ],
      "execution_count": 123,
      "outputs": [
        {
          "output_type": "stream",
          "name": "stdout",
          "text": [
            "Model: \"sequential_14\"\n_________________________________________________________________\nLayer (type)                 Output Shape              Param #   \n=================================================================\ndense_14 (Dense)             (None, 1)                 2         \n=================================================================\nTotal params: 2\nTrainable params: 2\nNon-trainable params: 0\n_________________________________________________________________\n"
          ]
        }
      ]
    },
    {
      "source": [
        "## Rigging the model"
      ],
      "cell_type": "markdown",
      "metadata": {}
    },
    {
      "cell_type": "code",
      "execution_count": 124,
      "metadata": {},
      "outputs": [],
      "source": [
        "# model.layers[0].set_weights([np.reshape(np.array([-50]), (1,1)), np.array([10])])"
      ]
    },
    {
      "cell_type": "code",
      "metadata": {
        "colab": {
          "base_uri": "https://localhost:8080/"
        },
        "id": "b5lHArVUmtje",
        "outputId": "bcb5610a-edcf-441d-f5c4-d1214e05473a",
        "tags": [
          "outputPrepend"
        ]
      },
      "source": [
        "model.fit(x=X_train, y=Y_train, epochs=500, validation_data=(X_val, Y_val))"
      ],
      "execution_count": 125,
      "outputs": [
        {
          "output_type": "stream",
          "name": "stdout",
          "text": [
            "==========================] - 0s 29ms/step - loss: 0.0880 - accuracy: 0.9234 - val_loss: 0.1107 - val_accuracy: 0.9048\n",
            "Epoch 361/500\n",
            "3/3 [==============================] - 0s 23ms/step - loss: 0.0902 - accuracy: 0.9117 - val_loss: 0.1105 - val_accuracy: 0.9048\n",
            "Epoch 362/500\n",
            "3/3 [==============================] - 0s 23ms/step - loss: 0.0873 - accuracy: 0.9312 - val_loss: 0.1104 - val_accuracy: 0.9048\n",
            "Epoch 363/500\n",
            "3/3 [==============================] - 0s 23ms/step - loss: 0.0859 - accuracy: 0.9414 - val_loss: 0.1103 - val_accuracy: 0.9048\n",
            "Epoch 364/500\n",
            "3/3 [==============================] - 0s 23ms/step - loss: 0.0872 - accuracy: 0.9453 - val_loss: 0.1102 - val_accuracy: 0.9048\n",
            "Epoch 365/500\n",
            "3/3 [==============================] - 0s 22ms/step - loss: 0.0874 - accuracy: 0.9453 - val_loss: 0.1100 - val_accuracy: 0.9048\n",
            "Epoch 366/500\n",
            "3/3 [==============================] - 0s 23ms/step - loss: 0.0846 - accuracy: 0.9414 - val_loss: 0.1099 - val_accuracy: 0.9048\n",
            "Epoch 367/500\n",
            "3/3 [==============================] - 0s 24ms/step - loss: 0.0887 - accuracy: 0.9375 - val_loss: 0.1098 - val_accuracy: 0.9048\n",
            "Epoch 368/500\n",
            "3/3 [==============================] - 0s 23ms/step - loss: 0.0832 - accuracy: 0.9492 - val_loss: 0.1097 - val_accuracy: 0.9048\n",
            "Epoch 369/500\n",
            "3/3 [==============================] - 0s 23ms/step - loss: 0.0940 - accuracy: 0.9219 - val_loss: 0.1096 - val_accuracy: 0.9048\n",
            "Epoch 370/500\n",
            "3/3 [==============================] - 0s 24ms/step - loss: 0.0860 - accuracy: 0.9414 - val_loss: 0.1095 - val_accuracy: 0.9048\n",
            "Epoch 371/500\n",
            "3/3 [==============================] - 0s 33ms/step - loss: 0.0864 - accuracy: 0.9453 - val_loss: 0.1094 - val_accuracy: 0.9048\n",
            "Epoch 372/500\n",
            "3/3 [==============================] - 0s 25ms/step - loss: 0.0876 - accuracy: 0.9375 - val_loss: 0.1093 - val_accuracy: 0.9048\n",
            "Epoch 373/500\n",
            "3/3 [==============================] - 0s 22ms/step - loss: 0.0938 - accuracy: 0.9219 - val_loss: 0.1092 - val_accuracy: 0.9048\n",
            "Epoch 374/500\n",
            "3/3 [==============================] - 0s 24ms/step - loss: 0.0794 - accuracy: 0.9453 - val_loss: 0.1092 - val_accuracy: 0.9048\n",
            "Epoch 375/500\n",
            "3/3 [==============================] - 0s 26ms/step - loss: 0.0929 - accuracy: 0.9219 - val_loss: 0.1091 - val_accuracy: 0.9048\n",
            "Epoch 376/500\n",
            "3/3 [==============================] - 0s 28ms/step - loss: 0.0852 - accuracy: 0.9375 - val_loss: 0.1090 - val_accuracy: 0.9048\n",
            "Epoch 377/500\n",
            "3/3 [==============================] - 0s 26ms/step - loss: 0.0815 - accuracy: 0.9531 - val_loss: 0.1090 - val_accuracy: 0.9048\n",
            "Epoch 378/500\n",
            "3/3 [==============================] - 0s 27ms/step - loss: 0.0930 - accuracy: 0.9219 - val_loss: 0.1089 - val_accuracy: 0.9048\n",
            "Epoch 379/500\n",
            "3/3 [==============================] - 0s 26ms/step - loss: 0.0901 - accuracy: 0.9297 - val_loss: 0.1088 - val_accuracy: 0.9048\n",
            "Epoch 380/500\n",
            "3/3 [==============================] - 0s 26ms/step - loss: 0.0859 - accuracy: 0.9453 - val_loss: 0.1088 - val_accuracy: 0.9048\n",
            "Epoch 381/500\n",
            "3/3 [==============================] - 0s 26ms/step - loss: 0.0842 - accuracy: 0.9531 - val_loss: 0.1087 - val_accuracy: 0.9048\n",
            "Epoch 382/500\n",
            "3/3 [==============================] - 0s 26ms/step - loss: 0.0904 - accuracy: 0.9453 - val_loss: 0.1085 - val_accuracy: 0.9048\n",
            "Epoch 383/500\n",
            "3/3 [==============================] - 0s 26ms/step - loss: 0.0857 - accuracy: 0.9258 - val_loss: 0.1084 - val_accuracy: 0.9048\n",
            "Epoch 384/500\n",
            "3/3 [==============================] - 0s 25ms/step - loss: 0.0827 - accuracy: 0.9531 - val_loss: 0.1083 - val_accuracy: 0.9048\n",
            "Epoch 385/500\n",
            "3/3 [==============================] - 0s 26ms/step - loss: 0.0816 - accuracy: 0.9492 - val_loss: 0.1082 - val_accuracy: 0.9048\n",
            "Epoch 386/500\n",
            "3/3 [==============================] - 0s 25ms/step - loss: 0.0857 - accuracy: 0.9453 - val_loss: 0.1080 - val_accuracy: 0.9048\n",
            "Epoch 387/500\n",
            "3/3 [==============================] - 0s 26ms/step - loss: 0.0834 - accuracy: 0.9414 - val_loss: 0.1079 - val_accuracy: 0.9048\n",
            "Epoch 388/500\n",
            "3/3 [==============================] - 0s 26ms/step - loss: 0.0825 - accuracy: 0.9570 - val_loss: 0.1078 - val_accuracy: 0.9048\n",
            "Epoch 389/500\n",
            "3/3 [==============================] - 0s 26ms/step - loss: 0.0914 - accuracy: 0.9375 - val_loss: 0.1076 - val_accuracy: 0.9048\n",
            "Epoch 390/500\n",
            "3/3 [==============================] - 0s 26ms/step - loss: 0.0860 - accuracy: 0.9258 - val_loss: 0.1075 - val_accuracy: 0.9048\n",
            "Epoch 391/500\n",
            "3/3 [==============================] - 0s 25ms/step - loss: 0.0880 - accuracy: 0.9336 - val_loss: 0.1074 - val_accuracy: 0.9048\n",
            "Epoch 392/500\n",
            "3/3 [==============================] - 0s 26ms/step - loss: 0.0921 - accuracy: 0.9375 - val_loss: 0.1073 - val_accuracy: 0.9048\n",
            "Epoch 393/500\n",
            "3/3 [==============================] - 0s 25ms/step - loss: 0.0837 - accuracy: 0.9531 - val_loss: 0.1072 - val_accuracy: 0.9048\n",
            "Epoch 394/500\n",
            "3/3 [==============================] - 0s 26ms/step - loss: 0.0922 - accuracy: 0.9297 - val_loss: 0.1071 - val_accuracy: 0.9048\n",
            "Epoch 395/500\n",
            "3/3 [==============================] - 0s 27ms/step - loss: 0.0854 - accuracy: 0.9375 - val_loss: 0.1070 - val_accuracy: 0.9048\n",
            "Epoch 396/500\n",
            "3/3 [==============================] - 0s 29ms/step - loss: 0.0924 - accuracy: 0.9258 - val_loss: 0.1069 - val_accuracy: 0.9048\n",
            "Epoch 397/500\n",
            "3/3 [==============================] - 0s 23ms/step - loss: 0.0845 - accuracy: 0.9453 - val_loss: 0.1068 - val_accuracy: 0.9048\n",
            "Epoch 398/500\n",
            "3/3 [==============================] - 0s 25ms/step - loss: 0.0899 - accuracy: 0.9336 - val_loss: 0.1067 - val_accuracy: 0.9048\n",
            "Epoch 399/500\n",
            "3/3 [==============================] - 0s 23ms/step - loss: 0.0902 - accuracy: 0.9180 - val_loss: 0.1066 - val_accuracy: 0.9048\n",
            "Epoch 400/500\n",
            "3/3 [==============================] - 0s 24ms/step - loss: 0.0897 - accuracy: 0.9180 - val_loss: 0.1065 - val_accuracy: 0.9048\n",
            "Epoch 401/500\n",
            "3/3 [==============================] - 0s 25ms/step - loss: 0.0908 - accuracy: 0.9297 - val_loss: 0.1064 - val_accuracy: 0.9048\n",
            "Epoch 402/500\n",
            "3/3 [==============================] - 0s 23ms/step - loss: 0.0844 - accuracy: 0.9258 - val_loss: 0.1063 - val_accuracy: 0.9048\n",
            "Epoch 403/500\n",
            "3/3 [==============================] - 0s 24ms/step - loss: 0.0846 - accuracy: 0.9531 - val_loss: 0.1063 - val_accuracy: 0.9048\n",
            "Epoch 404/500\n",
            "3/3 [==============================] - 0s 24ms/step - loss: 0.0888 - accuracy: 0.9297 - val_loss: 0.1062 - val_accuracy: 0.9048\n",
            "Epoch 405/500\n",
            "3/3 [==============================] - 0s 23ms/step - loss: 0.0858 - accuracy: 0.9375 - val_loss: 0.1061 - val_accuracy: 0.9048\n",
            "Epoch 406/500\n",
            "3/3 [==============================] - 0s 26ms/step - loss: 0.0766 - accuracy: 0.9609 - val_loss: 0.1060 - val_accuracy: 0.9048\n",
            "Epoch 407/500\n",
            "3/3 [==============================] - 0s 34ms/step - loss: 0.0870 - accuracy: 0.9375 - val_loss: 0.1059 - val_accuracy: 0.9048\n",
            "Epoch 408/500\n",
            "3/3 [==============================] - 0s 27ms/step - loss: 0.0887 - accuracy: 0.9297 - val_loss: 0.1057 - val_accuracy: 0.9048\n",
            "Epoch 409/500\n",
            "3/3 [==============================] - 0s 26ms/step - loss: 0.0814 - accuracy: 0.9453 - val_loss: 0.1057 - val_accuracy: 0.9048\n",
            "Epoch 410/500\n",
            "3/3 [==============================] - 0s 27ms/step - loss: 0.0862 - accuracy: 0.9492 - val_loss: 0.1055 - val_accuracy: 0.9048\n",
            "Epoch 411/500\n",
            "3/3 [==============================] - 0s 26ms/step - loss: 0.0863 - accuracy: 0.9258 - val_loss: 0.1054 - val_accuracy: 0.9048\n",
            "Epoch 412/500\n",
            "3/3 [==============================] - 0s 28ms/step - loss: 0.0891 - accuracy: 0.9375 - val_loss: 0.1053 - val_accuracy: 0.9048\n",
            "Epoch 413/500\n",
            "3/3 [==============================] - 0s 26ms/step - loss: 0.0844 - accuracy: 0.9258 - val_loss: 0.1052 - val_accuracy: 0.9048\n",
            "Epoch 414/500\n",
            "3/3 [==============================] - 0s 26ms/step - loss: 0.0853 - accuracy: 0.9375 - val_loss: 0.1051 - val_accuracy: 0.9048\n",
            "Epoch 415/500\n",
            "3/3 [==============================] - 0s 27ms/step - loss: 0.0853 - accuracy: 0.9258 - val_loss: 0.1049 - val_accuracy: 0.9048\n",
            "Epoch 416/500\n",
            "3/3 [==============================] - 0s 25ms/step - loss: 0.0871 - accuracy: 0.9438 - val_loss: 0.1048 - val_accuracy: 0.9048\n",
            "Epoch 417/500\n",
            "3/3 [==============================] - 0s 26ms/step - loss: 0.0832 - accuracy: 0.9398 - val_loss: 0.1047 - val_accuracy: 0.9048\n",
            "Epoch 418/500\n",
            "3/3 [==============================] - 0s 26ms/step - loss: 0.0907 - accuracy: 0.9438 - val_loss: 0.1046 - val_accuracy: 0.9048\n",
            "Epoch 419/500\n",
            "3/3 [==============================] - 0s 26ms/step - loss: 0.0767 - accuracy: 0.9633 - val_loss: 0.1045 - val_accuracy: 0.9048\n",
            "Epoch 420/500\n",
            "3/3 [==============================] - 0s 26ms/step - loss: 0.0840 - accuracy: 0.9516 - val_loss: 0.1044 - val_accuracy: 0.9048\n",
            "Epoch 421/500\n",
            "3/3 [==============================] - 0s 26ms/step - loss: 0.0871 - accuracy: 0.9438 - val_loss: 0.1043 - val_accuracy: 0.9048\n",
            "Epoch 422/500\n",
            "3/3 [==============================] - 0s 27ms/step - loss: 0.0879 - accuracy: 0.9438 - val_loss: 0.1042 - val_accuracy: 0.9048\n",
            "Epoch 423/500\n",
            "3/3 [==============================] - 0s 27ms/step - loss: 0.0919 - accuracy: 0.9281 - val_loss: 0.1042 - val_accuracy: 0.9048\n",
            "Epoch 424/500\n",
            "3/3 [==============================] - 0s 26ms/step - loss: 0.0897 - accuracy: 0.9398 - val_loss: 0.1041 - val_accuracy: 0.9048\n",
            "Epoch 425/500\n",
            "3/3 [==============================] - 0s 25ms/step - loss: 0.0786 - accuracy: 0.9594 - val_loss: 0.1040 - val_accuracy: 0.9048\n",
            "Epoch 426/500\n",
            "3/3 [==============================] - 0s 28ms/step - loss: 0.0846 - accuracy: 0.9516 - val_loss: 0.1039 - val_accuracy: 0.9048\n",
            "Epoch 427/500\n",
            "3/3 [==============================] - 0s 27ms/step - loss: 0.0825 - accuracy: 0.9438 - val_loss: 0.1038 - val_accuracy: 0.9048\n",
            "Epoch 428/500\n",
            "3/3 [==============================] - 0s 25ms/step - loss: 0.0792 - accuracy: 0.9555 - val_loss: 0.1037 - val_accuracy: 0.9048\n",
            "Epoch 429/500\n",
            "3/3 [==============================] - 0s 26ms/step - loss: 0.0835 - accuracy: 0.9516 - val_loss: 0.1036 - val_accuracy: 0.9048\n",
            "Epoch 430/500\n",
            "3/3 [==============================] - 0s 27ms/step - loss: 0.0808 - accuracy: 0.9594 - val_loss: 0.1035 - val_accuracy: 0.9048\n",
            "Epoch 431/500\n",
            "3/3 [==============================] - 0s 26ms/step - loss: 0.0821 - accuracy: 0.9594 - val_loss: 0.1034 - val_accuracy: 0.9048\n",
            "Epoch 432/500\n",
            "3/3 [==============================] - 0s 26ms/step - loss: 0.0798 - accuracy: 0.9633 - val_loss: 0.1033 - val_accuracy: 0.9048\n",
            "Epoch 433/500\n",
            "3/3 [==============================] - 0s 26ms/step - loss: 0.0840 - accuracy: 0.9438 - val_loss: 0.1032 - val_accuracy: 0.9048\n",
            "Epoch 434/500\n",
            "3/3 [==============================] - 0s 26ms/step - loss: 0.0823 - accuracy: 0.9477 - val_loss: 0.1031 - val_accuracy: 0.9048\n",
            "Epoch 435/500\n",
            "3/3 [==============================] - 0s 26ms/step - loss: 0.0830 - accuracy: 0.9359 - val_loss: 0.1029 - val_accuracy: 0.9048\n",
            "Epoch 436/500\n",
            "3/3 [==============================] - 0s 26ms/step - loss: 0.0837 - accuracy: 0.9359 - val_loss: 0.1028 - val_accuracy: 0.9048\n",
            "Epoch 437/500\n",
            "3/3 [==============================] - 0s 25ms/step - loss: 0.0883 - accuracy: 0.9398 - val_loss: 0.1027 - val_accuracy: 0.9048\n",
            "Epoch 438/500\n",
            "3/3 [==============================] - 0s 28ms/step - loss: 0.0833 - accuracy: 0.9438 - val_loss: 0.1026 - val_accuracy: 0.9048\n",
            "Epoch 439/500\n",
            "3/3 [==============================] - 0s 26ms/step - loss: 0.0833 - accuracy: 0.9516 - val_loss: 0.1025 - val_accuracy: 0.9048\n",
            "Epoch 440/500\n",
            "3/3 [==============================] - 0s 120ms/step - loss: 0.0916 - accuracy: 0.9438 - val_loss: 0.1024 - val_accuracy: 0.9048\n",
            "Epoch 441/500\n",
            "3/3 [==============================] - 0s 27ms/step - loss: 0.0838 - accuracy: 0.9359 - val_loss: 0.1023 - val_accuracy: 0.9048\n",
            "Epoch 442/500\n",
            "3/3 [==============================] - 0s 25ms/step - loss: 0.0802 - accuracy: 0.9516 - val_loss: 0.1022 - val_accuracy: 0.9048\n",
            "Epoch 443/500\n",
            "3/3 [==============================] - 0s 38ms/step - loss: 0.0862 - accuracy: 0.9516 - val_loss: 0.1021 - val_accuracy: 0.9048\n",
            "Epoch 444/500\n",
            "3/3 [==============================] - 0s 34ms/step - loss: 0.0806 - accuracy: 0.9672 - val_loss: 0.1020 - val_accuracy: 0.9048\n",
            "Epoch 445/500\n",
            "3/3 [==============================] - 0s 27ms/step - loss: 0.0866 - accuracy: 0.9516 - val_loss: 0.1020 - val_accuracy: 0.9048\n",
            "Epoch 446/500\n",
            "3/3 [==============================] - 0s 26ms/step - loss: 0.0763 - accuracy: 0.9438 - val_loss: 0.1019 - val_accuracy: 0.9048\n",
            "Epoch 447/500\n",
            "3/3 [==============================] - 0s 26ms/step - loss: 0.0824 - accuracy: 0.9438 - val_loss: 0.1018 - val_accuracy: 0.9048\n",
            "Epoch 448/500\n",
            "3/3 [==============================] - 0s 26ms/step - loss: 0.0830 - accuracy: 0.9594 - val_loss: 0.1018 - val_accuracy: 0.9048\n",
            "Epoch 449/500\n",
            "3/3 [==============================] - 0s 27ms/step - loss: 0.0816 - accuracy: 0.9438 - val_loss: 0.1017 - val_accuracy: 0.9048\n",
            "Epoch 450/500\n",
            "3/3 [==============================] - 0s 25ms/step - loss: 0.0855 - accuracy: 0.9594 - val_loss: 0.1016 - val_accuracy: 0.9048\n",
            "Epoch 451/500\n",
            "3/3 [==============================] - 0s 27ms/step - loss: 0.0790 - accuracy: 0.9594 - val_loss: 0.1016 - val_accuracy: 0.9048\n",
            "Epoch 452/500\n",
            "3/3 [==============================] - 0s 28ms/step - loss: 0.0813 - accuracy: 0.9555 - val_loss: 0.1015 - val_accuracy: 0.9048\n",
            "Epoch 453/500\n",
            "3/3 [==============================] - 0s 30ms/step - loss: 0.0762 - accuracy: 0.9672 - val_loss: 0.1014 - val_accuracy: 0.9048\n",
            "Epoch 454/500\n",
            "3/3 [==============================] - 0s 26ms/step - loss: 0.0779 - accuracy: 0.9516 - val_loss: 0.1013 - val_accuracy: 0.9048\n",
            "Epoch 455/500\n",
            "3/3 [==============================] - 0s 25ms/step - loss: 0.0830 - accuracy: 0.9438 - val_loss: 0.1012 - val_accuracy: 0.9048\n",
            "Epoch 456/500\n",
            "3/3 [==============================] - 0s 26ms/step - loss: 0.0815 - accuracy: 0.9555 - val_loss: 0.1011 - val_accuracy: 0.9048\n",
            "Epoch 457/500\n",
            "3/3 [==============================] - 0s 26ms/step - loss: 0.0799 - accuracy: 0.9555 - val_loss: 0.1010 - val_accuracy: 0.9048\n",
            "Epoch 458/500\n",
            "3/3 [==============================] - 0s 27ms/step - loss: 0.0824 - accuracy: 0.9516 - val_loss: 0.1010 - val_accuracy: 0.9048\n",
            "Epoch 459/500\n",
            "3/3 [==============================] - 0s 27ms/step - loss: 0.0849 - accuracy: 0.9398 - val_loss: 0.1008 - val_accuracy: 0.9048\n",
            "Epoch 460/500\n",
            "3/3 [==============================] - 0s 25ms/step - loss: 0.0868 - accuracy: 0.9516 - val_loss: 0.1008 - val_accuracy: 0.9048\n",
            "Epoch 461/500\n",
            "3/3 [==============================] - 0s 25ms/step - loss: 0.0799 - accuracy: 0.9633 - val_loss: 0.1007 - val_accuracy: 0.9048\n",
            "Epoch 462/500\n",
            "3/3 [==============================] - 0s 26ms/step - loss: 0.0788 - accuracy: 0.9594 - val_loss: 0.1006 - val_accuracy: 0.9048\n",
            "Epoch 463/500\n",
            "3/3 [==============================] - 0s 26ms/step - loss: 0.0790 - accuracy: 0.9594 - val_loss: 0.1005 - val_accuracy: 0.9048\n",
            "Epoch 464/500\n",
            "3/3 [==============================] - 0s 25ms/step - loss: 0.0801 - accuracy: 0.9555 - val_loss: 0.1004 - val_accuracy: 0.9048\n",
            "Epoch 465/500\n",
            "3/3 [==============================] - 0s 27ms/step - loss: 0.0879 - accuracy: 0.9438 - val_loss: 0.1003 - val_accuracy: 0.9048\n",
            "Epoch 466/500\n",
            "3/3 [==============================] - 0s 27ms/step - loss: 0.0792 - accuracy: 0.9477 - val_loss: 0.1002 - val_accuracy: 0.9048\n",
            "Epoch 467/500\n",
            "3/3 [==============================] - 0s 26ms/step - loss: 0.0854 - accuracy: 0.9359 - val_loss: 0.1001 - val_accuracy: 0.9048\n",
            "Epoch 468/500\n",
            "3/3 [==============================] - 0s 27ms/step - loss: 0.0797 - accuracy: 0.9555 - val_loss: 0.1001 - val_accuracy: 0.9048\n",
            "Epoch 469/500\n",
            "3/3 [==============================] - 0s 27ms/step - loss: 0.0849 - accuracy: 0.9438 - val_loss: 0.1000 - val_accuracy: 0.9048\n",
            "Epoch 470/500\n",
            "3/3 [==============================] - 0s 25ms/step - loss: 0.0781 - accuracy: 0.9633 - val_loss: 0.1000 - val_accuracy: 0.9048\n",
            "Epoch 471/500\n",
            "3/3 [==============================] - 0s 26ms/step - loss: 0.0814 - accuracy: 0.9438 - val_loss: 0.0999 - val_accuracy: 0.9048\n",
            "Epoch 472/500\n",
            "3/3 [==============================] - 0s 26ms/step - loss: 0.0793 - accuracy: 0.9555 - val_loss: 0.0999 - val_accuracy: 0.9048\n",
            "Epoch 473/500\n",
            "3/3 [==============================] - 0s 26ms/step - loss: 0.0820 - accuracy: 0.9398 - val_loss: 0.0998 - val_accuracy: 0.9048\n",
            "Epoch 474/500\n",
            "3/3 [==============================] - 0s 26ms/step - loss: 0.0839 - accuracy: 0.9398 - val_loss: 0.0997 - val_accuracy: 0.9048\n",
            "Epoch 475/500\n",
            "3/3 [==============================] - 0s 26ms/step - loss: 0.0855 - accuracy: 0.9477 - val_loss: 0.0996 - val_accuracy: 0.9048\n",
            "Epoch 476/500\n",
            "3/3 [==============================] - 0s 27ms/step - loss: 0.0822 - accuracy: 0.9477 - val_loss: 0.0996 - val_accuracy: 0.9048\n",
            "Epoch 477/500\n",
            "3/3 [==============================] - 0s 26ms/step - loss: 0.0806 - accuracy: 0.9516 - val_loss: 0.0996 - val_accuracy: 0.9048\n",
            "Epoch 478/500\n",
            "3/3 [==============================] - 0s 26ms/step - loss: 0.0846 - accuracy: 0.9281 - val_loss: 0.0995 - val_accuracy: 0.9048\n",
            "Epoch 479/500\n",
            "3/3 [==============================] - 0s 26ms/step - loss: 0.0815 - accuracy: 0.9516 - val_loss: 0.0995 - val_accuracy: 0.9048\n",
            "Epoch 480/500\n",
            "3/3 [==============================] - 0s 25ms/step - loss: 0.0848 - accuracy: 0.9438 - val_loss: 0.0995 - val_accuracy: 0.9048\n",
            "Epoch 481/500\n",
            "3/3 [==============================] - 0s 34ms/step - loss: 0.0860 - accuracy: 0.9281 - val_loss: 0.0994 - val_accuracy: 0.9048\n",
            "Epoch 482/500\n",
            "3/3 [==============================] - 0s 27ms/step - loss: 0.0776 - accuracy: 0.9516 - val_loss: 0.0993 - val_accuracy: 0.9048\n",
            "Epoch 483/500\n",
            "3/3 [==============================] - 0s 26ms/step - loss: 0.0801 - accuracy: 0.9594 - val_loss: 0.0993 - val_accuracy: 0.9048\n",
            "Epoch 484/500\n",
            "3/3 [==============================] - 0s 28ms/step - loss: 0.0856 - accuracy: 0.9477 - val_loss: 0.0992 - val_accuracy: 0.9048\n",
            "Epoch 485/500\n",
            "3/3 [==============================] - 0s 27ms/step - loss: 0.0805 - accuracy: 0.9359 - val_loss: 0.0991 - val_accuracy: 0.9048\n",
            "Epoch 486/500\n",
            "3/3 [==============================] - 0s 26ms/step - loss: 0.0806 - accuracy: 0.9555 - val_loss: 0.0990 - val_accuracy: 0.9048\n",
            "Epoch 487/500\n",
            "3/3 [==============================] - 0s 26ms/step - loss: 0.0807 - accuracy: 0.9359 - val_loss: 0.0989 - val_accuracy: 0.9048\n",
            "Epoch 488/500\n",
            "3/3 [==============================] - 0s 26ms/step - loss: 0.0796 - accuracy: 0.9555 - val_loss: 0.0988 - val_accuracy: 0.9048\n",
            "Epoch 489/500\n",
            "3/3 [==============================] - 0s 26ms/step - loss: 0.0826 - accuracy: 0.9477 - val_loss: 0.0987 - val_accuracy: 0.9048\n",
            "Epoch 490/500\n",
            "3/3 [==============================] - 0s 27ms/step - loss: 0.0802 - accuracy: 0.9516 - val_loss: 0.0987 - val_accuracy: 0.9048\n",
            "Epoch 491/500\n",
            "3/3 [==============================] - 0s 26ms/step - loss: 0.0874 - accuracy: 0.9398 - val_loss: 0.0986 - val_accuracy: 0.9048\n",
            "Epoch 492/500\n",
            "3/3 [==============================] - 0s 28ms/step - loss: 0.0800 - accuracy: 0.9516 - val_loss: 0.0985 - val_accuracy: 0.9048\n",
            "Epoch 493/500\n",
            "3/3 [==============================] - 0s 27ms/step - loss: 0.0851 - accuracy: 0.9359 - val_loss: 0.0984 - val_accuracy: 0.9048\n",
            "Epoch 494/500\n",
            "3/3 [==============================] - 0s 26ms/step - loss: 0.0838 - accuracy: 0.9359 - val_loss: 0.0984 - val_accuracy: 0.9048\n",
            "Epoch 495/500\n",
            "3/3 [==============================] - 0s 26ms/step - loss: 0.0848 - accuracy: 0.9516 - val_loss: 0.0983 - val_accuracy: 0.9048\n",
            "Epoch 496/500\n",
            "3/3 [==============================] - 0s 26ms/step - loss: 0.0842 - accuracy: 0.9398 - val_loss: 0.0983 - val_accuracy: 0.9048\n",
            "Epoch 497/500\n",
            "3/3 [==============================] - 0s 26ms/step - loss: 0.0817 - accuracy: 0.9477 - val_loss: 0.0982 - val_accuracy: 0.9048\n",
            "Epoch 498/500\n",
            "3/3 [==============================] - 0s 27ms/step - loss: 0.0751 - accuracy: 0.9555 - val_loss: 0.0982 - val_accuracy: 0.9048\n",
            "Epoch 499/500\n",
            "3/3 [==============================] - 0s 26ms/step - loss: 0.0779 - accuracy: 0.9672 - val_loss: 0.0981 - val_accuracy: 0.9048\n",
            "Epoch 500/500\n",
            "3/3 [==============================] - 0s 27ms/step - loss: 0.0817 - accuracy: 0.9477 - val_loss: 0.0981 - val_accuracy: 0.9048\n"
          ]
        },
        {
          "output_type": "execute_result",
          "data": {
            "text/plain": [
              "<tensorflow.python.keras.callbacks.History at 0x16448c640>"
            ]
          },
          "metadata": {},
          "execution_count": 125
        }
      ]
    },
    {
      "source": [
        "### Model weights"
      ],
      "cell_type": "markdown",
      "metadata": {}
    },
    {
      "cell_type": "code",
      "execution_count": 126,
      "metadata": {},
      "outputs": [
        {
          "output_type": "execute_result",
          "data": {
            "text/plain": [
              "[array([[-4.28135406]]), array([1.06761442])]"
            ]
          },
          "metadata": {},
          "execution_count": 126
        }
      ],
      "source": [
        "model.layers[0].get_weights()"
      ]
    },
    {
      "source": [
        "### Model weight shape"
      ],
      "cell_type": "markdown",
      "metadata": {}
    },
    {
      "cell_type": "code",
      "execution_count": null,
      "metadata": {},
      "outputs": [],
      "source": [
        "print(model.layers[0].get_weights()[0].shape)\n",
        "print(model.layers[0].get_weights()[1].shape)"
      ]
    },
    {
      "cell_type": "code",
      "metadata": {
        "colab": {
          "base_uri": "https://localhost:8080/"
        },
        "id": "TKl6BPcUm6YS",
        "outputId": "47d50bee-377a-4d45-f1a2-6b819be70736"
      },
      "source": [
        "model.predict_classes([0.24])"
      ],
      "execution_count": 130,
      "outputs": [
        {
          "output_type": "execute_result",
          "data": {
            "text/plain": [
              "array([[1]], dtype=int32)"
            ]
          },
          "metadata": {},
          "execution_count": 130
        }
      ]
    },
    {
      "cell_type": "code",
      "execution_count": 33,
      "metadata": {},
      "outputs": [
        {
          "output_type": "stream",
          "name": "stdout",
          "text": [
            "(1, 1)\n(1,)\n"
          ]
        }
      ],
      "source": []
    },
    {
      "cell_type": "code",
      "execution_count": 62,
      "metadata": {},
      "outputs": [
        {
          "output_type": "execute_result",
          "data": {
            "text/plain": [
              "[array([[-79.99172955]]), array([20.03258466])]"
            ]
          },
          "metadata": {},
          "execution_count": 62
        }
      ],
      "source": [
        "c"
      ]
    },
    {
      "cell_type": "code",
      "execution_count": 35,
      "metadata": {},
      "outputs": [
        {
          "output_type": "execute_result",
          "data": {
            "text/plain": [
              "[array([[-1.33053795]]), array([0.01149335])]"
            ]
          },
          "metadata": {},
          "execution_count": 35
        }
      ],
      "source": [
        "model.layers[0].get_weights()"
      ]
    },
    {
      "cell_type": "code",
      "execution_count": 60,
      "metadata": {},
      "outputs": [],
      "source": [
        "model.layers[0].set_weights([np.reshape(np.array([-80]), (1,1)), np.array([20])])"
      ]
    },
    {
      "cell_type": "code",
      "execution_count": 56,
      "metadata": {},
      "outputs": [
        {
          "output_type": "execute_result",
          "data": {
            "text/plain": [
              "array([[-80]])"
            ]
          },
          "metadata": {},
          "execution_count": 56
        }
      ],
      "source": [
        "np.reshape(np.array([-80]), (1,1))"
      ]
    },
    {
      "cell_type": "code",
      "execution_count": null,
      "metadata": {},
      "outputs": [],
      "source": []
    }
  ]
}